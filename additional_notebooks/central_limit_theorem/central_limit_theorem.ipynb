{
 "cells": [
  {
   "cell_type": "code",
   "execution_count": 1,
   "id": "fe658e33",
   "metadata": {},
   "outputs": [],
   "source": [
    "# %matplotlib inline\n",
    "import numpy as np\n",
    "import time\n",
    "import matplotlib.pyplot as plt\n",
    "import random\n",
    "from IPython import display"
   ]
  },
  {
   "cell_type": "markdown",
   "id": "90100baa",
   "metadata": {},
   "source": [
    "# Definicje funkcji, z których będziemy korzystać\n",
    "\n",
    "Do zrozumienia statystycznych symulacji nie jest konieczne rozumieć, jak poniższe funkcje zostały skonstruowane"
   ]
  },
  {
   "cell_type": "code",
   "execution_count": 2,
   "id": "1e0b56df",
   "metadata": {},
   "outputs": [],
   "source": [
    "def random_simulator(sim_type, **kwargs):\n",
    "    if sim_type == 'game':\n",
    "        score = kwargs.get('starting_score')\n",
    "        n_throws = kwargs.get('n_throws')\n",
    "        game_price = kwargs.get('game_price')\n",
    "        coin_results = random.choices([0, 1], k = 5)\n",
    "        for coin_result in coin_results:\n",
    "            if coin_result == 1:\n",
    "                break\n",
    "            else:\n",
    "                score = score*2\n",
    "        result = score - game_price\n",
    "    elif sim_type == 'coin_toss':\n",
    "        result = random.randrange(-1, 2, 2)\n",
    "    elif sim_type == 'normal':\n",
    "        n_digits = kwargs.get('n_digits')\n",
    "        result = round(random.gauss(0, 1), n_digits)\n",
    "    elif sim_type == 'multiple_coin_tosses':\n",
    "        result = 0\n",
    "        n_digits = kwargs.get('n_digits')\n",
    "        n_tosses = kwargs.get('n_tosses')\n",
    "        coin_results = random.choices([-1, 1], k = n_tosses)\n",
    "        for coin_result in coin_results:\n",
    "            result = result + coin_result\n",
    "    else:\n",
    "        result = None\n",
    "    return result"
   ]
  },
  {
   "cell_type": "code",
   "execution_count": 3,
   "id": "69d7a45f",
   "metadata": {},
   "outputs": [],
   "source": [
    "def simulation_histogram(sim_type, liczba_gier, left, right, top, bin_width, account_balance_display = True, **kwargs):\n",
    "    simulation_results = dict()\n",
    "\n",
    "    figure, ax = plt.subplots(figsize=(10, 8))\n",
    "\n",
    "    account_balance = 0\n",
    "\n",
    "    for i in range(liczba_gier+1):\n",
    "        if (i+1)%5 == 0:\n",
    "            ax.clear()\n",
    "        ax.texts = []\n",
    "        ax.set_ylim(bottom = 0, top = top)\n",
    "        ax.set_xlim(left = left, right = right)\n",
    "        game_result = random_simulator(sim_type, **kwargs)\n",
    "        account_balance += game_result\n",
    "        if simulation_results.get(game_result) is None:\n",
    "            simulation_results[game_result] = 1\n",
    "        else:\n",
    "            simulation_results[game_result] += 1\n",
    "        hist1 = ax.bar(list(simulation_results.keys()), list(simulation_results.values()), width=bin_width, edgecolor=\"white\", linewidth=0.7, color = 'blue')\n",
    "        if account_balance_display:\n",
    "          account_balance_text = ax.text(x = min(list(simulation_results.keys())), y = top*0.95, s = 'Account balance: ' + str(account_balance), \n",
    "                  bbox=dict(facecolor='white', alpha=1), fontsize = 'x-large')\n",
    "        games_n_text = ax.text(x = min(list(simulation_results.keys())), y = top*0.85, s = '# Games: ' + str(i), \n",
    "                 bbox=dict(facecolor='white', alpha=1), fontsize = 'x-large')\n",
    "        display.clear_output(wait=True)\n",
    "        display.display(figure)\n",
    "        time.sleep(0.02)\n",
    "    plt.close()"
   ]
  },
  {
   "cell_type": "markdown",
   "id": "1c340df3",
   "metadata": {},
   "source": [
    "# Rozkład normalny\n",
    "\n",
    "## Losujemy wielokrotnie zmienną o rozkładzie normalnym"
   ]
  },
  {
   "cell_type": "code",
   "execution_count": 4,
   "id": "735e9a5f",
   "metadata": {},
   "outputs": [
    {
     "data": {
      "image/png": "[encoded data removed]",
      "text/plain": [
       "<Figure size 720x576 with 1 Axes>"
      ]
     },
     "metadata": {},
     "output_type": "display_data"
    }
   ],
   "source": [
    "simulation_histogram('normal', 1000, -5, 5, 100, 0.08, account_balance_display = False, n_digits = 1)"
   ]
  },
  {
   "cell_type": "markdown",
   "id": "09d385e9",
   "metadata": {},
   "source": [
    "## Centralne Twierdzenie Graniczne\n",
    "\n",
    "Wobraź sobie prostą grę, w której rzucasz 100 razy monetą:\n",
    "\n",
    " - jeśli wypadł orzeł, wygrywasz 1 PLN\n",
    " - jeśli wypadła reszka, tracisz 1 PLN\n",
    " \n",
    "Na koniec patrzysz, ile w sumie zarobiłeś lub straciłeś.\n",
    "\n",
    "Na koniec wyobraź sobie, że coś takiego robi tysiące osób. Zobaczmy, jak będzie się zachowywał rozkład wyników takich wielu gier."
   ]
  },
  {
   "cell_type": "code",
   "execution_count": 5,
   "id": "c505a710",
   "metadata": {},
   "outputs": [
    {
     "data": {
      "image/png": "[encoded data removed]",
      "text/plain": [
       "<Figure size 720x576 with 1 Axes>"
      ]
     },
     "metadata": {},
     "output_type": "display_data"
    }
   ],
   "source": [
    "simulation_histogram('multiple_coin_tosses', 1000, -50, 50, 100, 0.8, account_balance_display = False, n_digits = 0, n_tosses = 100)"
   ]
  },
  {
   "cell_type": "markdown",
   "id": "d8e16f93",
   "metadata": {},
   "source": [
    "Wygląda to bardzo podobnie do rozkładu normalnego! Okazuje się, że jest takie twierdzenie - Centralne Twierdzenie Graniczne - które mówi o tym, że tak będzie. Dokładniej mówi ono o tym, że obserwując wielokrotnie taki sam eksperyment i sumując wyniki, nasza suma będzie miała w przybliżeniu rozkład normalny. Im więcej razy powtarzamy eksperyment, tym lepsze przybliżenie. Poniżej wyniki dla 10000 prób."
   ]
  },
  {
   "cell_type": "code",
   "execution_count": 6,
   "id": "d63231d2",
   "metadata": {},
   "outputs": [],
   "source": [
    "liczba_osob = 10000"
   ]
  },
  {
   "cell_type": "code",
   "execution_count": 7,
   "id": "6cbf4d57",
   "metadata": {},
   "outputs": [],
   "source": [
    "def account_balance_simulator(sim_type, n_games, **kwargs):\n",
    "    account_balance = 0\n",
    "    for i in range(n_games):\n",
    "        simulation_result = random_simulator(sim_type, **kwargs)\n",
    "        account_balance += simulation_result\n",
    "    return account_balance"
   ]
  },
  {
   "cell_type": "code",
   "execution_count": 8,
   "id": "4807f254",
   "metadata": {},
   "outputs": [],
   "source": [
    "account_results = dict()\n",
    "for i in range(liczba_osob):\n",
    "    account_balance = account_balance_simulator('coin_toss', 100)\n",
    "    if account_results.get(account_balance) is None:\n",
    "        account_results[account_balance] = 1\n",
    "    else:\n",
    "        account_results[account_balance] += 1"
   ]
  },
  {
   "cell_type": "code",
   "execution_count": 9,
   "id": "970872c5",
   "metadata": {},
   "outputs": [
    {
     "data": {
      "image/png": "[encoded data removed]",
      "text/plain": [
       "<Figure size 720x576 with 1 Axes>"
      ]
     },
     "metadata": {},
     "output_type": "display_data"
    }
   ],
   "source": [
    "fig_normal, ax_normal = plt.subplots(figsize=(10, 8))\n",
    "hist_normal = ax_normal.bar(list(account_results.keys()), list(account_results.values()), width=1, edgecolor=\"blue\", linewidth=0.7, color = 'blue')\n",
    "display.display(fig_normal)\n",
    "plt.close()"
   ]
  },
  {
   "cell_type": "code",
   "execution_count": null,
   "id": "225081d1",
   "metadata": {},
   "outputs": [],
   "source": []
  }
 ],
 "metadata": {
  "kernelspec": {
   "display_name": "Python 3",
   "language": "python",
   "name": "python3"
  },
  "language_info": {
   "codemirror_mode": {
    "name": "ipython",
    "version": 3
   },
   "file_extension": ".py",
   "mimetype": "text/x-python",
   "name": "python",
   "nbconvert_exporter": "python",
   "pygments_lexer": "ipython3",
   "version": "3.9.5"
  }
 },
 "nbformat": 4,
 "nbformat_minor": 5
}
