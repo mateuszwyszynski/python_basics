{
 "cells": [
  {
   "cell_type": "code",
   "execution_count": null,
   "id": "34e46b98",
   "metadata": {},
   "outputs": [],
   "source": [
    "%%capture\n",
    "!pip install otter-grader\n",
    "\n",
    "files = \"https://github.com/mateuszwyszynski/python_basics/raw/main/additional_notebooks/tuple/tests.zip\"\n",
    "!wget -O ./tests.zip $files && unzip -o tests.zip\n",
    "\n",
    "import otter\n",
    "grader = otter.Notebook(colab = True)"
   ]
  },
  {
   "cell_type": "markdown",
   "id": "98b0e20e",
   "metadata": {},
   "source": [
    "W poprzednich tygodniach poznaliście pythonowe listy, które zapisywaliśmy w nawiasach kwadratowych, np. `[5, 2, 12]` albo `['ala', 'ma', 'kota']`. W pythonie istnieje podobny typ obiektów, a konkretnie tuple (czasami po polsku nazywane krotkami). Inicjalizuje się je nawiasami okrągłymi, np. `(5, 2 ,12)` lub `('ala', 'ma', 'kota')`.\n",
    "Tupla różni się od listy głównie tym, że jest niezmienialna - nie można do niej dodawać elementów, ani ich edytować. Tak samo jak listy, jedna tupla może przechowywać obiekty różnych typów, np. `int` oraz `str`. Wtedy możemy dla przykładu zapisać chociażby `('Audi', 1998)`."
   ]
  },
  {
   "cell_type": "markdown",
   "id": "e4f5fdb5",
   "metadata": {},
   "source": [
    "# Zadanie"
   ]
  },
  {
   "cell_type": "markdown",
   "id": "954f49f2",
   "metadata": {},
   "source": [
    "Mamy spis przelewów w danym miesiącu, który jest listą, w środku której znajdują się tuple. Jedna tupla to para, w której pierwszy element to imię klienta, a drugi to ilość pieniędzy, które dostaje lub wydaje. Dodatnia liczba oznacza, że klient dostał pieniądze, a ujemna, że wydał. Może to wyglądać następująco: `[('ewa', 200), ('maurycy', -100), ('adam', 500)]`. Napisz funkcję, która jako argument przyjmuje całą taką listę, a zwraca liczbę, która mówi nam, o ile zmieniło się saldo w sumie wszystkich klientów w danym miesiącu. W powyższym przykładzie taka funkcja powinna zwrócić `600`. Oczywiście, jeśli w sumie klienci więcej wydali niż otrzymali, to taka liczba może być ujemna."
   ]
  },
  {
   "cell_type": "code",
   "execution_count": null,
   "id": "34fe1221",
   "metadata": {
    "id": "BVKhUT02iRvZ",
    "tags": []
   },
   "outputs": [],
   "source": [
    "def suma_wyslana(lista_transakcji):\n"
   ]
  },
  {
   "cell_type": "code",
   "execution_count": null,
   "id": "5fbbfad5",
   "metadata": {
    "deletable": false,
    "editable": false
   },
   "outputs": [],
   "source": [
    "grader.check(\"Q1\")"
   ]
  }
 ],
 "metadata": {
  "kernelspec": {
   "display_name": "Python 3 (ipykernel)",
   "language": "python",
   "name": "python3"
  },
  "language_info": {
   "codemirror_mode": {
    "name": "ipython",
    "version": 3
   },
   "file_extension": ".py",
   "mimetype": "text/x-python",
   "name": "python",
   "nbconvert_exporter": "python",
   "pygments_lexer": "ipython3",
   "version": "3.9.7"
  }
 },
 "nbformat": 4,
 "nbformat_minor": 5
}
