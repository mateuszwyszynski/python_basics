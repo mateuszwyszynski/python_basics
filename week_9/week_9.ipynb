{
 "cells": [
  {
   "cell_type": "markdown",
   "id": "5e372916",
   "metadata": {},
   "source": [
    "Na początek uruchom tę komórkę, żeby przygotować autogradera:"
   ]
  },
  {
   "cell_type": "code",
   "execution_count": null,
   "id": "1da86ecf",
   "metadata": {},
   "outputs": [],
   "source": [
    "%%capture\n",
    "!pip install otter-grader\n",
    "\n",
    "files = \"https://github.com/mateuszwyszynski/python_basics/raw/main/week_9/tests.zip\"\n",
    "!wget -O ./tests.zip $files && unzip -o tests.zip\n",
    "\n",
    "import inspect\n",
    "import otter\n",
    "grader = otter.Notebook(colab = True)\n",
    "!git clone https://github.com/mateuszwyszynski/python_basics.git"
   ]
  },
  {
   "cell_type": "markdown",
   "id": "32a17e3c",
   "metadata": {},
   "source": [
    "# **Lista &ndash; sekwencja wartości**\n",
    "---\n",
    "---\n",
    "\n",
    "## Wprowadzenie\n",
    "\n",
    "Podobnie jak w przypadku zmiennych typu string, obiekty typu list, które będziemy nazywać po prostu listami, są sekwencjami wartości i pozwalają przechowywać w sobie elementy przeróżnego typu. W przeciwieństwie do łańcuchów znaków, w których wszystkie elementy były tego samego typu. Z listami spotkaliśmy się już przy temacie poświęconym pętlom, w tym tygondniu przyjrzymy się im znacznie bliżej i poznamy ich wszystkie najużyteczniejsze własności.\n",
    "\n",
    "Jest kilka sposobów deklarowania list. Najprostszym i najwygodniejszym jest umieszczenie obiektów, oddzielając je przecinkami, w kwadratowych nawiasach."
   ]
  },
  {
   "cell_type": "code",
   "execution_count": null,
   "id": "9dc477c9",
   "metadata": {},
   "outputs": [],
   "source": [
    "dog_breeds = ['buldog', 'labrador', 'chihuahua', 'husky', 'akita']"
   ]
  },
  {
   "cell_type": "markdown",
   "id": "082a1a93",
   "metadata": {},
   "source": [
    "Chcąc wybrać odpowiedni element z listy, musimy pamiętac, tak jak w przypadku stringów, że indeksowanie zaczyna się od 0!\n",
    "\n",
    "| indeksy | 0 | 1 | 2 | 3 | 4 | \n",
    "| --- | --- | --- | --- | --- | --- |\n",
    "| rasy | buldog | labrador | chihuahua | husky | akita | "
   ]
  },
  {
   "cell_type": "code",
   "execution_count": null,
   "id": "97bb1c9b",
   "metadata": {},
   "outputs": [],
   "source": [
    "'buldog' == dog_breeds[1]"
   ]
  },
  {
   "cell_type": "code",
   "execution_count": null,
   "id": "a5242cfb",
   "metadata": {},
   "outputs": [],
   "source": [
    "'buldog' == dog_breeds[0]"
   ]
  },
  {
   "cell_type": "markdown",
   "id": "5073fa98",
   "metadata": {},
   "source": [
    "---\n",
    "Tak jak wspomnieliśmy, w listach możemy przechowywać obiekty różnego typu, oczywiście mogą być to też listy."
   ]
  },
  {
   "cell_type": "code",
   "execution_count": null,
   "id": "ff7e2560",
   "metadata": {},
   "outputs": [],
   "source": [
    "different_objects = ['str', 0, 2.21, [2, 'str2']]\n",
    "dog_breeds = ['buldog', ['black labrador', 'yellow labrador', 'chocolate labrador'], 'chihuahua', 'husky', 'akita']"
   ]
  },
  {
   "cell_type": "code",
   "execution_count": null,
   "id": "b77e0674",
   "metadata": {},
   "outputs": [],
   "source": [
    "print(different_objects)\n",
    "print(dog_breeds)"
   ]
  },
  {
   "cell_type": "markdown",
   "id": "0b3ed43b",
   "metadata": {},
   "source": [
    "---\n",
    "Możemy listy nadpisywać (co nie było możliwe w przypadku stringów!). W poniższym przykładzie nadpisujemy za 0 liczbę 10."
   ]
  },
  {
   "cell_type": "code",
   "execution_count": null,
   "id": "dda019a2",
   "metadata": {},
   "outputs": [],
   "source": [
    "numbers = [0, 1, 2, 3, 4, 5]\n",
    "print(numbers)\n",
    "numbers[0] = 10\n",
    "print(numbers)"
   ]
  },
  {
   "cell_type": "markdown",
   "id": "9397a9ef",
   "metadata": {},
   "source": [
    "---\n",
    "Jeżeli dysponujemy pustą listą bądź stringiem, to nie możemy odwołać się do żadnego indeksu tych obiektów, bo nie posiadają ani jednego elementu."
   ]
  },
  {
   "cell_type": "code",
   "execution_count": null,
   "id": "571d15cc",
   "metadata": {},
   "outputs": [],
   "source": [
    "empty = []\n",
    "empty[0]"
   ]
  },
  {
   "cell_type": "markdown",
   "id": "694de2c1",
   "metadata": {},
   "source": [
    "---\n",
    "Pustą listę możemy zdefiniować także wykorzystując funkcję `list()`. Więcej na jej temat można znaleźć w sekcji `Dodatek` na końcu notebooka."
   ]
  },
  {
   "cell_type": "code",
   "execution_count": null,
   "id": "b1b01145",
   "metadata": {},
   "outputs": [],
   "source": [
    "empty = list()\n",
    "empty"
   ]
  },
  {
   "cell_type": "markdown",
   "id": "fcd2407e",
   "metadata": {},
   "source": [
    "---\n",
    "---\n",
    "## Wycinki list\n",
    "\n",
    "Skoro indeksujemy tak samo jak w przypadku stringów, możemy się domyślać, że wycinanie części stringów będzie także działało identycznie."
   ]
  },
  {
   "cell_type": "code",
   "execution_count": null,
   "id": "9ba012d8",
   "metadata": {},
   "outputs": [],
   "source": [
    "letters = ['a', 'b', 'c', 'd', 'f', 'g', 'h', 'i']"
   ]
  },
  {
   "cell_type": "code",
   "execution_count": null,
   "id": "ba27d3e2",
   "metadata": {},
   "outputs": [],
   "source": [
    "letters[:]"
   ]
  },
  {
   "cell_type": "code",
   "execution_count": null,
   "id": "d4865e34",
   "metadata": {},
   "outputs": [],
   "source": [
    "letters[:2]"
   ]
  },
  {
   "cell_type": "code",
   "execution_count": null,
   "id": "0a7339b8",
   "metadata": {},
   "outputs": [],
   "source": [
    "letters[-3:-1]"
   ]
  },
  {
   "cell_type": "code",
   "execution_count": null,
   "id": "dbd46cc3",
   "metadata": {},
   "outputs": [],
   "source": [
    "letters[2:7:2]"
   ]
  },
  {
   "cell_type": "markdown",
   "id": "c0fcd31b",
   "metadata": {},
   "source": [
    "---\n",
    "Z racji, ze przy stringach omawialiśmy tego typu operacje dokładniej, nie będziemy opisywać ich bardziej szczegółowo."
   ]
  },
  {
   "cell_type": "markdown",
   "id": "e6244354",
   "metadata": {},
   "source": [
    "---\n",
    "---\n",
    "## Operatory i iteracje\n",
    "\n",
    "Chcąc sprawdzić, czy dany element w liście występuje możemy użyć operatora `in`."
   ]
  },
  {
   "cell_type": "code",
   "execution_count": null,
   "id": "92175f37",
   "metadata": {},
   "outputs": [],
   "source": [
    "'husky' in dog_breeds"
   ]
  },
  {
   "cell_type": "code",
   "execution_count": null,
   "id": "8144feae",
   "metadata": {},
   "outputs": [],
   "source": [
    "25 in numbers"
   ]
  },
  {
   "cell_type": "markdown",
   "id": "4a9fa1e0",
   "metadata": {},
   "source": [
    "---\n",
    "Z kolei, jeżeli chcemy sprawdzić, czy dany element nie występuje w liście, użyjemy `not in`."
   ]
  },
  {
   "cell_type": "code",
   "execution_count": null,
   "id": "aafe4158",
   "metadata": {},
   "outputs": [],
   "source": [
    "'dalmatian' not in dog_breeds"
   ]
  },
  {
   "cell_type": "markdown",
   "id": "8bbf2698",
   "metadata": {},
   "source": [
    "---\n",
    "Po listach możemy oczywiście iterować, chcąc wyświetlić kolejno każdy element, najwygodniej będzie użyć pętli `for`."
   ]
  },
  {
   "cell_type": "code",
   "execution_count": null,
   "id": "a289e1dc",
   "metadata": {},
   "outputs": [],
   "source": [
    "dog_breeds = ['buldog', 'labrador', 'chihuahua', 'husky', 'akita', 'dalmatian', 'pug', 'boston terrier', 'boxer']"
   ]
  },
  {
   "cell_type": "code",
   "execution_count": null,
   "id": "f391f55f",
   "metadata": {},
   "outputs": [],
   "source": [
    "for breed in dog_breeds:\n",
    "    print(breed)"
   ]
  },
  {
   "cell_type": "markdown",
   "id": "639b9ba7",
   "metadata": {},
   "source": [
    "---\n",
    "Możemy użyć pętli, chcąc zaktuualizować elementy w liście. Na przykład dysponując listą z cyfami, w następujący sposób możemy każdy z elementów przemnożyć przez 2:"
   ]
  },
  {
   "cell_type": "code",
   "execution_count": null,
   "id": "40c464eb",
   "metadata": {},
   "outputs": [],
   "source": [
    "numbers = [0, 1, 2, 3, 4, 5, 6, 7, 8, 9]"
   ]
  },
  {
   "cell_type": "code",
   "execution_count": null,
   "id": "e1d736dd",
   "metadata": {},
   "outputs": [],
   "source": [
    "for i in range(len(numbers)):\n",
    "    numbers[i] = numbers[i] * 2"
   ]
  },
  {
   "cell_type": "code",
   "execution_count": null,
   "id": "b503b56a",
   "metadata": {},
   "outputs": [],
   "source": [
    "numbers"
   ]
  },
  {
   "cell_type": "markdown",
   "id": "7acf4003",
   "metadata": {},
   "source": [
    "---\n",
    "Wcześniej iterowaliśmy po elementach z listy, natomiast w powyższym przykładzie potrzebowaliśmy stworzyć sobie listę z indeksami, aby było możliwe przypiswanie innych wartości pod liczby występujące na danym miejscu. W tym celu sprawdziliśmy najpierw długość naszej listy i stworzyliśmy przedział przy użyciu funkcji `range()`, którą już wiele razy używaliśmy w kontekście iterowania.\n",
    "\n",
    "Po elementach listy można iterować również przy użyciu *list comprehension*. Więcej na ten temat dowiesz się w sekcji `Dodatek`."
   ]
  },
  {
   "cell_type": "markdown",
   "id": "ded66e59",
   "metadata": {},
   "source": [
    "---\n",
    "---\n",
    "## Działania na listach\n",
    "\n",
    "Długość listy możemy wyznaczyć przy użyciu funkcji `len()`."
   ]
  },
  {
   "cell_type": "code",
   "execution_count": null,
   "id": "ff24c1ab",
   "metadata": {},
   "outputs": [],
   "source": [
    "len(numbers)"
   ]
  },
  {
   "cell_type": "markdown",
   "id": "c349e905",
   "metadata": {},
   "source": [
    "---\n",
    "Sumę liczb w liście złożonej z liczb możemy wyznaczyć przy użyciu funkcji `sum()`."
   ]
  },
  {
   "cell_type": "code",
   "execution_count": null,
   "id": "71c5287a",
   "metadata": {},
   "outputs": [],
   "source": [
    "sum(numbers)"
   ]
  },
  {
   "cell_type": "markdown",
   "id": "602f2d8d",
   "metadata": {},
   "source": [
    "---\n",
    "Maximum w zbiorze przy użyciu funkcji `max()`:"
   ]
  },
  {
   "cell_type": "code",
   "execution_count": null,
   "id": "3143ab4d",
   "metadata": {},
   "outputs": [],
   "source": [
    "max(numbers)"
   ]
  },
  {
   "cell_type": "markdown",
   "id": "8e8cdbc9",
   "metadata": {},
   "source": [
    "---\n",
    "Minimum przy użyciu `min()`:"
   ]
  },
  {
   "cell_type": "code",
   "execution_count": null,
   "id": "f42cb0fc",
   "metadata": {},
   "outputs": [],
   "source": [
    "min(numbers)"
   ]
  },
  {
   "cell_type": "markdown",
   "id": "58763cab",
   "metadata": {},
   "source": [
    "---\n",
    "Listy możemy łączyć przy uzyciu operatora `+`."
   ]
  },
  {
   "cell_type": "code",
   "execution_count": null,
   "id": "e2efea97",
   "metadata": {},
   "outputs": [],
   "source": [
    "a = [0, 2, 4, 6]\n",
    "b = [1, 3, 5, 7]\n",
    "a + b"
   ]
  },
  {
   "cell_type": "markdown",
   "id": "ce06408c",
   "metadata": {},
   "source": [
    "---\n",
    "Listy możemy duplikować przy użyciu operatora `*`."
   ]
  },
  {
   "cell_type": "code",
   "execution_count": null,
   "id": "678b3711",
   "metadata": {},
   "outputs": [],
   "source": [
    "dog_breeds * 3"
   ]
  },
  {
   "cell_type": "markdown",
   "id": "e57adfb8",
   "metadata": {},
   "source": [
    "### Zadanie 1. [0 pkt]\n",
    "\n",
    "Napisz funkcję o nazwie **mean**, której argumentem będzie obiekt typu lista. Funkcja ma wyznaczać średnią z liczb znajdujących się w liście i przybliżać ją do drugiego miejsca po przecinku. \n",
    "\n",
    "Wyznaczając średnią skorzystaj ze wzoru:\n",
    "\n",
    "$$\n",
    "\\mu = \\frac{\\sum\\limits_{i=1}^{N} x_i}{N},\n",
    "$$\n",
    "\n",
    "gdzie $N$ jest liczbą obserwacji, natomiast kolejne $x_i$ zaobserwowanymi wartościami. U nas $N$ będzie długością listy, która będzie miała strukturę: $[x_i,\\dots,x_N]$.\n",
    "\n",
    "**Uwaga!** W celu przybliżania średniej możesz wykorzystać funkcję **round()**. Pierwszym argumentem funkcji jest liczba, którą chcemy przybliżyć do danego miejsca, a drugim liczba miejsc po przeciunku. Na przykład wywołanie poniżej linijki:\n",
    "\n",
    "```python\n",
    "round(3.548, 2)\n",
    "```\n",
    "\n",
    "zwróci nam liczbę 3.55."
   ]
  },
  {
   "cell_type": "code",
   "execution_count": null,
   "id": "86f09621",
   "metadata": {
    "tags": []
   },
   "outputs": [],
   "source": [
    "# miejsce na Twoją funkcję o nazwie mean\n",
    "..."
   ]
  },
  {
   "cell_type": "code",
   "execution_count": null,
   "id": "1720d0d8",
   "metadata": {
    "tags": []
   },
   "outputs": [],
   "source": [
    "# Tutaj możesz testować swoje rozwiązanie\n",
    "\n",
    "print(mean([1, 2, 3, 4])) # powinno wyjść 2.5"
   ]
  },
  {
   "cell_type": "code",
   "execution_count": null,
   "id": "faeef0d5",
   "metadata": {
    "deletable": false,
    "editable": false
   },
   "outputs": [],
   "source": [
    "grader.check(\"Q1\")"
   ]
  },
  {
   "cell_type": "markdown",
   "id": "09b9ccaa",
   "metadata": {},
   "source": [
    "### Zadanie 2. [0 pkt]\n",
    "\n",
    "Napisz funkcję o nazwie **std_dev**, której argumentem będzie obiekt typu lista. Funkcja ma wyznaczać odchylenie standardowe z liczb znajdujących się w liście. Przy pomocy odchylenia standardowego możemy weryfikować jak bardzo liczby w danym zbiorze rozrzucone są wokół średniej z tych liczb. Odchylenie standardowe przybliżaj do 2 miejsca po przecinku.\n",
    "\n",
    "Wyznaczając odchylenie standardowe możesz skorzystać z któregoś z poniższych równoważnych wzorów:\n",
    "\n",
    "$$\n",
    "1.\\;\\;\\sigma = \\sqrt{\\frac{\\sum\\limits_{i=1}^{N}(x_i-\\mu)^2}{N}}, \\\\\n",
    "2.\\;\\;\\sigma = \\sqrt{\\frac{\\sum\\limits_{i=1}^{N} x_i^2}{N}-\\mu^2},\n",
    "$$\n",
    "\n",
    "gdzie $\\mu$ jest średnią arytmetyczną.\n",
    "\n",
    "**Uwaga!** W celu wyznaczenia sumy kwadratów liczb możemy użyć pętli `for` albo sposobu opisanego w sekcji `Dodatek` w `List comprehension`.\n",
    "\n",
    "**Przykład** obliczenia odchylenia standardowego przy pomocy wzoru 2. Załóżmy, że dysponujemy ciągiem liczb: -3, -1, 0.5, 2, 4. Średnia z tych liczb wynosi 0.5, natomiast suma kwadratów kolejnych wartości wynosi:\n",
    "\n",
    "$$\n",
    "\\sum\\limits_{i=1}^{N} x_i^2 = (-3)^2+(-1)^2+0.5^2+2^2+4^2=30.25,\n",
    "$$\n",
    "\n",
    "a zatem nasze odchylenie będzie równe:\n",
    "\n",
    "$$\n",
    "2.\\;\\;\\sigma = \\sqrt{\\frac{\\sum\\limits_{i=1}^{N} x_i^2}{N}-\\mu^2} = \\sqrt{\\frac{30.25}{5}-0.5^2}\\approx2.41.\n",
    "$$"
   ]
  },
  {
   "cell_type": "code",
   "execution_count": null,
   "id": "232ac0f1",
   "metadata": {
    "tags": []
   },
   "outputs": [],
   "source": [
    "# miejsce na twoją funkcję o nazwie std_dev\n",
    "..."
   ]
  },
  {
   "cell_type": "code",
   "execution_count": null,
   "id": "c8656ea5",
   "metadata": {
    "tags": []
   },
   "outputs": [],
   "source": [
    "# Tutaj możesz testować swoje rozwiązanie\n",
    "\n",
    "print(std_dev([1, 2, 3, 4, 5])) # powinno wyjść 1.41"
   ]
  },
  {
   "cell_type": "code",
   "execution_count": null,
   "id": "6d8915bf",
   "metadata": {
    "deletable": false,
    "editable": false
   },
   "outputs": [],
   "source": [
    "grader.check(\"Q2\")"
   ]
  },
  {
   "cell_type": "markdown",
   "id": "540c6474",
   "metadata": {},
   "source": [
    "---\n",
    "---\n",
    "\n",
    "## Metody obiektów będących listami\n",
    "\n",
    "### Dodawanie nowych elementów przy użyciu metody `append()`\n",
    "\n",
    "W celu dodania nowej rasy `golden retriever` do naszej listy `dog_breeds` możemy użyć metody `append()` w sposób następujący:"
   ]
  },
  {
   "cell_type": "code",
   "execution_count": null,
   "id": "73bfe311",
   "metadata": {},
   "outputs": [],
   "source": [
    "dog_breeds = ['buldog', 'labrador', 'chihuahua', 'husky', 'akita', 'dalmatian', 'pug', 'boston terrier', 'boxer']"
   ]
  },
  {
   "cell_type": "code",
   "execution_count": null,
   "id": "b6aed8cb",
   "metadata": {},
   "outputs": [],
   "source": [
    "dog_breeds.append('golden retriever')"
   ]
  },
  {
   "cell_type": "markdown",
   "id": "9ee65b43",
   "metadata": {},
   "source": [
    "---\n",
    "Zweryfikujmy, czy rzeczywiście nasza lista z rasami się rozszerzyła:"
   ]
  },
  {
   "cell_type": "code",
   "execution_count": null,
   "id": "dcd221d3",
   "metadata": {},
   "outputs": [],
   "source": [
    "dog_breeds"
   ]
  },
  {
   "cell_type": "markdown",
   "id": "e9c24820",
   "metadata": {},
   "source": [
    "---\n",
    "\n",
    "### Przykład użycia\n",
    "\n",
    "Załóżmy, że mamy listę z sekwencjami znaków, w których użyto polskich liter: `ą`, `ć`, `ę`, `ł`, `ń`, `ó`, `ś`, `ż`, `ź`. Chcemy napisać funkcję, której zadaniem jest podmienienie polskich znaków na ich łacińskie odpowiedniki. Możemy to zrobić następująco:"
   ]
  },
  {
   "cell_type": "code",
   "execution_count": null,
   "id": "da580563",
   "metadata": {},
   "outputs": [],
   "source": [
    "def replace_polish_letters(list_with_strings):\n",
    "    polish_characters = ['ą', 'ć', 'ę', 'ł', 'ń', 'ó', 'ś', 'ż', 'ź']\n",
    "    latin_characters = ['a', 'c', 'e', 'l', 'n', 'o', 's', 'z', 'z']\n",
    "    list_to_return = []\n",
    "    for string in list_with_strings:\n",
    "        for i in range(len(polish_characters)):\n",
    "            string = string.replace(polish_characters[i], latin_characters[i])\n",
    "        list_to_return.append(string)\n",
    "    return list_to_return"
   ]
  },
  {
   "cell_type": "markdown",
   "id": "396ce00a",
   "metadata": {},
   "source": [
    "---\n",
    "Zweryfikujmy, czy powyższy kod spełnia swoją funkcję. Możesz dodawać własne przykłady. Upewnij się, że działanie tej funkcji jest dla Ciebie jasne.\n",
    "\n",
    "*PS* W kolejnym tygodniu dowiemy się jak efektywnie w takim przypadku scalać listy typu polish_characters i latin_characters."
   ]
  },
  {
   "cell_type": "code",
   "execution_count": null,
   "id": "8901aff8",
   "metadata": {},
   "outputs": [],
   "source": [
    "replace_polish_letters(['łódź', 'żółć', 'gżegżółka', 'nasięźrzał'])"
   ]
  },
  {
   "cell_type": "markdown",
   "id": "c6a83966",
   "metadata": {},
   "source": [
    "---\n",
    "### Rozszerzanie listy przy użyciu `extend()`\n",
    "\n",
    "Wcześniej aby rozszerzyć naszą listę użyliśmy opera `+`. Taki sam efekt możemy osiągnąć, jeżeli wykorzystamy metodę `extend()`. Lączenie poniższych list możemy przeprowadzić w taki sposób:"
   ]
  },
  {
   "cell_type": "code",
   "execution_count": null,
   "id": "9fc441f9",
   "metadata": {},
   "outputs": [],
   "source": [
    "let1 = ['c', 'e', 'k']\n",
    "let2 = ['a', 'g', 'b']"
   ]
  },
  {
   "cell_type": "code",
   "execution_count": null,
   "id": "91027601",
   "metadata": {},
   "outputs": [],
   "source": [
    "let1.extend(let2)"
   ]
  },
  {
   "cell_type": "markdown",
   "id": "3cd4c263",
   "metadata": {},
   "source": [
    "---\n",
    "Zweryfikujmy, czy `let1` zostało wzbogacone o elementy `let2`:"
   ]
  },
  {
   "cell_type": "code",
   "execution_count": null,
   "id": "62920b42",
   "metadata": {},
   "outputs": [],
   "source": [
    "let1"
   ]
  },
  {
   "cell_type": "markdown",
   "id": "45fe3a92",
   "metadata": {},
   "source": [
    "---\n",
    "### Sortowanie listy przy użyciu `sort()`\n",
    "\n",
    "Posortujmy listę `let1` alfabetycznie:"
   ]
  },
  {
   "cell_type": "code",
   "execution_count": null,
   "id": "159059bb",
   "metadata": {},
   "outputs": [],
   "source": [
    "let1.sort()"
   ]
  },
  {
   "cell_type": "markdown",
   "id": "873db719",
   "metadata": {},
   "source": [
    "---\n",
    "Po raz kolejny nie otrzymaliśmy żadnego outputu! Jednak i tym razem zmiany w naszej liście zostały wprowadzone:"
   ]
  },
  {
   "cell_type": "code",
   "execution_count": null,
   "id": "161e7e3c",
   "metadata": {},
   "outputs": [],
   "source": [
    "let1"
   ]
  },
  {
   "cell_type": "markdown",
   "id": "7cf71563",
   "metadata": {},
   "source": [
    "---\n",
    "Powyższe metody działają zgodnie z podejściem nazywanym modyfikacją w miejscu. Nie tworzą nam nowego obiektu tego samego typu z obiektu będącego parametrem metody, tylko przekształcają nam ten obiekt nic nie zwracając. Gdybyśmy próbowali przypisać do `let3` wynik operacji polegającej na dodaniu litery `n` do listy `let1`, rezultat mógłby być na pierwszy rzut oka niezadowalający:"
   ]
  },
  {
   "cell_type": "code",
   "execution_count": null,
   "id": "f57e38e2",
   "metadata": {},
   "outputs": [],
   "source": [
    "let3 = let1.append('n')"
   ]
  },
  {
   "cell_type": "code",
   "execution_count": null,
   "id": "d043c4db",
   "metadata": {},
   "outputs": [],
   "source": [
    "let3"
   ]
  },
  {
   "cell_type": "code",
   "execution_count": null,
   "id": "a8a8b841",
   "metadata": {},
   "outputs": [],
   "source": [
    "type(let3)"
   ]
  },
  {
   "cell_type": "markdown",
   "id": "43652c3d",
   "metadata": {},
   "source": [
    "---\n",
    "Otrzymaliśmy obiekt `NoneType`. Jednak w `let1` zmiany zaszły!"
   ]
  },
  {
   "cell_type": "code",
   "execution_count": null,
   "id": "9798b287",
   "metadata": {},
   "outputs": [],
   "source": [
    "let1"
   ]
  },
  {
   "cell_type": "markdown",
   "id": "0ef13f39",
   "metadata": {},
   "source": [
    "---\n",
    "### Usuwanie elementu z listy\n",
    "#### Przy użyciu `pop()`\n",
    "\n",
    "Jeżeli znamy indeks elementu, który chcemy usunąć i chcemy ten element zapamiętać, możemy użyć metody `pop()`."
   ]
  },
  {
   "cell_type": "code",
   "execution_count": null,
   "id": "1b784f79",
   "metadata": {},
   "outputs": [],
   "source": [
    "letters = ['a', 'b', 'c', 'e', 'g', 'k', 'n']\n",
    "x = letters.pop(2)"
   ]
  },
  {
   "cell_type": "markdown",
   "id": "f5fc45bf",
   "metadata": {},
   "source": [
    "---\n",
    "Zmienna `x` przechowuje nam usuniętą literkę, której w `letters` na miejscu o indeksie 2 już nie zobaczymy (chyba że literka o indeksie 3 była identyczna)."
   ]
  },
  {
   "cell_type": "code",
   "execution_count": null,
   "id": "b7acb94e",
   "metadata": {},
   "outputs": [],
   "source": [
    "print(x)\n",
    "print(letters)"
   ]
  },
  {
   "cell_type": "markdown",
   "id": "36b411b0",
   "metadata": {},
   "source": [
    "---\n",
    "Jeżeli nie wpiszemy żadnego indeksu, to zostanie usunięty element ostatni.\n",
    "\n",
    "#### Przy użyciu funkcji `del`\n",
    "\n",
    "Jeżeli znamy indeks elementu, który chcemy usunąć, ale nie potrzebujemy go przechować, możemy użyć funcji `del` jak poniżej."
   ]
  },
  {
   "cell_type": "code",
   "execution_count": null,
   "id": "82f08164",
   "metadata": {},
   "outputs": [],
   "source": [
    "letters = ['a', 'b', 'c', 'e', 'g', 'k', 'n']\n",
    "del letters[2]\n",
    "letters"
   ]
  },
  {
   "cell_type": "markdown",
   "id": "c8f521b1",
   "metadata": {},
   "source": [
    "---\n",
    "Możemy w ten sposób usuwać wiele elementów jednocześnie:"
   ]
  },
  {
   "cell_type": "code",
   "execution_count": null,
   "id": "ebe255bb",
   "metadata": {},
   "outputs": [],
   "source": [
    "letters = ['a', 'b', 'c', 'e', 'g', 'k', 'n']\n",
    "del letters [2:5]\n",
    "letters"
   ]
  },
  {
   "cell_type": "markdown",
   "id": "43768e16",
   "metadata": {},
   "source": [
    "---\n",
    "#### Przy użyciu metody `remove()`\n",
    "\n",
    "Jeżeli znamy element, który chcemy z listy usunąć, możemy wykorzystać metodę `remove()`, która usunie pierwsze wystąpienie tego elementu i również nam niczego nie zwróci."
   ]
  },
  {
   "cell_type": "code",
   "execution_count": null,
   "id": "9e54880e",
   "metadata": {},
   "outputs": [],
   "source": [
    "numbers = [-1, 0.5, 1, 5, 1]\n",
    "numbers.remove(1)\n",
    "numbers"
   ]
  },
  {
   "cell_type": "markdown",
   "id": "a84bb3e1",
   "metadata": {},
   "source": [
    "### Zadanie 3. [0 pkt]\n",
    "\n",
    "$\\color{red}{\\text{Uwaga! Zadanie bez gradera.}}$\n",
    "\n",
    "Napisz funkcję o nazwie `chop`, której argumentem będzie obiekt typu lista. Funkcja ma usuwać pierwszy i ostatni element listy, niczego nie zwracając, czyli ma zachowywać się dokładnie tak jak większość powyższych metod."
   ]
  },
  {
   "cell_type": "code",
   "execution_count": null,
   "id": "5d5ab129",
   "metadata": {},
   "outputs": [],
   "source": [
    "# miejsce na twoją funkcję\n",
    "\n"
   ]
  },
  {
   "cell_type": "code",
   "execution_count": null,
   "id": "d10fb21e",
   "metadata": {},
   "outputs": [],
   "source": [
    "# Tutaj możesz testować swoje rozwiązanie\n",
    "\n",
    "dog_breeds = ['buldog', 'labrador', 'chihuahua', 'husky', 'akita', 'dalmatian', 'pug', 'boston terrier']\n",
    "chop(dog_breeds) # funkcja nie powinna niczego zwracać!"
   ]
  },
  {
   "cell_type": "code",
   "execution_count": null,
   "id": "5e4cd54a",
   "metadata": {},
   "outputs": [],
   "source": [
    "# w naszej liście powinny zostać rasy: labrador, chihuahua, husky, akita, dalmatian i pug\n",
    "\n",
    "dog_breeds"
   ]
  },
  {
   "cell_type": "markdown",
   "id": "f2be9f75",
   "metadata": {},
   "source": [
    "---\n",
    "---\n",
    "# Zadania domowe"
   ]
  },
  {
   "cell_type": "markdown",
   "id": "48b07250",
   "metadata": {},
   "source": [
    "## Zadanie 4. [2 pkt] *All time battle: Mickiewicz vs Słowacki*\n",
    "\n",
    "Większość z nas będzie kojarzyć zaciekłą rywalizację rozgrywającą się w XIX w. między Juliuszem Słowackim i Adamem Mickiewiczem o miano największego polskiego romantyka. Chcemy podjąć próbę sforłumowania analitycznego argumentu na rzecz któregoś z nich. W tym celu przanalizujemy dwa wiersze, tzn. cały wiersz `Oda do Młodości` Mickiewicza (74 linijki tekstu) i fragment wiersza `Oda do Wolności` Słowackiego (74 linijki tekstu, oryginał posiada znacznie więcej, postanowiliśmy wziąć wycinek, aby nasza konkurencja była sprawiedliwsza). Napiszemy narzędzia, które pozwolą nam stwierdzić, który z romantyków posiadał większy zasób słownictwa, przynajmniej w kontekście zestawienia ze sobą tych dwóch konkretnych pozycji. Zadanie zostanie rozdzielone na kilka podpunktów, aby łatwiej było nam ostatecznie wyznaczyć zwycięzcę. Celem jest zweryfikowanie, ile unikatowych słów zostało użytych przez obu wieszczów w tych tekstach. Wygrywa oczywiście ten, który użył większej liczby."
   ]
  },
  {
   "cell_type": "markdown",
   "id": "bbdb00a8",
   "metadata": {},
   "source": [
    "---\n",
    "## Zadanie 4. a) [0.5 pkt]\n",
    "\n",
    "Napisz funkcję o nazwie *list_with_strings_cleaning*. Zakładanym parametrem funkcji jest lista z obiektami typu string. Funkcja ma na celu przeczyszczenie wszystkich łańcuchów znaków z elementów z listy: \n",
    "\n",
    "``` python\n",
    "[':', ';', '!', '?', '.', ',', '\\n', '\"', '-', '*']\n",
    "```\n",
    "\n",
    "oraz sprowadzenie wszystkich liter do ich małych odpowienków. Dla przykładu, mamy listę z następującymi linijkami: \n",
    "``` python \n",
    "['Bez serc, bez ducha, to szkieletów ludy;\\n', 'I wonne płoną kadzidła!\\n']\n",
    "```\n",
    "\n",
    "Chcielibyśmy, żeby wywołanie linijki: \n",
    "\n",
    "``` python\n",
    "list_with_strings_cleaning(['Bez serc, bez ducha, to szkieletów ludy;\\n', 'I wonne płoną kadzidła!\\n'])\n",
    "```\n",
    "\n",
    "zwróciło nam listę z następująco przekształconymi stringami:\n",
    "\n",
    "```python\n",
    "['bez serc bez ducha to szkieletów ludy', 'i wonne płoną kadzidła']\n",
    "```\n",
    "\n",
    "Poniżej przepisaliśmy listę z treści, którą możesz wykorzystać. Jeżeli nie pamiętasz dostępnych metod dla zmiennych typu string, możesz wrócić do notebooka *week 6*, możesz także wywołać linijkę: \n",
    "\n",
    "``` python\n",
    "print(dir(str))\n",
    "```\n",
    "\n",
    "Powodzenia!\n",
    "\n",
    "**Uwaga** Jeżeli nie masz pomysłu, jak do tego zadania podejść, to po pierwszym uruchomieniu komórki z graderem wyświetli się wskazówka."
   ]
  },
  {
   "cell_type": "code",
   "execution_count": null,
   "id": "1f0d825d",
   "metadata": {},
   "outputs": [],
   "source": [
    "# lista z symbolami, którą możesz skopiować i odpowiednio użyć w definiowanej funkcji\n",
    "[':', ';', '!', '?', '.', ',', '\\n', '\"', '-', '*']"
   ]
  },
  {
   "cell_type": "code",
   "execution_count": null,
   "id": "af02aff7",
   "metadata": {
    "tags": []
   },
   "outputs": [],
   "source": [
    "# miejsce na twoją funkcję o nazwie list_with_strings_cleaning\n",
    "..."
   ]
  },
  {
   "cell_type": "code",
   "execution_count": null,
   "id": "d652fc2b",
   "metadata": {
    "tags": []
   },
   "outputs": [],
   "source": [
    "# Tutaj możesz testować swoje rozwiązanie\n",
    "\n",
    "print(list_with_strings_cleaning(['Bez serc, bez ducha, to szkieletów ludy;\\n', 'I wonne płoną kadzidła!\\n']))"
   ]
  },
  {
   "cell_type": "code",
   "execution_count": null,
   "id": "1b75fb4b",
   "metadata": {
    "deletable": false,
    "editable": false
   },
   "outputs": [],
   "source": [
    "grader.check(\"Q4.a\")"
   ]
  },
  {
   "cell_type": "markdown",
   "id": "4ce8e3c4",
   "metadata": {},
   "source": [
    "---\n",
    "## Zadanie 4. b) [0.5 pkt]\n",
    "\n",
    "Napisz funkcję o nazwie *list_with_strings_splitting*. Zakładanym parametrem funkcji jest lista z obiektami typu string. Funkcja ma na celu podzielenie wszystkich zdań na słowa i zapisanie tak podzielonych słów w jednej liście. Dla przykładu, mamy listę z następującymi linijkami: \n",
    "\n",
    "``` python \n",
    "['bez serc bez ducha to szkieletów ludy', 'i wonne płoną kadzidła']\n",
    "```\n",
    "\n",
    "Chcielibyśmy, żeby wywołanie linijki: \n",
    "\n",
    "``` python\n",
    "list_with_strings_splitting(['bez serc bez ducha to szkieletów ludy', 'i wonne płoną kadzidła'])\n",
    "```\n",
    "\n",
    "zwróciło nam listę z następującymi łańcuchami znaków:\n",
    "\n",
    "```python\n",
    "['bez', 'serc', 'bez', 'ducha', 'to', 'szkieletów', 'ludy', 'i', 'wonne', 'płoną', 'kadzidła']\n",
    "```\n",
    "Powodzenia!\n",
    "\n",
    "**Uwaga** Jeżeli nie masz pomysłu, jak do tego zadania podejść, to po pierwszym uruchomieniu komórki z graderem wyświetli się wskazówka."
   ]
  },
  {
   "cell_type": "code",
   "execution_count": null,
   "id": "5b29eda2",
   "metadata": {
    "tags": []
   },
   "outputs": [],
   "source": [
    "# miejsce na twoją funkcję o nazwie list_with_strings_splitting\n",
    "..."
   ]
  },
  {
   "cell_type": "code",
   "execution_count": null,
   "id": "e860cecf",
   "metadata": {
    "tags": []
   },
   "outputs": [],
   "source": [
    "# Tutaj możesz testować swoje rozwiązanie\n",
    "\n",
    "print(list_with_strings_splitting(['bez serc bez ducha to szkieletów ludy', 'i wonne płoną kadzidła']))"
   ]
  },
  {
   "cell_type": "code",
   "execution_count": null,
   "id": "3b41cbc5",
   "metadata": {
    "deletable": false,
    "editable": false
   },
   "outputs": [],
   "source": [
    "grader.check(\"Q4.b\")"
   ]
  },
  {
   "cell_type": "markdown",
   "id": "61623837",
   "metadata": {},
   "source": [
    "---\n",
    "## Zadanie 4. c) [0.5 pkt]\n",
    "\n",
    "Napisz funkcję o nazwie *list_with_words_unique*. Zakładanym parametrem funkcji jest lista z obiektami typu string. Funkcja ma na celu wyszczególnienie unikatowych słów występujących w liście i zwrócenie ich liczby. Dla przykładu, mamy listę z następującymi słowami:\n",
    "\n",
    "``` python \n",
    "['bez', 'serc', 'bez', 'ducha', 'to', 'szkieletów', 'ludy', 'i', 'wonne', 'płoną', 'kadzidła']\n",
    "```\n",
    "\n",
    "Chcielibyśmy, żeby wywołanie linijki: \n",
    "\n",
    "``` python\n",
    "list_with_words_unique(['bez', 'serc', 'bez', 'ducha', 'to', 'szkieletów', 'ludy', 'i', 'wonne', 'płoną', 'kadzidła'])\n",
    "```\n",
    "\n",
    "zwróciło nam liczbę `10`, ponieważ w liście mamy 10 unikatowych słów: bez, serc, ducha, to, szkieletów, ludy, i, wonne, płoną, kadzidła. Powodzenia! \n",
    "\n",
    "**Uwaga** Jeżeli nie masz pomysłu, jak do tego zadania podejść, to po pierwszym uruchomieniu komórki z graderem wyświetli się wskazówka."
   ]
  },
  {
   "cell_type": "code",
   "execution_count": null,
   "id": "57443888",
   "metadata": {
    "tags": []
   },
   "outputs": [],
   "source": [
    "# miejsce na twoją funkcję o nazwie list_with_words_unique\n",
    "..."
   ]
  },
  {
   "cell_type": "code",
   "execution_count": null,
   "id": "f168f8dc",
   "metadata": {
    "tags": []
   },
   "outputs": [],
   "source": [
    "# Tutaj możesz testować swoje rozwiązanie\n",
    "\n",
    "print(list_with_words_unique(['bez', 'serc', 'bez', 'ducha', 'to', 'szkieletów', 'ludy', 'i', 'wonne', 'płoną', 'kadzidła']))"
   ]
  },
  {
   "cell_type": "code",
   "execution_count": null,
   "id": "7b5a04da",
   "metadata": {
    "deletable": false,
    "editable": false
   },
   "outputs": [],
   "source": [
    "grader.check(\"Q4.c\")"
   ]
  },
  {
   "cell_type": "markdown",
   "id": "afdb1afb",
   "metadata": {},
   "source": [
    "---\n",
    "\n",
    "Przejdziemy teraz do zweryfikowania który z wieszczów w tym przypadku wykazał się większym zasobem słownictwa. W pierwszej kolejności wywołaj poniższe okienka Pozwolą Ci wczytać oba wiersze, zapisując je w postaci list o nazwach: `mickiewicz` i `slowacki`."
   ]
  },
  {
   "cell_type": "code",
   "execution_count": null,
   "id": "3b27816c",
   "metadata": {},
   "outputs": [],
   "source": [
    "with open('python_basics/data/mickiewicz.txt', encoding='windows-1250') as file:\n",
    "    mickiewicz = file.readlines()"
   ]
  },
  {
   "cell_type": "code",
   "execution_count": null,
   "id": "00a2e9d1",
   "metadata": {},
   "outputs": [],
   "source": [
    "with open('python_basics/data/slowacki.txt', encoding='windows-1250') as file:\n",
    "    slowacki = file.readlines()"
   ]
  },
  {
   "cell_type": "markdown",
   "id": "6f2a80ef",
   "metadata": {},
   "source": [
    "---\n",
    "W obu listach każdy element to kolejny wers danego wiersza."
   ]
  },
  {
   "cell_type": "code",
   "execution_count": null,
   "id": "0e525201",
   "metadata": {},
   "outputs": [],
   "source": [
    "mickiewicz[:10]"
   ]
  },
  {
   "cell_type": "markdown",
   "id": "40ec97a3",
   "metadata": {},
   "source": [
    "---\n",
    "## Zadanie 4. d) [0.5 pkt]\n",
    "\n",
    "Napisz funkcję o nazwie **unique_number**, która zweryfikuje, jak dużo unikatowych słów zostało użytych w zaimportowanych wierszach. Argumentem funkcji powinna być lista. Zakładamy, że taka lista będzie zawierać kolejne nieprzekształcone (niewyczyszczone i podzielone) wersy jakiegoś wiersza. Funkcja powinna wykorzystać wcześniej zdefiniowane funkcje, tj. **list_with_strings_cleaning, list_with_strings_splitting, list_with_words_unique** i zwracać liczbę unikatowych słów.\n",
    "\n",
    "Powodzenia!\n",
    "\n",
    "**Uwaga** Jeżeli nie masz pomysłu, jak do tego zadania podejść, to po pierwszym uruchomieniu komórki z graderem wyświetli się wskazówka."
   ]
  },
  {
   "cell_type": "code",
   "execution_count": null,
   "id": "5e3277e1",
   "metadata": {
    "tags": []
   },
   "outputs": [],
   "source": [
    "# miejsce na twoją funkcję o nazwie unique_number\n",
    "..."
   ]
  },
  {
   "cell_type": "code",
   "execution_count": null,
   "id": "c365ae3b",
   "metadata": {
    "deletable": false,
    "editable": false
   },
   "outputs": [],
   "source": [
    "grader.check(\"Q4.d\")"
   ]
  },
  {
   "cell_type": "markdown",
   "id": "a6454cd6",
   "metadata": {},
   "source": [
    "---\n",
    "---\n",
    "# Dodatek\n",
    "\n",
    "---\n",
    "---\n",
    "\n",
    "## Definiowanie inaczej\n",
    "\n",
    "W celu stworzenia nowej listy, możemy wykorzystać także funkcję `list()`."
   ]
  },
  {
   "cell_type": "code",
   "execution_count": null,
   "id": "ab64ae1a",
   "metadata": {},
   "outputs": [],
   "source": [
    "dog_breeds = list(['buldog', 'labrador', 'chihuahua', 'husky', 'akita'])"
   ]
  },
  {
   "cell_type": "markdown",
   "id": "230f750a",
   "metadata": {},
   "source": [
    "---\n",
    "Może się wydawać, że tylko skomplikowaliśmy sobie całą operację. Jednak funkcja ta pozwala przekształcać obiekty innego typu do listy. Wpisując obiekt konstrukcyjnie podobny do listy do nawiasu kwadratwego, sprawimy jedynie, że cały taki obiekt zostanie zapisany jako jeden element w liście.\n",
    "\n",
    "Spójrzmy na ponizszy przykład. Mamy zapisane rasy psów do obiektu typu `tuple`. Tego rodzaju obiektów omawiać w tym kursie nie będziemy, konstrukcyjnie jest bardzo podobny do list, jednak ma kilka istotnych różnic. W tym miejscu wykorzystujemy go jedynie w celach wizualizacyjnych."
   ]
  },
  {
   "cell_type": "code",
   "execution_count": null,
   "id": "7d4680f2",
   "metadata": {},
   "outputs": [],
   "source": [
    "dog_breeds = ('buldog', 'labrador', 'chihuahua', 'husky', 'akita')"
   ]
  },
  {
   "cell_type": "markdown",
   "id": "934f75bf",
   "metadata": {},
   "source": [
    "---\n",
    "Sprawdźmy typ naszego obiektu."
   ]
  },
  {
   "cell_type": "code",
   "execution_count": null,
   "id": "23920b35",
   "metadata": {},
   "outputs": [],
   "source": [
    "type(dog_breeds)"
   ]
  },
  {
   "cell_type": "markdown",
   "id": "2ff1b310",
   "metadata": {},
   "source": [
    "---\n",
    "Sprawdźmy co się stanie, gdy z tego obiektu będziemy chcieli zrobić listę przy użyciu nawiasów kwadratowych."
   ]
  },
  {
   "cell_type": "code",
   "execution_count": null,
   "id": "9743f8e0",
   "metadata": {},
   "outputs": [],
   "source": [
    "dog_breeds_2 = [dog_breeds]"
   ]
  },
  {
   "cell_type": "code",
   "execution_count": null,
   "id": "8f3736c0",
   "metadata": {},
   "outputs": [],
   "source": [
    "dog_breeds_2"
   ]
  },
  {
   "cell_type": "markdown",
   "id": "9a425924",
   "metadata": {},
   "source": [
    "---\n",
    "Widzimy, że obiekt typu tuple stał się pierwszym elementem naszej listy, jeżeli jednak wykorzystamy funkcję `list()`:"
   ]
  },
  {
   "cell_type": "code",
   "execution_count": null,
   "id": "500caf87",
   "metadata": {},
   "outputs": [],
   "source": [
    "dog_breeds_2 = list(dog_breeds)"
   ]
  },
  {
   "cell_type": "code",
   "execution_count": null,
   "id": "7c7d6528",
   "metadata": {},
   "outputs": [],
   "source": [
    "dog_breeds_2"
   ]
  },
  {
   "cell_type": "code",
   "execution_count": null,
   "id": "34015e2c",
   "metadata": {},
   "outputs": [],
   "source": [
    "type(dog_breeds_2)"
   ]
  },
  {
   "cell_type": "markdown",
   "id": "9bf6711d",
   "metadata": {},
   "source": [
    "---\n",
    "Udało się, mamy już listę, w której poszczególne elementy są tożsame z elementami z obiektu `tuple`. Funkcja `list()` może nam także rozbić string na listę, w której kolejnymi elementami będą kolejne znaki znajdujące się w łancuchu."
   ]
  },
  {
   "cell_type": "code",
   "execution_count": null,
   "id": "4a4ab729",
   "metadata": {},
   "outputs": [],
   "source": [
    "list('labrador')"
   ]
  },
  {
   "cell_type": "markdown",
   "id": "4c6aff6b",
   "metadata": {},
   "source": [
    "---\n",
    "---\n",
    "\n",
    "## List comprehension\n",
    "\n",
    "W sekcji `Operatory i iteracje` pokazaliśmy w jaki sposób przy użyciu pętli `for` możemy wykonywać operacje na kolejnych elementach listy. Chcąc przemnożyć kolejne elementy razy 2, podchodziliśmy do tego w sposób następujący:"
   ]
  },
  {
   "cell_type": "code",
   "execution_count": null,
   "id": "1ff613cc",
   "metadata": {},
   "outputs": [],
   "source": [
    "numbers = [0, 1, 2, 3, 4, 5, 6, 7, 8, 9]"
   ]
  },
  {
   "cell_type": "code",
   "execution_count": null,
   "id": "6f75600f",
   "metadata": {},
   "outputs": [],
   "source": [
    "for i in range(len(numbers)):\n",
    "    numbers[i] = numbers[i] * 2"
   ]
  },
  {
   "cell_type": "code",
   "execution_count": null,
   "id": "2a5fecdd",
   "metadata": {},
   "outputs": [],
   "source": [
    "numbers"
   ]
  },
  {
   "cell_type": "markdown",
   "id": "eb441cfe",
   "metadata": {},
   "source": [
    "---\n",
    "W tej sytuacji mogliśmy postąpić nieco inaczej, wykorzystując specyficzną notację. Co prawda nie nadpisujemy w taki sposób za dany element listy jakiś inny, tylko tworzymy od razu całą nową listę, którą możemy ewentualnie nadpisać za modyfikowaną. Powyższy przykład moglibyśmy zapisać tak:"
   ]
  },
  {
   "cell_type": "code",
   "execution_count": null,
   "id": "a34791d1",
   "metadata": {},
   "outputs": [],
   "source": [
    "numbers = [0, 1, 2, 3, 4, 5, 6, 7, 8, 9]\n",
    "[x * 2 for x in numbers]"
   ]
  },
  {
   "cell_type": "markdown",
   "id": "2f9477ef",
   "metadata": {},
   "source": [
    "---\n",
    "Możliwe jest także rozszerzenie powyższej składni o `if-else`. Gdybyśmy chcieli liczby mniejsze od 5 przemnożyć przez 2, a liczby co najmniej równe 5 razy minus dwa, możemy postąpić tak:"
   ]
  },
  {
   "cell_type": "code",
   "execution_count": null,
   "id": "bd7c2ee3",
   "metadata": {},
   "outputs": [],
   "source": [
    "[x * 2 if x < 5 else x * (-2) for x in numbers]"
   ]
  }
 ],
 "metadata": {
  "kernelspec": {
   "display_name": "Python 3 (ipykernel)",
   "language": "python",
   "name": "python3"
  },
  "language_info": {
   "codemirror_mode": {
    "name": "ipython",
    "version": 3
   },
   "file_extension": ".py",
   "mimetype": "text/x-python",
   "name": "python",
   "nbconvert_exporter": "python",
   "pygments_lexer": "ipython3",
   "version": "3.8.11"
  }
 },
 "nbformat": 4,
 "nbformat_minor": 5
}
