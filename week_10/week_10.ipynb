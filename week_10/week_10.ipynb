{
  "nbformat": 4,
  "nbformat_minor": 0,
  "metadata": {
    "colab": {
      "name": "week_10.ipynb",
      "provenance": [],
      "collapsed_sections": []
    },
    "kernelspec": {
      "name": "python3",
      "display_name": "Python 3"
    },
    "language_info": {
      "name": "python"
    }
  },
  "cells": [
    {
      "cell_type": "markdown",
      "source": [
        "# **Słowniki w Pytohnie**\n",
        "Poprzedni notebook (week 9) dotyczył `list` w Pythonie. W tym notebooku powiemy sobie coś o `słownikach`, czyli kolejnej strukturze danych.\n",
        "Przypomnijmy najpierw czym były `listy`. \n",
        "\n",
        "`Lista` to struktura danych w Pythonie, która jest zmienną, uporządkowaną sekwencją elementów. Listy służą do przechowywania wielu elementów w jednej zmiennej. \n",
        "\n",
        "Listy są `uporządkowane`, można je zmieniać (są `edytowalne`) i zezwalają na `zduplikowane wartości`.\n",
        "\n",
        "Elementy listy są `indeksowane`, pierwsza pozycja ma indeks `[0]`, druga pozycja ma indeks `[1]` itd.\n",
        "\n",
        "\n",
        "Listę inicjalizujemy `kwadratowymi nawiasami`.\n",
        "\n",
        "\n",
        "## Przykład"
      ],
      "metadata": {
        "id": "UoZ7EwboZ6TA"
      }
    },
    {
      "cell_type": "code",
      "source": [
        "fruits = ['orange', 'apple', 'pear', 'banana', 'kiwi', 'apple', 'banana']\n",
        "print(fruits)"
      ],
      "metadata": {
        "colab": {
          "base_uri": "https://localhost:8080/"
        },
        "id": "yZtYAUJdecL9",
        "outputId": "21578501-0378-4a51-9335-41d45cbea952"
      },
      "execution_count": 4,
      "outputs": [
        {
          "output_type": "stream",
          "name": "stdout",
          "text": [
            "['orange', 'apple', 'pear', 'banana', 'kiwi', 'apple', 'banana']\n"
          ]
        }
      ]
    },
    {
      "cell_type": "code",
      "source": [
        "fruits[0]  # pierwszy element listy"
      ],
      "metadata": {
        "colab": {
          "base_uri": "https://localhost:8080/",
          "height": 37
        },
        "id": "52ufuH6VJfWA",
        "outputId": "86a56a08-9b08-48a6-84d2-dcb7eec67306"
      },
      "execution_count": 109,
      "outputs": [
        {
          "output_type": "execute_result",
          "data": {
            "text/plain": [
              "'orange'"
            ],
            "application/vnd.google.colaboratory.intrinsic+json": {
              "type": "string"
            }
          },
          "metadata": {},
          "execution_count": 109
        }
      ]
    },
    {
      "cell_type": "markdown",
      "source": [
        "# **Słownik (dictionary)**\n",
        "\n",
        "Teraz powiemy sobie czym są słowniki w Pythonie.\n",
        "\n",
        "`Słowniki` służą do przechowywania wartości w parach `klucz:wartość`.\n",
        "\n",
        "Słownik to zbiór `uporządkowany`, `zmienny` i `nie pozwalający na duplikaty`.\n",
        "\n",
        "Słownik inicjalizujemy `klamrowymi nawiasami`.\n"
      ],
      "metadata": {
        "id": "fGTbbfpPdZXI"
      }
    },
    {
      "cell_type": "markdown",
      "source": [
        "# **Tworzenie słownika w Pythonie**\n",
        "\n",
        "Tworzenie słownika jest tak proste, jak umieszczanie elementów w nawiasach klamrowych `{ }` oddzielonych przecinkami.\n",
        "\n",
        "Każdy element słownika to para (key: value). `Key` oznacza klucz w słowniku, a `value` reprezentuje jego wartość.\n",
        "\n",
        "Chociaż `wartości` mogą być dowolnego typu i mogą się powtarzać, `klucze` muszą być typu `niezmiennego` i muszą być `unikatowe`.\n",
        "\n",
        "## Przykład"
      ],
      "metadata": {
        "id": "vPAUiI-EfKsw"
      }
    },
    {
      "cell_type": "code",
      "source": [
        "my_dict = {    # tworzenie słownika przy użyciu nawiasów klamrowych\n",
        "  \"brand\": \"Ford\",\n",
        "  \"model\": \"Mustang\",\n",
        "  \"year\": 1964\n",
        "}"
      ],
      "metadata": {
        "id": "1ftSBwImfK_O"
      },
      "execution_count": 5,
      "outputs": []
    },
    {
      "cell_type": "markdown",
      "source": [
        "W powyższym słowniku `my_dict` kluczami są: `brand`, `model` i `year`, a odpowiadającymi im wartościami są: `Ford`, `Mustang` i `1964`.\n",
        "Zauważ, że po danym kluczu zawsze dajemy dwukropek, a dopiero potem wartość."
      ],
      "metadata": {
        "id": "WBiXvGm_gJfx"
      }
    },
    {
      "cell_type": "markdown",
      "source": [
        "# Tworzenie słownika przy użyciu dict()\n",
        "\n",
        "`Słownik` w Pythonie może zostać stworzony przy użyciu wbudowanej funkcji `dict()`. Funkcja ta jako argumenty przyjmuje pary `key`,`value`.\n",
        "\n",
        "## Przykład"
      ],
      "metadata": {
        "id": "pQei_Fo5g5tG"
      }
    },
    {
      "cell_type": "code",
      "source": [
        "x = dict(brand = \"Ford\", model = \"Mustang\", year = \"1964\") #tworzenie słownika przy użyciu dict()"
      ],
      "metadata": {
        "id": "qENqP8GYhnka"
      },
      "execution_count": 10,
      "outputs": []
    },
    {
      "cell_type": "markdown",
      "source": [
        "Zauważ, że ten sposób inicjalizaji słownika ma pewne różnice:\n",
        "\n",
        "\n",
        "\n",
        "*   kluczy (`keys`) nie przekazujemy jako stringi,\n",
        "*   rolę dwukropka pełni znak równości,\n",
        "*   funkcji `dict()` przekazujemy pary bez zamykania ich w nawias klamrowy.\n",
        "\n",
        "\n",
        "\n"
      ],
      "metadata": {
        "id": "u6xubNNDh4a2"
      }
    },
    {
      "cell_type": "markdown",
      "source": [
        "# Dostęp do elementów ze słownika\n",
        "Podczas gdy indeksowanie jest używane z innymi typami danych  (np. `listami`) w celu uzyskania dostępu do `wartości`, słownik używa `kluczy` (tzn. indeksowanie jak w listach, nie zadziała). `Klucze` mogą być używane w nawiasach kwadratowych `[ ]` lub z metodą `get()`.\n",
        "Jeśli np. chcielibyśmy w słowniku `my_dict` znaleźć `wartość` dla `klucza` `brand` możemy to zrobić tak:"
      ],
      "metadata": {
        "id": "_6x3Talaj2Uy"
      }
    },
    {
      "cell_type": "code",
      "source": [
        "my_dict['brand'] # wartość pod kluczem 'brand'"
      ],
      "metadata": {
        "colab": {
          "base_uri": "https://localhost:8080/",
          "height": 37
        },
        "id": "4Ga2UNlrkreT",
        "outputId": "bd161450-ffdb-43d2-ec47-c4a94ed346f3"
      },
      "execution_count": 11,
      "outputs": [
        {
          "output_type": "execute_result",
          "data": {
            "text/plain": [
              "'Ford'"
            ],
            "application/vnd.google.colaboratory.intrinsic+json": {
              "type": "string"
            }
          },
          "metadata": {},
          "execution_count": 11
        }
      ]
    },
    {
      "cell_type": "markdown",
      "source": [
        "Lub przy użyciu metody `get()`:"
      ],
      "metadata": {
        "id": "ECJvebEZkz6J"
      }
    },
    {
      "cell_type": "code",
      "source": [
        "my_dict.get('brand')"
      ],
      "metadata": {
        "colab": {
          "base_uri": "https://localhost:8080/",
          "height": 37
        },
        "id": "RNUtJ_K_lDZ9",
        "outputId": "74db8fb8-cfd0-45bf-9948-30c00bca8235"
      },
      "execution_count": 12,
      "outputs": [
        {
          "output_type": "execute_result",
          "data": {
            "text/plain": [
              "'Ford'"
            ],
            "application/vnd.google.colaboratory.intrinsic+json": {
              "type": "string"
            }
          },
          "metadata": {},
          "execution_count": 12
        }
      ]
    },
    {
      "cell_type": "markdown",
      "source": [
        "Jeśli użyjemy nawiasów kwadratowych `[ ]` dla klucza, którego nie ma słowniku, wyskoczy nam błąd `KeyError`. Metoda `get()` zwróciłaby `None`."
      ],
      "metadata": {
        "id": "JdzLc9fklPHb"
      }
    },
    {
      "cell_type": "code",
      "source": [
        "my_dict['bwm']  #klucza 'bwm' nie ma w słowniku --> KeyError"
      ],
      "metadata": {
        "colab": {
          "base_uri": "https://localhost:8080/",
          "height": 164
        },
        "id": "FazSbOpTl5Bx",
        "outputId": "76e74760-4385-43ee-b58b-0b28f3a0c7dc"
      },
      "execution_count": 13,
      "outputs": [
        {
          "output_type": "error",
          "ename": "KeyError",
          "evalue": "ignored",
          "traceback": [
            "\u001b[0;31m---------------------------------------------------------------------------\u001b[0m",
            "\u001b[0;31mKeyError\u001b[0m                                  Traceback (most recent call last)",
            "\u001b[0;32m<ipython-input-13-04a0b9c4a66f>\u001b[0m in \u001b[0;36m<module>\u001b[0;34m()\u001b[0m\n\u001b[0;32m----> 1\u001b[0;31m \u001b[0mmy_dict\u001b[0m\u001b[0;34m[\u001b[0m\u001b[0;34m'bwm'\u001b[0m\u001b[0;34m]\u001b[0m\u001b[0;34m\u001b[0m\u001b[0;34m\u001b[0m\u001b[0m\n\u001b[0m",
            "\u001b[0;31mKeyError\u001b[0m: 'bwm'"
          ]
        }
      ]
    },
    {
      "cell_type": "code",
      "source": [
        "print(my_dict.get('bmw'))   # klucza 'bwm' nie ma w słowniku --> get() zwraca None"
      ],
      "metadata": {
        "colab": {
          "base_uri": "https://localhost:8080/"
        },
        "id": "hLAxdrVrl8Rt",
        "outputId": "913525a5-672e-46f6-e9ca-16373a788715"
      },
      "execution_count": 15,
      "outputs": [
        {
          "output_type": "stream",
          "name": "stdout",
          "text": [
            "None\n"
          ]
        }
      ]
    },
    {
      "cell_type": "code",
      "source": [
        "my_dict[0]  #indeksowanie jak listach nie zadziała --> KeyError"
      ],
      "metadata": {
        "colab": {
          "base_uri": "https://localhost:8080/",
          "height": 164
        },
        "id": "xhGm654_K29t",
        "outputId": "a9ada986-fd00-42f3-b3a4-77e583af56f4"
      },
      "execution_count": 110,
      "outputs": [
        {
          "output_type": "error",
          "ename": "KeyError",
          "evalue": "ignored",
          "traceback": [
            "\u001b[0;31m---------------------------------------------------------------------------\u001b[0m",
            "\u001b[0;31mKeyError\u001b[0m                                  Traceback (most recent call last)",
            "\u001b[0;32m<ipython-input-110-12cd0ddeaa4b>\u001b[0m in \u001b[0;36m<module>\u001b[0;34m()\u001b[0m\n\u001b[0;32m----> 1\u001b[0;31m \u001b[0mmy_dict\u001b[0m\u001b[0;34m[\u001b[0m\u001b[0;36m0\u001b[0m\u001b[0;34m]\u001b[0m  \u001b[0;31m#indeksowanie jak listach nie zadziała -->\u001b[0m\u001b[0;34m\u001b[0m\u001b[0;34m\u001b[0m\u001b[0m\n\u001b[0m",
            "\u001b[0;31mKeyError\u001b[0m: 0"
          ]
        }
      ]
    },
    {
      "cell_type": "markdown",
      "source": [
        "# Zmienianie i dodawanie elementów słownika\n",
        "\n",
        "Słowniki są `zmienne` (edytowalne). Możemy dodawać nowe pozycje lub zmieniać wartość istniejących pozycji za pomocą operatora przypisania, czyli `=`.\n",
        "\n",
        "Jeśli `klucz` jest już obecny, `aktualizowana` jest istniejąca `wartość`. W przypadku braku klucza do słownika dodawana jest nowa para (klucz: wartość).\n",
        "\n",
        "## Przykład"
      ],
      "metadata": {
        "id": "2QTdtmlymRd4"
      }
    },
    {
      "cell_type": "code",
      "source": [
        "# Zmienianie i dodawanie elementów słownika\n",
        "my_dict = {   \n",
        "  \"brand\": \"Ford\",\n",
        "  \"model\": \"Mustang\",\n",
        "  \"year\": 1964\n",
        "}\n",
        "\n",
        "# aktualizowanie wartości\n",
        "my_dict['year'] = 1987\n",
        "\n",
        "print(my_dict)"
      ],
      "metadata": {
        "colab": {
          "base_uri": "https://localhost:8080/"
        },
        "id": "mm5ReoPdmuOM",
        "outputId": "ca26441f-88be-445d-eb62-f03bed08902a"
      },
      "execution_count": 17,
      "outputs": [
        {
          "output_type": "stream",
          "name": "stdout",
          "text": [
            "{'brand': 'Ford', 'model': 'Mustang', 'year': 1987}\n"
          ]
        }
      ]
    },
    {
      "cell_type": "markdown",
      "source": [
        "Zmieniliśmy wartość dla `klucza` `year` na 1987. Podobnie możemy zmienić pozostałe wartości kluczy."
      ],
      "metadata": {
        "id": "kT-T-uIPnKX_"
      }
    },
    {
      "cell_type": "code",
      "source": [
        "my_dict['brand'] = 'Audi' #aktualizujemy wartośc dla klucza \"brand\" na \"Audi\"\n",
        "\n",
        "my_dict['model'] = 'RS3' #aktualizujemy wartośc dla klucza \"model\" na \"RS3\"\n",
        "\n",
        "my_dict['year'] = 2019 #aktualizujemy wartośc dla klucza \"year\" na \"2019\"\n",
        "\n",
        "print(my_dict)"
      ],
      "metadata": {
        "colab": {
          "base_uri": "https://localhost:8080/"
        },
        "id": "YbO2yDY2nUz9",
        "outputId": "79fe4f64-3397-407d-e1f0-f27b020d748b"
      },
      "execution_count": 22,
      "outputs": [
        {
          "output_type": "stream",
          "name": "stdout",
          "text": [
            "{'model': 'RS3', 'year': 2019, 'brand': 'Audi'}\n"
          ]
        }
      ]
    },
    {
      "cell_type": "markdown",
      "source": [
        "# Usuwanie elementów ze słownika\n",
        "\n",
        "Możemy usunąć konkretną pozycję ze słownika za pomocą metody `pop()`. Ta metoda usuwa element z podanym kluczem. Na koniec wyświetla wartość usuniętej pary.\n"
      ],
      "metadata": {
        "id": "4DbaerRYoXSK"
      }
    },
    {
      "cell_type": "code",
      "source": [
        "my_dict.pop('brand') #usuwa klucz 'brand' wraz z jego wartością a na koniec printuję tę wartość "
      ],
      "metadata": {
        "colab": {
          "base_uri": "https://localhost:8080/",
          "height": 37
        },
        "id": "EQeertjopNXX",
        "outputId": "82cc6f05-eab9-4bb4-eaac-2d831a7d91b6"
      },
      "execution_count": 23,
      "outputs": [
        {
          "output_type": "execute_result",
          "data": {
            "text/plain": [
              "'Audi'"
            ],
            "application/vnd.google.colaboratory.intrinsic+json": {
              "type": "string"
            }
          },
          "metadata": {},
          "execution_count": 23
        }
      ]
    },
    {
      "cell_type": "markdown",
      "source": [
        "Metoda `popitem()` usuwa element, który był ostatnio wstawiany do słownika. Na koniec wyświetla usuniętą parę."
      ],
      "metadata": {
        "id": "sqwMBipapnX-"
      }
    },
    {
      "cell_type": "code",
      "source": [
        "my_dict['color'] = 'red' #wstawmy nową parę: color: red\n",
        "print(my_dict)"
      ],
      "metadata": {
        "colab": {
          "base_uri": "https://localhost:8080/"
        },
        "id": "IDsSf-hFpzmO",
        "outputId": "15cedd6b-4e83-4bc1-cd8a-13076d294388"
      },
      "execution_count": 28,
      "outputs": [
        {
          "output_type": "stream",
          "name": "stdout",
          "text": [
            "{'model': 'RS3', 'color': 'red'}\n"
          ]
        }
      ]
    },
    {
      "cell_type": "code",
      "source": [
        "my_dict.popitem()  # usuwa ostanio wstawianą parę, czyli color: red."
      ],
      "metadata": {
        "colab": {
          "base_uri": "https://localhost:8080/"
        },
        "id": "0YhbxUzKqRDe",
        "outputId": "7eb472bc-e175-49e5-8623-8d29a0b122ac"
      },
      "execution_count": 29,
      "outputs": [
        {
          "output_type": "execute_result",
          "data": {
            "text/plain": [
              "('color', 'red')"
            ]
          },
          "metadata": {},
          "execution_count": 29
        }
      ]
    },
    {
      "cell_type": "code",
      "source": [
        "my_dict # ze słownika zniknęła para color: red"
      ],
      "metadata": {
        "colab": {
          "base_uri": "https://localhost:8080/"
        },
        "id": "J6KEpHz6qUfg",
        "outputId": "2611f60c-f097-4c51-ed18-f5de39b86fe4"
      },
      "execution_count": 30,
      "outputs": [
        {
          "output_type": "execute_result",
          "data": {
            "text/plain": [
              "{'model': 'RS3'}"
            ]
          },
          "metadata": {},
          "execution_count": 30
        }
      ]
    },
    {
      "cell_type": "markdown",
      "source": [
        "W celu usunięcia wszystkich elementów ze słownika możemy użyc metody `clear()`."
      ],
      "metadata": {
        "id": "32_zMFP-qoBr"
      }
    },
    {
      "cell_type": "code",
      "source": [
        "year_of_creation = {'Python': 1993, 'JavaScript': 1995, 'HTML': 1993}  # tworzymy jakiś słownik\n",
        "print(year_of_creation)"
      ],
      "metadata": {
        "colab": {
          "base_uri": "https://localhost:8080/"
        },
        "id": "NpkgBPCpq0Qw",
        "outputId": "d750375a-ca09-43b1-858d-ff02397503e2"
      },
      "execution_count": 32,
      "outputs": [
        {
          "output_type": "stream",
          "name": "stdout",
          "text": [
            "{'Python': 1993, 'JavaScript': 1995, 'HTML': 1993}\n"
          ]
        }
      ]
    },
    {
      "cell_type": "code",
      "source": [
        "year_of_creation.clear()  # metoda clear usunie wszystkie elementy (pary key:value)\n",
        "print(year_of_creation)"
      ],
      "metadata": {
        "colab": {
          "base_uri": "https://localhost:8080/"
        },
        "id": "mhT9-lMyrKbo",
        "outputId": "dbfd7266-0bbd-4009-da62-caea534be72e"
      },
      "execution_count": 34,
      "outputs": [
        {
          "output_type": "stream",
          "name": "stdout",
          "text": [
            "{}\n"
          ]
        }
      ]
    },
    {
      "cell_type": "markdown",
      "source": [
        "# **Metody słownika Pythona**\n",
        "\n",
        "Poniżej zestawione są metody dostępne ze słownikiem. Niektóre z nich zostały już wykorzystane w powyższych przykładach.\n",
        "\n",
        "| **Metoda** \t| **Opis**                                          \t|\n",
        "|------------\t|---------------------------------------------------\t|\n",
        "| keys()     \t| Zwraca widok kluczy słownika          \t|\n",
        "| values()   \t| Zwraca widok wartości w słowniku       \t|\n",
        "| items()    \t| Zwraca widok zawierający pary klucz-wartość       \t|\n",
        "| get()      \t| Zwraca wartość określonego klucza                 \t|\n",
        "| pop()      \t| Usuwa element z określonym kluczem                \t|\n",
        "| popitem()  \t| Usuwa ostatnią wstawioną parę klucz-wartość       \t|\n",
        "| clear()    \t| Usuwa wszystkie elementy ze słownika              \t|\n",
        "| copy()     \t| Zwraca kopię słownika                             \t|\n",
        "| fromkeys() \t| Zwraca słownik z określonymi kluczami i wartością \t|"
      ],
      "metadata": {
        "id": "buELQDa8rTK1"
      }
    },
    {
      "cell_type": "markdown",
      "source": [
        "## Metody `keys()`, `values()` i `items()`\n",
        "\n",
        "Powyższe metody zwracają widok na odpowiednio: klucze, wartości i elementy słownika (pary `key:values`). Zwrócone przez nich obiekty `nie są listami` więc nie można ich indeksować.\n",
        "\n",
        "# Przykład"
      ],
      "metadata": {
        "id": "psntZtXvygfG"
      }
    },
    {
      "cell_type": "code",
      "source": [
        "my_dict = {   \n",
        "  \"brand\": \"Ford\",\n",
        "  \"model\": \"Mustang\",\n",
        "  \"year\": 1964\n",
        "}\n",
        "\n",
        "dict_keys = my_dict.keys() #przypisujemy zmiennej dict_keys klucze słownika my_dict\n",
        "print(dict_keys)"
      ],
      "metadata": {
        "colab": {
          "base_uri": "https://localhost:8080/"
        },
        "id": "DG4vF0zA2BD2",
        "outputId": "aaba59fe-9cab-47d4-a246-97a72f2cab35"
      },
      "execution_count": 48,
      "outputs": [
        {
          "output_type": "stream",
          "name": "stdout",
          "text": [
            "dict_keys(['brand', 'model', 'year'])\n"
          ]
        }
      ]
    },
    {
      "cell_type": "code",
      "source": [
        "dict_values = my_dict.values() #przypisujemy zmiennej dict_values wartości słownika my_dict\n",
        "print(dict_values)"
      ],
      "metadata": {
        "colab": {
          "base_uri": "https://localhost:8080/"
        },
        "id": "Ai3vA5kJ37Kk",
        "outputId": "ac5982d0-5bda-4409-c566-f090449b5f54"
      },
      "execution_count": 49,
      "outputs": [
        {
          "output_type": "stream",
          "name": "stdout",
          "text": [
            "dict_values(['Ford', 'Mustang', 1964])\n"
          ]
        }
      ]
    },
    {
      "cell_type": "code",
      "source": [
        "dict_items = my_dict.items() #przypisujemy zmiennej dict_items elementy słownika my_dict\n",
        "print(dict_items)"
      ],
      "metadata": {
        "colab": {
          "base_uri": "https://localhost:8080/"
        },
        "id": "uquWZLzJ4XaG",
        "outputId": "a0da5df2-7664-4e92-a46b-c5a5c9fed571"
      },
      "execution_count": 51,
      "outputs": [
        {
          "output_type": "stream",
          "name": "stdout",
          "text": [
            "dict_items([('brand', 'Ford'), ('model', 'Mustang'), ('year', 1964)])\n"
          ]
        }
      ]
    },
    {
      "cell_type": "code",
      "source": [
        "dict_keys[0] # metody keys, values, items nie pozwalają na indeksowanie --> TypeError"
      ],
      "metadata": {
        "colab": {
          "base_uri": "https://localhost:8080/",
          "height": 164
        },
        "id": "ysGXB5V04h7m",
        "outputId": "a914dde7-c84d-4fea-9ca0-a574d85d131a"
      },
      "execution_count": 52,
      "outputs": [
        {
          "output_type": "error",
          "ename": "TypeError",
          "evalue": "ignored",
          "traceback": [
            "\u001b[0;31m---------------------------------------------------------------------------\u001b[0m",
            "\u001b[0;31mTypeError\u001b[0m                                 Traceback (most recent call last)",
            "\u001b[0;32m<ipython-input-52-995a0b2517a3>\u001b[0m in \u001b[0;36m<module>\u001b[0;34m()\u001b[0m\n\u001b[0;32m----> 1\u001b[0;31m \u001b[0mdict_keys\u001b[0m\u001b[0;34m[\u001b[0m\u001b[0;36m0\u001b[0m\u001b[0;34m]\u001b[0m \u001b[0;31m# metody keys, values, items nie pozwalają na indeksowanie --> TypeError\u001b[0m\u001b[0;34m\u001b[0m\u001b[0;34m\u001b[0m\u001b[0m\n\u001b[0m",
            "\u001b[0;31mTypeError\u001b[0m: 'dict_keys' object is not subscriptable"
          ]
        }
      ]
    },
    {
      "cell_type": "markdown",
      "source": [
        "# **Iteracja przez słownik**\n",
        "\n",
        "Możemy iterować się przez każdy klucz w słowniku za pomocą pętli `for`. \n",
        "\n",
        "## Przykład"
      ],
      "metadata": {
        "id": "4ix_p-5J5HSn"
      }
    },
    {
      "cell_type": "code",
      "source": [
        "for key in my_dict:  #gdybyśmy dali my_dict.keys() rezultat byłby taki sam\n",
        "  print(key)"
      ],
      "metadata": {
        "colab": {
          "base_uri": "https://localhost:8080/"
        },
        "id": "z2v22-jO5MnC",
        "outputId": "c011ad11-8b84-4c03-a0cf-3e4aef46cc49"
      },
      "execution_count": 57,
      "outputs": [
        {
          "output_type": "stream",
          "name": "stdout",
          "text": [
            "brand\n",
            "model\n",
            "year\n"
          ]
        }
      ]
    },
    {
      "cell_type": "markdown",
      "source": [
        "Aby przeiterować się po wartościach, możemy wykorzystać metodę `values()`."
      ],
      "metadata": {
        "id": "qDiidDBk5dbT"
      }
    },
    {
      "cell_type": "code",
      "source": [
        "for value in my_dict.values():\n",
        "  print(value)"
      ],
      "metadata": {
        "colab": {
          "base_uri": "https://localhost:8080/"
        },
        "id": "PGYEBr9I5c2F",
        "outputId": "0d20034d-7589-4c6f-f3ba-fb37d2a1f1d0"
      },
      "execution_count": 56,
      "outputs": [
        {
          "output_type": "stream",
          "name": "stdout",
          "text": [
            "Ford\n",
            "Mustang\n",
            "1964\n"
          ]
        }
      ]
    },
    {
      "cell_type": "markdown",
      "source": [
        "Podobnie możemy itereować się po `elementach` słownika (parach `key:value`)\n",
        "\n",
        "## Przykład"
      ],
      "metadata": {
        "id": "4vLQxAVD5q-P"
      }
    },
    {
      "cell_type": "code",
      "source": [
        "for element in my_dict.items():\n",
        "  print(element)"
      ],
      "metadata": {
        "colab": {
          "base_uri": "https://localhost:8080/"
        },
        "id": "9n_M6zWe57ve",
        "outputId": "87071c31-47de-42c3-8fe8-b1d29141e184"
      },
      "execution_count": 58,
      "outputs": [
        {
          "output_type": "stream",
          "name": "stdout",
          "text": [
            "('brand', 'Ford')\n",
            "('model', 'Mustang')\n",
            "('year', 1964)\n"
          ]
        }
      ]
    },
    {
      "cell_type": "markdown",
      "source": [
        "# Metoda fromkeys()\n",
        "\n",
        "Metoda `fromkeys()` jest bardzo przydatną podczas tworzeniu słowników. Pozwala ona stworzyć słownik ze zdefniowanej wcześniej listy i wartości, która ma zostać przypisana każdemu kluczowi.\n",
        "\n",
        "## Przykład"
      ],
      "metadata": {
        "id": "JkzTMD707EyA"
      }
    },
    {
      "cell_type": "code",
      "source": [
        "marks = {}  # tworzymy pusty słownik\n",
        "names = ['John', 'Mark', 'Matthew 1', 'Matthew 2', 'Peter 1', 'Peter 2', 'Charles']\n",
        "grades = 1\n",
        "marks = marks.fromkeys(names, grades)  # wypełniamy pusty słownik\n",
        "print(marks)"
      ],
      "metadata": {
        "colab": {
          "base_uri": "https://localhost:8080/"
        },
        "id": "sQAjrR_e7dEo",
        "outputId": "e4fdf958-b844-41c5-d16a-20ab46a465d7"
      },
      "execution_count": 73,
      "outputs": [
        {
          "output_type": "stream",
          "name": "stdout",
          "text": [
            "{'John': 1, 'Mark': 1, 'Matthew 1': 1, 'Matthew 2': 1, 'Peter 1': 1, 'Peter 2': 1, 'Charles': 1}\n"
          ]
        }
      ]
    },
    {
      "cell_type": "code",
      "source": [
        "marks[\"Charles\"] = 6\n",
        "print(marks)"
      ],
      "metadata": {
        "colab": {
          "base_uri": "https://localhost:8080/"
        },
        "id": "AObyfCca8Urd",
        "outputId": "af3b7eca-2f49-4bb6-c813-f9f96462e299"
      },
      "execution_count": 74,
      "outputs": [
        {
          "output_type": "stream",
          "name": "stdout",
          "text": [
            "{'John': 1, 'Mark': 1, 'Matthew 1': 1, 'Matthew 2': 1, 'Peter 1': 1, 'Peter 2': 1, 'Charles': 6}\n"
          ]
        }
      ]
    },
    {
      "cell_type": "markdown",
      "source": [
        "# Wbudowane funkcje słownika\n",
        "\n",
        "Wcześniej poznalismy już parę podstawowych funkcji w Pythonie m.in. `len()` i `sorted()`. Funkcja `len()` zwraca długość struktury danych, a `sorted()` sortuje rosnąco. W przypadku słowników, funkcja `sorted()` zwraca listę posortowanych `wartości` (domyślnie rosnąco).\n",
        "\n",
        "## Przykład\n",
        "\n",
        "\n"
      ],
      "metadata": {
        "id": "SOUrRKQn6JI3"
      }
    },
    {
      "cell_type": "code",
      "source": [
        "ages = dict(Maria = 17, Peter = 22, Donald = 14, John = 32, Linda = 29, Sandra = 25)\n",
        "print(ages)"
      ],
      "metadata": {
        "colab": {
          "base_uri": "https://localhost:8080/"
        },
        "id": "1hoawPBM7Da-",
        "outputId": "bcb07b5e-0179-4aa1-f29a-3585f8003ace"
      },
      "execution_count": 78,
      "outputs": [
        {
          "output_type": "stream",
          "name": "stdout",
          "text": [
            "{'Maria': 17, 'Peter': 22, 'Donald': 14, 'John': 32, 'Linda': 29, 'Sandra': 25}\n"
          ]
        }
      ]
    },
    {
      "cell_type": "code",
      "source": [
        "len(ages)"
      ],
      "metadata": {
        "colab": {
          "base_uri": "https://localhost:8080/"
        },
        "id": "wdPZLVEI_32C",
        "outputId": "e528235a-f758-4d63-f25d-9303f9861745"
      },
      "execution_count": 79,
      "outputs": [
        {
          "output_type": "execute_result",
          "data": {
            "text/plain": [
              "6"
            ]
          },
          "metadata": {},
          "execution_count": 79
        }
      ]
    },
    {
      "cell_type": "code",
      "source": [
        "sorted(ages) # zwraca listę wartości (imion) od najmłodszych do najstarszych"
      ],
      "metadata": {
        "colab": {
          "base_uri": "https://localhost:8080/"
        },
        "id": "L3VQCMx7_pCa",
        "outputId": "b7530f34-7268-4edb-c819-1b337ef570d2"
      },
      "execution_count": 77,
      "outputs": [
        {
          "output_type": "execute_result",
          "data": {
            "text/plain": [
              "['Donald', 'John', 'Linda', 'Maria', 'Peter', 'Sandra']"
            ]
          },
          "metadata": {},
          "execution_count": 77
        }
      ]
    },
    {
      "cell_type": "markdown",
      "source": [
        "# **Zadanie Przykładowe 1**\n",
        "\n",
        "Stwórz funkcję `names_length`, która przyjmuję jeden argument, `listę` imion, i `zwraca` słownik, gdzie każdy element tego słownika to para `imię: długość imienia`. Tzn. rolę `key` pełni imię, a rolę `value` pełni liczba liter w imieniu.\n",
        "\n",
        "## Rozwiązanie"
      ],
      "metadata": {
        "id": "gj79fhOmAnLh"
      }
    },
    {
      "cell_type": "code",
      "source": [
        "def names_length(names):\n",
        "  names_dict = {}  # tworzymy pusty słownik\n",
        "  for name in names:  # iterujemy się po imionach w liście\n",
        "    names_dict[name] = len(name)  # dodajemy parę name : len(name) do słownika \n",
        "  return names_dict"
      ],
      "metadata": {
        "id": "TewlJXHlB283"
      },
      "execution_count": 95,
      "outputs": []
    },
    {
      "cell_type": "markdown",
      "source": [
        "Sprawdźmy działanie naszej funkcji:"
      ],
      "metadata": {
        "id": "3IC4IC2SFXf_"
      }
    },
    {
      "cell_type": "code",
      "source": [
        "names = ['John', 'Mark', 'Matthew', 'Peter', 'Charles']"
      ],
      "metadata": {
        "id": "6sjE1tdaCQD6"
      },
      "execution_count": 96,
      "outputs": []
    },
    {
      "cell_type": "code",
      "source": [
        "names_length(names)"
      ],
      "metadata": {
        "id": "XxOFMqepCSF1"
      },
      "execution_count": 99,
      "outputs": []
    },
    {
      "cell_type": "markdown",
      "source": [
        "# **Zadanie Przykładowe 2**\n",
        "\n",
        "Stwórz funkcję `top_3`, która przyjmuje jeden argument (słownik zawierający pary kraj: liczba ludności w mln) i zwraca nazwy trzech najbogatszych krajów.\n",
        "\n",
        "## Rozwiązanie"
      ],
      "metadata": {
        "id": "I7mQocFkFlJi"
      }
    },
    {
      "cell_type": "code",
      "source": [
        "def top_3(dictionary):\n",
        "  sorted_dictionary = sorted(dictionary, reverse = True)\n",
        "  top_3_keys = sorted_dictionary[:3]  # bierzemy pierwsze 3 elementy z posortowanej listy wartości\n",
        "  return top_3_keys\n",
        "\n"
      ],
      "metadata": {
        "id": "2kSJoey7GPFb"
      },
      "execution_count": 105,
      "outputs": []
    },
    {
      "cell_type": "code",
      "source": [
        "countries = dict(Croatia = 4.1, Czechia = 10.7, Finland = 5.5, Nepal = 29.1, Spain = 46.7, Poland = 37.8)"
      ],
      "metadata": {
        "id": "yGHufFRfHvWv"
      },
      "execution_count": 107,
      "outputs": []
    },
    {
      "cell_type": "code",
      "source": [
        "top_3(countries)"
      ],
      "metadata": {
        "colab": {
          "base_uri": "https://localhost:8080/"
        },
        "id": "hKamCyQcGvAN",
        "outputId": "831b2bb0-1aa6-474a-ff65-77e5e5457c8d"
      },
      "execution_count": 108,
      "outputs": [
        {
          "output_type": "execute_result",
          "data": {
            "text/plain": [
              "['Spain', 'Poland', 'Nepal']"
            ]
          },
          "metadata": {},
          "execution_count": 108
        }
      ]
    },
    {
      "cell_type": "markdown",
      "source": [
        "# **Podsumowanie**\n",
        "\n",
        "`Słowniki` służą do przechowywania wartości danych w parach `klucz: wartość`.\n",
        "\n",
        "Słownik to zbiór `uporządkowany`, `edytowalny` i `nie pozwalający na duplikaty`.\n"
      ],
      "metadata": {
        "id": "GbFvc5qjIVsL"
      }
    }
  ]
}