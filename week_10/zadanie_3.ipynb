{
 "cells": [
  {
   "cell_type": "code",
   "execution_count": null,
   "metadata": {},
   "outputs": [],
   "source": [
    "%%capture\n",
    "!pip install otter-grader\n",
    "\n",
    "files = \"https://github.com/mateuszwyszynski/python_basics/raw/main/week_10/test3/tests.zip\"\n",
    "!wget -O ./tests.zip $files && unzip -o tests.zip\n",
    "\n",
    "import otter\n",
    "grader = otter.Notebook(colab = True)"
   ]
  },
  {
   "cell_type": "markdown",
   "metadata": {
    "id": "0fAstGklY3A_"
   },
   "source": [
    "# **Zadanie 3**\n",
    "Stwórz funkcję `similiar_numbers`, która przyjmuje jeden argument (listę liczb naturalnych) i zwraca słownik, którego klucze to mozliwe reszty z dzielenia przez 4, a wartości to lista liczb, ktorych reszta z dzielenia przez 4 jest równa kluczowi odpowiadającemu wartości.\n",
    "\n",
    "Na przykład dla listy [1,2,3,4,5,6,7]\n",
    "\n",
    "Funkcja `similiar_numbers` powinna zwrócic slownik:\n",
    "\n",
    "{0:[4], 1:[1,5], 2:[2, 6], 3:[3,7]}"
   ]
  },
  {
   "cell_type": "code",
   "execution_count": null,
   "metadata": {
    "tags": []
   },
   "outputs": [],
   "source": [
    "...\n",
    "            \n",
    "        \n"
   ]
  },
  {
   "cell_type": "code",
   "execution_count": null,
   "metadata": {
    "deletable": false,
    "editable": false
   },
   "outputs": [],
   "source": [
    "grader.check(\"Q3\")"
   ]
  }
 ],
 "metadata": {
  "colab": {
   "name": "Untitled8.ipynb",
   "provenance": []
  },
  "interpreter": {
   "hash": "f803c97c7de3392835c0b61dcd57f6d5e7d6b20d3f31744ded337577e1eef420"
  },
  "kernelspec": {
   "display_name": "Python 3.10.2 64-bit ('venv310')",
   "language": "python",
   "name": "python3"
  },
  "language_info": {
   "codemirror_mode": {
    "name": "ipython",
    "version": 3
   },
   "file_extension": ".py",
   "mimetype": "text/x-python",
   "name": "python",
   "nbconvert_exporter": "python",
   "pygments_lexer": "ipython3",
   "version": "3.10.2"
  }
 },
 "nbformat": 4,
 "nbformat_minor": 0
}
