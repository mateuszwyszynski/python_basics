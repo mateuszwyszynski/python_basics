{
 "cells": [
  {
   "cell_type": "code",
   "execution_count": null,
   "metadata": {},
   "outputs": [],
   "source": [
    "%%capture\n",
    "!pip install otter-grader\n",
    "\n",
    "files = \"https://github.com/mateuszwyszynski/python_basics/raw/main/week_10/tests1.zip\"\n",
    "!wget -O ./tests.zip $files && unzip -o tests.zip\n",
    "\n",
    "import otter\n",
    "grader = otter.Notebook(colab = True)"
   ]
  },
  {
   "cell_type": "markdown",
   "metadata": {},
   "source": [
    "# **Zadanie 1**\n",
    "\n",
    "Stwórz funkcję `mapping`, która ma przyjmowac jeden argument (`listę liczb`) i stworzyc słownik, które `keys` to kolejne elementy z `listy liczb`, a values to odpowiadające im wartości funkcji W(x) = $f(x) = 2x^3 + 4x -7$ "
   ]
  },
  {
   "cell_type": "code",
   "execution_count": null,
   "metadata": {
    "tags": []
   },
   "outputs": [],
   "source": [
    "..."
   ]
  },
  {
   "cell_type": "code",
   "execution_count": null,
   "metadata": {
    "deletable": false,
    "editable": false
   },
   "outputs": [],
   "source": [
    "grader.check(\"Q1\")"
   ]
  }
 ],
 "metadata": {
  "interpreter": {
   "hash": "f803c97c7de3392835c0b61dcd57f6d5e7d6b20d3f31744ded337577e1eef420"
  },
  "kernelspec": {
   "display_name": "Python 3.10.2 64-bit ('venv310')",
   "language": "python",
   "name": "python3"
  },
  "language_info": {
   "codemirror_mode": {
    "name": "ipython",
    "version": 3
   },
   "file_extension": ".py",
   "mimetype": "text/x-python",
   "name": "python",
   "nbconvert_exporter": "python",
   "pygments_lexer": "ipython3",
   "version": "3.10.2"
  }
 },
 "nbformat": 4,
 "nbformat_minor": 2
}
