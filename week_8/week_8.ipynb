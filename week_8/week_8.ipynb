{
 "cells": [
  {
   "cell_type": "code",
   "execution_count": null,
   "metadata": {},
   "outputs": [],
   "source": [
    "%%capture\n",
    "!pip install otter-grader\n",
    "\n",
    "files = \"https://github.com/mateuszwyszynski/python_basics/raw/main/week_8/tests.zip\"\n",
    "!wget -O ./tests.zip $files && unzip -o tests.zip\n",
    "\n",
    "import otter\n",
    "grader = otter.Notebook(colab = True)\n",
    "!wget \"https://github.com/mateuszwyszynski/python_basics/blob/main/data/dane_kraje.xlsx?raw=true\"\n",
    "!mv dane_kraje.xlsx?raw=true dane_kraje.xlsx"
   ]
  },
  {
   "cell_type": "markdown",
   "metadata": {
    "id": "KM4DcqIPLqek"
   },
   "source": [
    "W poprzednim tygodniu zaczęliśmy poznawanie biblioteki pythonowej do przetwarzania danych o nazwie Pandas. Dzisiaj pokrótce przypomnimy sobie czego nauczyliśmy się podczas wspomnianych zajęć, a następnie poznamy nowe, przydatne funkcjonalności tej biblioteki. Na koniec przedstawimy wam przykładowy wzorzec do waszego własnego projektu, który powinien ułatwić wam pracę."
   ]
  },
  {
   "cell_type": "markdown",
   "metadata": {
    "id": "P_1n-MP6hrwo"
   },
   "source": [
    "# Powtórka"
   ]
  },
  {
   "cell_type": "markdown",
   "metadata": {
    "id": "3zqb9vjdMmIE"
   },
   "source": [
    "Zacznijmy od wczytania omawianej biblioteki, a następnie stwórzmy przykładowy dataframe. Sposób w jaki można to zrobić został omówiony na poprzednich zajęciach, możecie prześledzić to również poniżej. Do konkretnej kolumny możemy się odwołać poprzez polecenie `df['nazwa_kolumny']`."
   ]
  },
  {
   "cell_type": "code",
   "execution_count": null,
   "metadata": {
    "id": "DxQs0TnkNhm-"
   },
   "outputs": [],
   "source": [
    "import pandas as pd"
   ]
  },
  {
   "cell_type": "code",
   "execution_count": null,
   "metadata": {
    "colab": {
     "base_uri": "https://localhost:8080/",
     "height": 363
    },
    "id": "EsVq8WeIc0IN",
    "outputId": "fd1065f3-1984-4dd4-94a8-8a09ccb84eae"
   },
   "outputs": [],
   "source": [
    "# tworze jedna kolumne\n",
    "kolumna = pd.Series([1,2,3,4,5,6,7,8,9,10])\n",
    "\n",
    "# tworze kolejne kolumny\n",
    "kolumna1 = kolumna + 10\n",
    "kolumna2 = kolumna - 10\n",
    "kolumna3 = kolumna * 10\n",
    "kolumna4 = kolumna / 10\n",
    "kolumna5 = kolumna ** 10\n",
    "\n",
    "# tworze puste kolumny z nazwami \n",
    "df = pd.DataFrame(columns = ['kolumna', 'kolumna1', 'kolumna2', 'kolumna3', 'kolumna4', 'kolumna5'])\n",
    "\n",
    "# uzupelniam kolumny danymi\n",
    "df['kolumna'] = kolumna\n",
    "df['kolumna1'] = kolumna1\n",
    "df['kolumna2'] = kolumna2\n",
    "df['kolumna3'] = kolumna3\n",
    "df['kolumna4'] = kolumna4\n",
    "df['kolumna5'] = kolumna5\n",
    "df"
   ]
  },
  {
   "cell_type": "markdown",
   "metadata": {},
   "source": [
    "Na kolumnach możemy również wykonywać operacje osobno po kolejnych elementach. Przykładowo kolumna `[1,2,3]` dodana do kolumny `[4,5,6]` zwróci nam wynik `[5,7,9]`, ponieważ `[5,7,9] = [1+4, 2+5, 3+6]`."
   ]
  },
  {
   "cell_type": "code",
   "execution_count": null,
   "metadata": {},
   "outputs": [],
   "source": [
    "print('kolumna1:\\n', df['kolumna1'])\n",
    "print()\n",
    "print('kolumna2:\\n', df['kolumna2'])\n",
    "print()\n",
    "print('Ich suma:\\n', df['kolumna1'] + df['kolumna2'])"
   ]
  },
  {
   "cell_type": "markdown",
   "metadata": {
    "id": "nw7cMHL6PBid"
   },
   "source": [
    "## Zadanie 1 [1 pkt]\n"
   ]
  },
  {
   "cell_type": "markdown",
   "metadata": {
    "id": "JqZi6Ng8Ppjd"
   },
   "source": [
    "Napisz funkcję, która za argumenty przyjmuje kolejno dataframe i nazwy dwóch kolumn (obecnych w tym dataframie), a zwraca iloczyn tych kolumn po konkretnych elementach. Przykładowo kolumna `[1,2,3]*[4,5,6]` zwróci nam wynik `[4,10,18]`, ponieważ `[4,10,18] = [1*4, 2*5, 3*6]`."
   ]
  },
  {
   "cell_type": "code",
   "execution_count": null,
   "metadata": {
    "id": "BVKhUT02iRvZ",
    "tags": []
   },
   "outputs": [],
   "source": [
    "def iloczyn_kolumn(dataframe, nazwa_kolumny1, nazwa_kolumny2):\n",
    "    ..."
   ]
  },
  {
   "cell_type": "code",
   "execution_count": null,
   "metadata": {
    "deletable": false,
    "editable": false
   },
   "outputs": [],
   "source": [
    "grader.check(\"Q1\")"
   ]
  },
  {
   "cell_type": "markdown",
   "metadata": {
    "id": "e2-H9zHrhw5O"
   },
   "source": [
    "# Nowe rzeczy"
   ]
  },
  {
   "cell_type": "markdown",
   "metadata": {
    "id": "VbXGLr3aQmUi"
   },
   "source": [
    "Jak zostało to wspomniane, możemy odwołać się do konkretnej kolumny dataframu (poprzez `df['nazwa_kolumny']`) i policzyć na niej interesujące nas statystyki. Jednym ze sposobów jest dołączenie na końcu `.nazwametody()` Przykładowo `df['nazwa_kolumny'].sum()` zwróci nam sumę wartości w kolumnie `nazwa_kolumny`. Taki sam efekt osiągniemy poprzez polecenie `pd.sum(df['nazwa_kolumny'])`."
   ]
  },
  {
   "cell_type": "markdown",
   "metadata": {
    "id": "nw7cMHL6PBid"
   },
   "source": [
    "## Zadanie 2 [2pkt]\n"
   ]
  },
  {
   "cell_type": "markdown",
   "metadata": {
    "id": "JqZi6Ng8Ppjd"
   },
   "source": [
    "Napisz funkcję, która za argumenty przyjmuje kolejno dataframe i nazwę kolumny (obecną w tym dataframie), a zwraca dwukrotność średniej arytmetycznej wartości w danej kolumnie. Do wykonania tego zadania nie musisz używać pętli."
   ]
  },
  {
   "cell_type": "code",
   "execution_count": null,
   "metadata": {
    "id": "BVKhUT02iRvZ",
    "tags": []
   },
   "outputs": [],
   "source": [
    "def podwojna_srednia_kolumny(dataframe, nazwa_kolumny):\n",
    "    srednia = ...\n",
    "    ..."
   ]
  },
  {
   "cell_type": "code",
   "execution_count": null,
   "metadata": {
    "deletable": false,
    "editable": false
   },
   "outputs": [],
   "source": [
    "grader.check(\"Q2\")"
   ]
  },
  {
   "cell_type": "markdown",
   "metadata": {
    "id": "CgJxu5HCThG5"
   },
   "source": [
    "---\n",
    "Kolejną przydatną umiejętnością jest wyciąganie (czy też wycinanie) konkretnych części naszego dataframu. W tym celu używamy `df.iloc[wiersz_start:wiersz_stop, kolumna_start:kolumna_stop]`, gdzie `wiersz_start` oznacza numer wiersza, od którego chcemy wycinać nasze dane, a `wiersz_stop` oznacza numer wiersza, do którego chcemy to zrobić. Warto zauważyć, że wierz pod numerem `wiersz_start` będzie się zawierał w naszym wycinku, natomiast `wiersz_stop` już nie (podobnie sytuacja wyglądała w przypadku `range`). Sytuacja dla kolumn wygląda analogicznie. Przykładowo, `df.iloc[2:4, 0:4]` spowoduje wycięcie z dataframu `df` wierszów o numerach 2 i 3, natomiast kolumn o numerach 0, 1, 2 i 3 (pamiętajmy, że liczyć zaczynamy od 0). W naszym przypadku będą to: `kolumna`, `kolumna1`, `kolumna2` oraz `kolumna3`."
   ]
  },
  {
   "cell_type": "code",
   "execution_count": null,
   "metadata": {
    "colab": {
     "base_uri": "https://localhost:8080/",
     "height": 112
    },
    "id": "sKkCQ_z7W0h9",
    "outputId": "45203fd4-c7a4-4b36-a325-6444648cc40e"
   },
   "outputs": [],
   "source": [
    "df.iloc[2:4, 0:4]"
   ]
  },
  {
   "cell_type": "markdown",
   "metadata": {
    "id": "6UYeNzUSXBFB"
   },
   "source": [
    "Gdybyśmy chcieli wyciąć tylko konkretne wiersze (ze wszystkimi kolumnami), część `kolumna_start:kolumna_stop` zostawiamy jako `:`."
   ]
  },
  {
   "cell_type": "code",
   "execution_count": null,
   "metadata": {
    "colab": {
     "base_uri": "https://localhost:8080/",
     "height": 112
    },
    "id": "6qOgpybuXRUE",
    "outputId": "aff7c53e-4d82-424c-e0e6-b12c31e9ea40"
   },
   "outputs": [],
   "source": [
    "df.iloc[2:4, :]"
   ]
  },
  {
   "cell_type": "markdown",
   "metadata": {
    "id": "ZzLnS_B7WGyG"
   },
   "source": [
    "Analogicznie postępujemy, gdybyśmy byli zainteresowani pozostawieniem wszystkich wierzy i wycięciem tylko konkretnych kolumn."
   ]
  },
  {
   "cell_type": "code",
   "execution_count": null,
   "metadata": {
    "colab": {
     "base_uri": "https://localhost:8080/",
     "height": 363
    },
    "id": "yIIj3HszXjxv",
    "outputId": "1b31e35d-dcdb-413a-96ca-24408aa65bdd"
   },
   "outputs": [],
   "source": [
    "df.iloc[:, 0:4]"
   ]
  },
  {
   "cell_type": "markdown",
   "metadata": {
    "id": "yruAf1ZJXjaY"
   },
   "source": [
    "Zauważmy, że gdybyśmy chcieli wyciąć z naszego dataframu wszystkie kolumny od początku do kolumny o danym numerze, możemy pominąć `kolumna_start` i zapisać tę część jako `:kolumna_start`."
   ]
  },
  {
   "cell_type": "code",
   "execution_count": null,
   "metadata": {
    "colab": {
     "base_uri": "https://localhost:8080/",
     "height": 363
    },
    "id": "FuljEizEYow9",
    "outputId": "d478647d-f920-478e-92c8-d5367506ff3a"
   },
   "outputs": [],
   "source": [
    "df.iloc[:, :4]"
   ]
  },
  {
   "cell_type": "markdown",
   "metadata": {
    "id": "rJ88hBD3Yr_h"
   },
   "source": [
    "Podobnie wygląda sytuacja, gdybyśmy potrzebowali wyciąć kolumny od danego numeru do końca. Z wierszami można postępować w taki sam sposób. Poniższy kod wytnie nam dataframe od wiersza o numerze 5 do końca oraz od `kolumna2` do końca. "
   ]
  },
  {
   "cell_type": "code",
   "execution_count": null,
   "metadata": {
    "colab": {
     "base_uri": "https://localhost:8080/",
     "height": 206
    },
    "id": "t-BWJNPvZLUL",
    "outputId": "76ecc18c-5979-469e-8150-899ce1922673"
   },
   "outputs": [],
   "source": [
    "df.iloc[5:, 2:]"
   ]
  },
  {
   "cell_type": "markdown",
   "metadata": {
    "id": "Kw8DDnfEZtef"
   },
   "source": [
    "W celu wybrania konkretnego wiersza lub kolumny, ustawiamy daną część wycinania na pojedynczy indeks. Przykładowo `df.iloc[2, 3:5]` zwróci nam wiersz o numerze dwa w kolumnach o numerach 3 i 4. W przypadku wycinania jednego wiersza/kolumny zmieni się typ naszego obiektu, ale nie musimy się tym teraz przejmować."
   ]
  },
  {
   "cell_type": "code",
   "execution_count": null,
   "metadata": {
    "colab": {
     "base_uri": "https://localhost:8080/"
    },
    "id": "HEJMrCMxZhHd",
    "outputId": "3c38fa49-45e0-44e6-8454-d5cb179643e3"
   },
   "outputs": [],
   "source": [
    "df.iloc[2, 3:5]"
   ]
  },
  {
   "cell_type": "markdown",
   "metadata": {
    "id": "TsNILXi87fbw"
   },
   "source": [
    "Zastanów się, w jaki sposób używająć `.iloc` można wybrać tylko jedną komórkę."
   ]
  },
  {
   "cell_type": "markdown",
   "metadata": {
    "id": "g8ELW79Taqj4"
   },
   "source": [
    "## Zadanie 3 [2pkt]"
   ]
  },
  {
   "cell_type": "code",
   "execution_count": null,
   "metadata": {
    "colab": {
     "base_uri": "https://localhost:8080/",
     "height": 363
    },
    "id": "8elTNBobcjgn",
    "outputId": "16f955e3-a318-4ad7-9edf-ba2154da4c19",
    "scrolled": true
   },
   "outputs": [],
   "source": [
    "df"
   ]
  },
  {
   "cell_type": "markdown",
   "metadata": {
    "id": "sKVuXSjeawD9"
   },
   "source": [
    "Napisz funkcję, która jako argumenty przyjmuje kolejno: dataframe, numer wiersza pierwszego elementu, numer kolumny pierwszego elementu, numer wiersza drugiego elementu, numer kolumny drugiego elementu. Funkcja ta powinna zwrócić wynik mnożenia pierwszego i drugiego elementu. Przykładowo `mnozenie_po_indeksach(df, 3, 2, 6, 0)` powinno zwrócić $-6\\cdot7 = -42$. Porównaj obliczenia z tabelką powyżej."
   ]
  },
  {
   "cell_type": "code",
   "execution_count": null,
   "metadata": {
    "id": "PTZs3JnhaqIa",
    "tags": []
   },
   "outputs": [],
   "source": [
    "def mnozenie_po_indeksach(dataframe, nr_wiersza1, nr_kolumny1, nr_wiersza2, nr_kolumny2):\n",
    "    ..."
   ]
  },
  {
   "cell_type": "code",
   "execution_count": null,
   "metadata": {
    "deletable": false,
    "editable": false
   },
   "outputs": [],
   "source": [
    "grader.check(\"Q3\")"
   ]
  },
  {
   "cell_type": "markdown",
   "metadata": {
    "id": "iu6RbjTwiVFc"
   },
   "source": [
    "# Wzorzec waszego projektu"
   ]
  },
  {
   "cell_type": "markdown",
   "metadata": {
    "id": "VtQsfD3diZzN"
   },
   "source": [
    "W tym miejscu przedstawimy wam przykładowy wzorzec dla waszego projektu - oczywiście możecie go dowolonie modyfikować, dodawać, zmieniać i usuwać z niego rzeczy. W zeszłym tygodniu pracowaliśmy na zbiorze danych, który miał określony format - w pierwszym wierszu były nazwy kolumn, pierwsza z nich zawierała nazwy państw, natomiast kolejne różne zmienne opisujące te państwa (przykład w excelu poniżej). Co ważne (!) w przygotowanym poniżej wzorcu będziemy zakładać, że również Wy będziecie mieli przygotowane dane w takim formacie."
   ]
  },
  {
   "cell_type": "markdown",
   "metadata": {},
   "source": [
    "Warto zaznaczyć, że używając swoich danych będziecie mogli natknąć się na problemy, które nie zostaną tu omówione. W takim przypadku również nie wahajcie pytać się o to prowadzących"
   ]
  },
  {
   "cell_type": "markdown",
   "metadata": {
    "id": "UuTyNhXanFzm"
   },
   "source": [
    "Na początku musicie wczytać swój plik excel. W tym celu kliknijcie ikonę folderu w pasku po lewej stronie i wczytajcie lub przeciągnijcie tam swój plik, a następnie wczytajcie swoje dane wykonując kod poniżej."
   ]
  },
  {
   "cell_type": "code",
   "execution_count": null,
   "metadata": {
    "id": "G8jvsFeZiYru"
   },
   "outputs": [],
   "source": [
    "moj_df = pd.read_excel('moje_dane.xlsx') # zmien nazwe pliku na swoja!"
   ]
  },
  {
   "cell_type": "markdown",
   "metadata": {},
   "source": [
    "Zobaczmy teraz swoje dane."
   ]
  },
  {
   "cell_type": "code",
   "execution_count": null,
   "metadata": {
    "id": "tldI0G1mUaYk"
   },
   "outputs": [],
   "source": [
    "moj_df"
   ]
  },
  {
   "cell_type": "markdown",
   "metadata": {
    "id": "v--_QFqhUaYl"
   },
   "source": [
    "Innym ważnym aspektem pracy na wczytywanych danych jest możliwość poznania nazw każdej z kolumn. Jest to niezbędne do prawidłowego wywoływania poszczególnych wartości z naszej tablicy. Tu z pomocą przychodzi nam zmienna wywoływana przy pomocy `.columns`, która to wyświetla nazwy kolumn zaczynając od lewej strony naszej tablicy, aż do jej końca. Zobaczmy nazwy kolumn w naszych danych."
   ]
  },
  {
   "cell_type": "code",
   "execution_count": null,
   "metadata": {
    "id": "BthN7kgFUaYl"
   },
   "outputs": [],
   "source": [
    "moj_df.columns"
   ]
  },
  {
   "cell_type": "markdown",
   "metadata": {
    "id": "5w5cMnYkUaYl"
   },
   "source": [
    "Następnie wartościową informacją jest rozmiar(wymiar) naszej tablicy. Warto wiedzieć ile wierszy i kolumn posiada nasz `DataFrame`. Możemy się tego dowiedzieć przy pomocy atrybutu `.shape`, która zwraca nam `(liczba_wierszy, liczba_kolumn)`. W łatwy sposób jesteśmy w stanie rozdzielić te dwie informacje. Możecie tutaj zobaczyć liczbę wierszy oraz liczbę kolumn w waszych danych."
   ]
  },
  {
   "cell_type": "code",
   "execution_count": null,
   "metadata": {
    "id": "vORNm0xJUaYl"
   },
   "outputs": [],
   "source": [
    "liczba_wierszy = moj_df.shape[0] \n",
    "liczba_kolumn = moj_df.shape[1]\n",
    "\n",
    "print('liczba wierszy: ', liczba_wierszy,', liczba kolumn: ', liczba_kolumn)"
   ]
  },
  {
   "cell_type": "markdown",
   "metadata": {
    "id": "0MIsyoklUaYm"
   },
   "source": [
    "---\n",
    "Zanim jeszcze rozpoczniemy pracę nad naszymi danymi warto wiedzieć z czym przyjdzie nam się zmagać. Warto w tym celu użyć funkcji `.dtypes`, która poda jakie typy zmiennych znajdują się w każdej z kolumn."
   ]
  },
  {
   "cell_type": "code",
   "execution_count": null,
   "metadata": {
    "id": "IBZ2PtGfUaYm"
   },
   "outputs": [],
   "source": [
    "moj_df.dtypes"
   ]
  },
  {
   "cell_type": "markdown",
   "metadata": {
    "id": "F2LCPpqSv-vs"
   },
   "source": [
    "Widzimy, że typ niektórych zmiennych to `object`, a niektórych to `float64`. W pierwszym przypadku oznacza to, że wartości są tam przechowywane najprawdopodobniej w formacie napisu (`str` lub podobne, nie wchodzimy tutaj w szczegóły). Drugi przypadek natomiast oznacza, że zmienne w takiej kolumnie są przechowywane jako liczby rzeczywiste. W ramach przypomnienia możecie odwołać się do komórki poniżej.\n",
    "\n",
    "![](https://drive.google.com/uc?export=view&id=1Vx495G47Q3khoBA2XIZV-Z-jeUIi9OOl)\n",
    "\n",
    "Może się zdażyć, że kolumna, która powinna zawierać liczby zostanie wczytana w typie `object`. Problem może się brać np. z tego, że wartości w tych kolumnach zostały wczytane jako napisy już w Excelu.\n",
    "\n",
    "Taka sytuacja jest niepożada, ponieważ na takich kolumnach możemy mieć z problem z wykonywaniem operacji arytmetycznych, dlatego pokażemy teraz, jak zamienić te kolumny na typ, jaki uważamy za stosowny, w tym przypadku będzie to `float64`, który reprezentuje liczby rzeczywiste."
   ]
  },
  {
   "cell_type": "code",
   "execution_count": null,
   "metadata": {
    "id": "T4G7jol9y-bi"
   },
   "outputs": [],
   "source": [
    "moj_df['nazwa_kolumny'] = moj_df['nazwa_kolumny'].astype('float64') # zastap 'nazwa_kolumny' wybrana przez siebie kolumna"
   ]
  },
  {
   "cell_type": "markdown",
   "metadata": {
    "id": "Uqvd5CpBUaYm"
   },
   "source": [
    "Czasami bywa tak, że w danych nad którymi obecnie pracujesz pojawiają się `NaN, NA, #N/A`, które należy utożsamiać z `Not a Number` lub `Not Available`. Oznacza to, że w naszych danych dla danego kraju z jakiegoś powodu nie mamy wartości danego wskaźnika (np. nie został on zmierzony albo widzimy, że przy przepisywaniu został zmierzony źle - ktoś mógł chociażby w złym miejscu wstawić przecinek). Może to powodować niepoprawne działanie twojego kodu jeśli nie jesteś przygotowany na uwzględnienie tego w swoich danych.\n",
    "\n",
    "Biblioteka Pandas jest gotowa na znajdowanie takich obiektów oraz na różnego typu działania z nimi związanymi. Najpierw postarajmy się znaleźć wszystkie wystąpienia `NaN` w naszym `DataFrame`. Można to zrobić przy pomocy funkcji `.isna()`, którą należy rozbudować o `.any(axis=1)`, żeby znaleźć wszystkie wystąpienia w tablicy. "
   ]
  },
  {
   "cell_type": "code",
   "execution_count": null,
   "metadata": {
    "id": "5CuEAtH8UaYn"
   },
   "outputs": [],
   "source": [
    "moj_df[moj_df.isna().any(axis=1)]"
   ]
  },
  {
   "cell_type": "markdown",
   "metadata": {
    "id": "wJQ7KQGeUaYn"
   },
   "source": [
    "Teraz musicie zobaczyć czy w waszych danych znajdują się omawiane wartości (`NA`, `NaN`). Jeśli tak, to najłatwiejszym sposobem będzie usunięcie wszystkich wierszów z taką wartością, w tym celu użyjemy `.dropna()`. Alternatywnym rozwiązaniem jest zamiana wszystkich `NaN` na np. 0, co można wykonać przy pomocy funkcji `.fillna(0)`. Sprawdźmy teraz jak to działa:"
   ]
  },
  {
   "cell_type": "code",
   "execution_count": null,
   "metadata": {
    "id": "GwjMxgnMUaYn"
   },
   "outputs": [],
   "source": [
    "moj_df = moj_df.dropna() # uzyj tej linijki, jesli chcesz wyrzucic panstwa, w ktorych wystepuja NA\n",
    "moj_df = moj_df.fillna(0) # lub tej, jesli chcesz je zamienic na 0"
   ]
  },
  {
   "cell_type": "markdown",
   "metadata": {},
   "source": [
    "Nie musisz używać tych linijek, jeśli w Twoich danych nie występują takie wartości."
   ]
  },
  {
   "cell_type": "markdown",
   "metadata": {
    "id": "KBfzZRDq3L6d"
   },
   "source": [
    "W naszych plikach możemy również mieć zmienne binarne - to takie zmienne, które przyjmują tylko 2 wartości. Przy pomocy funkcji `.unqiue()` możemy sprawdzić, jakie wartości przyjmuje taka kolumna. Jeśli masz taką kolumnę, możesz wykonać poniższy fragment kodu, w przeciwnym przypadku możesz go pominąć.\n"
   ]
  },
  {
   "cell_type": "code",
   "execution_count": null,
   "metadata": {
    "id": "Y9JB8wYx3iQM"
   },
   "outputs": [],
   "source": [
    "moj_df['nazwa_kolumny'].unique() # zastap 'nazwa_kolumny' wybrana przez siebie kolumna"
   ]
  },
  {
   "cell_type": "markdown",
   "metadata": {
    "id": "Y1M-Ca4w4HZM"
   },
   "source": [
    "Wartości w naszej kolumnie mogą być różne, jeżeli będą to np. napisy to wtedy warto zwrócić uwagę, że komputery operują na liczbach, dlatego chcielibyśmy zamienić te napisy na liczby. Najczęściej wykonywaną operacją jest zamiana odpowiednich napisów na 0 i 1."
   ]
  },
  {
   "cell_type": "code",
   "execution_count": null,
   "metadata": {
    "id": "AVT7IE59804j"
   },
   "outputs": [],
   "source": [
    "# zastap 'nazwa_kolumny' wybrana przez siebie kolumna, natomiast 'napis1' oraz 'napis2' obecnymi napisami w swojej kolumnie (przed modyfikacja)\n",
    "moj_df['nazwa_kolumny'][moj_df['nazwa_kolumny'] == 'napis1'] = 0\n",
    "moj_df['nazwa_kolumny'][moj_df['nazwa_kolumny'] == 'napis2'] = 1\n",
    "moj_df['nazwa_kolumny'] = moj_df['nazwa_kolumny'].astype('int') # zmiana typu na calkowitoliczbowy"
   ]
  },
  {
   "cell_type": "markdown",
   "metadata": {
    "id": "39myTmbq9fk4"
   },
   "source": [
    "Teraz możemy sprawdzić, że jedyne wartości w omawianej kolumnie to 0 i 1."
   ]
  },
  {
   "cell_type": "code",
   "execution_count": null,
   "metadata": {
    "id": "HmNI-MTT9nxJ"
   },
   "outputs": [],
   "source": [
    "moj_df['nazwa_kolumny'].unique()"
   ]
  },
  {
   "cell_type": "markdown",
   "metadata": {
    "id": "ZZdQKPWoUaYo"
   },
   "source": [
    "---\n",
    "Przy próbie analizy naszych danym nieodzownym narzędziem wydaje się zastosowanie funkcji `.describe()`, która to zwraca nam: ilość pozycji w kolumnie (count), średnią wartość w kolumnie (mean), odchylenie standardowe w kolumnie (std), wartość minimalną w kolumnie (min), 25/50/75 percentyl w kolumnie (25/50/75 %) oraz wartość maksymalną w kolumnie (max). Sprawdźmy to na waszej tablicy."
   ]
  },
  {
   "cell_type": "code",
   "execution_count": null,
   "metadata": {
    "id": "XaZ28VexUaYo"
   },
   "outputs": [],
   "source": [
    "moj_df.describe()"
   ]
  },
  {
   "cell_type": "markdown",
   "metadata": {
    "id": "GUlaulZzUaYp"
   },
   "source": [
    "Jak możesz zauważyć statystyki zostały wypisane tylko dla tych kolumn w których znajdują się tylko 'liczby' (nie ma tu kolumny `Country`)."
   ]
  },
  {
   "cell_type": "markdown",
   "metadata": {
    "id": "gls5AOJfH5hS"
   },
   "source": [
    "---\n",
    "Przypomnijmy sobie, jak wyglądają wasze dane."
   ]
  },
  {
   "cell_type": "code",
   "execution_count": null,
   "metadata": {
    "id": "OqO0CjKvH5FK"
   },
   "outputs": [],
   "source": [
    "moj_df"
   ]
  },
  {
   "cell_type": "markdown",
   "metadata": {
    "id": "cNzC0eb_IBTd"
   },
   "source": [
    "Może się zdarzyć tak, że różne zmienne będą miały różne rzędy wielkości. Przy dalszym wnioskowaniu może to skutkować niepożądanymi zachowaniami (np. jedna zmienna może zdominować wszystkie pozostałe). Dlatego częstą praktyką w takim przypadku jest normalizacja zmiennych. Taką czynność można wykonać na wiele sposobów, tutaj pokażemy wam jeden z nich, którym jest proste skalowanie - każdą kolumnę przekształcimy w taki sposób, aby największa wartość wynosiła 1, a najmniejsza 0. W ten sposób wszystkie wartości znajdą się w przedziale $[0,1]$. Normalizację wykonujemy osobno dla każdej kolumny. Jeśli w Twoich danych znajduje się zmienna binarna to nie ma sensu jej normalizować - w niej już występują tylko 0 i 1.\n",
    "\n",
    "Wzorek, za pomocą którego możemy znormalizować daną kolumnę wygląda następująco:\n",
    "$z_i = \\frac{x_i - min(x)}{max(x)-min(x)}$, gdzie $min(x)$ oraz $max(x)$ to odpowiednio najmniejsze i największe wartości w danej kolumnie, $x_i$ to $i$-ta obserwacja przed znormalizowaniem, a $z_i$ to znormalizowana $i$-ta obserwacja. Została do tego przygotowana funckja, którą możecie zobaczyć poniżej. Ułatwieniem może być stworzenie do tego nowego dataframu (będzie to bardziej przejrzyste)."
   ]
  },
  {
   "cell_type": "code",
   "execution_count": null,
   "metadata": {
    "id": "IJngho67NWP2"
   },
   "outputs": [],
   "source": [
    "def normalize(df_col):\n",
    "    return (df_col-df_col.min())/(df_col.max()-df_col.min())"
   ]
  },
  {
   "cell_type": "code",
   "execution_count": null,
   "metadata": {
    "id": "F4-P_rdJH_0F"
   },
   "outputs": [],
   "source": [
    "moj_df_norm = moj_df.copy()\n",
    "moj_df_norm['nazwa_kolumny'] = normalize(moj_df['nazwa_kolumny']) # zastap 'nazwa_kolumny' kolumna w Twoim dataframie, a nastepnie powtorz to dla pozostalych kolumn\n",
    "..."
   ]
  },
  {
   "cell_type": "code",
   "execution_count": null,
   "metadata": {
    "id": "khM4VKD1XQJN"
   },
   "outputs": [],
   "source": [
    "moj_df_norm # znormalizowane"
   ]
  },
  {
   "cell_type": "markdown",
   "metadata": {
    "id": "2JvDSa73OhF_"
   },
   "source": [
    "Jeśli spojrzycie na statystyki opisujące wasze dane to zobaczycie, że w każdej kolumnie minimalna wartość powinna równać się 0, a maksymalna 1."
   ]
  },
  {
   "cell_type": "code",
   "execution_count": null,
   "metadata": {
    "id": "ucGo6R6XM-PT"
   },
   "outputs": [],
   "source": [
    "moj_df_norm.describe()"
   ]
  },
  {
   "cell_type": "markdown",
   "metadata": {
    "id": "fwcpFA43Yk_-"
   },
   "source": [
    "Teraz przypomnimy sobie, w jaki sposób można uszeregować państwa - policzyć pewne wskaźniki, wg. których można porównać ze sobą państwa. Jednym z takich wskaźników może być średnia ważona: $\\bar{x} = \\frac{w_1x_1 + w_2x_2 + \\dots + w_nx_n}{w_1+w_2+\\dots w_n}$, gdzie $w_1, w_2, \\dots, w_n$ to nieujemne wagi, natomiast $x_1, x_2, \\dots, x_n$ to wartości w kolejnych kolumnach (których jest $n$, w naszym przykładzie $n=7$, gdyż pierwsza kolumna to nazwy krajów). Taką średnią liczymy oddzielnie dla każdego kraju.\n"
   ]
  },
  {
   "cell_type": "code",
   "execution_count": null,
   "metadata": {
    "id": "j_wKPGGt9TM2"
   },
   "outputs": [],
   "source": [
    "liczba_kolumn = moj_df_norm.shape[1] # zapiszmy liczbe interesujacych nas kolumn\n",
    "moj_df_norm_do_liczenia = moj_df_norm.drop('Country', axis=1) # zapiszmy tu kolumny, na ktorych bedziemy liczyc srednia (czyli bez nazw krajow)"
   ]
  },
  {
   "cell_type": "code",
   "execution_count": null,
   "metadata": {
    "id": "4w82Ua_ucLVz"
   },
   "outputs": [],
   "source": [
    "def srednia_wazona(dataframe_do_liczenia, wagi):\n",
    "    licznik = (dataframe_do_liczenia*wagi).sum(axis=1)\n",
    "    mianownik = sum(wagi)\n",
    "    return licznik/mianownik"
   ]
  },
  {
   "cell_type": "markdown",
   "metadata": {
    "id": "0nBrWGJbb2VJ"
   },
   "source": [
    "Twoim zadaniem jest ustalenie odpowiednich wag dla swoich zmiennych. Ich liczba powinna być równa liczbie zmiennych opisująch państwa. Wtedy taką średnią możesz policzyć w następujący sposób:"
   ]
  },
  {
   "cell_type": "code",
   "execution_count": null,
   "metadata": {
    "id": "GHjJXEoeOdID"
   },
   "outputs": [],
   "source": [
    "moje_wagi = [...] # wagi mozemy zapisac wewnatrz nawiasow kwadratowych - tworzymy w ten sposob liste, o której dowiecie się więcej w dalszej czesci kursu"
   ]
  },
  {
   "cell_type": "markdown",
   "metadata": {
    "id": "ta5KSX42jzlU"
   },
   "source": [
    "W ten sposób dostaliście nową kolumnę `srednia_wazona`, co możecie zobaczyć poniżej."
   ]
  },
  {
   "cell_type": "code",
   "execution_count": null,
   "metadata": {
    "id": "ZEC7pXWAaXzb"
   },
   "outputs": [],
   "source": [
    "moj_df_norm['srednia_wazona'] = srednia_wazona(moj_df_norm_do_liczenia, moje_wagi)\n",
    "moj_df_norm"
   ]
  },
  {
   "cell_type": "markdown",
   "metadata": {
    "id": "YIgsPnBQkfVm"
   },
   "source": [
    "Aby zobaczyć uszeregowane państwa od najwyższej wartości tej średniej użyjemy funkcji `.sort_values()`, która jako argument przyjmuje nazwę kolumny, względem której chcemy posortować nasz dataframe, z dodatkową flagą `ascending=False`, dzięki której dostaniemy wyniki uszeregowane malejąco."
   ]
  },
  {
   "cell_type": "code",
   "execution_count": null,
   "metadata": {
    "id": "WMFgZ2o7kexZ"
   },
   "outputs": [],
   "source": [
    "df_zajecia_norm_uszeregowane = moj_df_norm.sort_values('srednia_wazona', ascending=False)\n",
    "df_zajecia_norm_uszeregowane"
   ]
  },
  {
   "cell_type": "markdown",
   "metadata": {},
   "source": [
    "Na tej podstawie możesz wnioskować o tym, które kraje wg. wybranych przez Ciebie składowych są uszeregowane wyżej, a które niżej."
   ]
  },
  {
   "cell_type": "markdown",
   "metadata": {},
   "source": [
    "Gdybyście teraz chcieli zobaczyć tylko pierwsze 3 (lub dowolną inną liczbę) kraje uszeregowane wg wybranej przez siebie średniej ważonej, możecie użyć poznanej dzisiaj funkcji `.iloc()`."
   ]
  },
  {
   "cell_type": "code",
   "execution_count": null,
   "metadata": {},
   "outputs": [],
   "source": [
    "df_zajecia_norm_uszeregowane.iloc[:3, :] # pierwsze 3 wiersze, wszystkie kolumny"
   ]
  },
  {
   "cell_type": "markdown",
   "metadata": {},
   "source": [
    "Do zapisania swojego dataframu możecie użyć następującej funkcji"
   ]
  },
  {
   "cell_type": "code",
   "execution_count": null,
   "metadata": {},
   "outputs": [],
   "source": [
    "moj_df_norm.to_excel('moj_dataframe_norm.xlsx') # 'moj_dataframe_norm.xlsx' mozecie podmienic na dowolna inna nazwe, ktora chcecie nazwac swoj plik formatu excel"
   ]
  }
 ],
 "metadata": {
  "colab": {
   "collapsed_sections": [],
   "name": "Week_8_v0",
   "provenance": [],
   "toc_visible": true
  },
  "kernelspec": {
   "display_name": "Python 3 (ipykernel)",
   "language": "python",
   "name": "python3"
  },
  "language_info": {
   "codemirror_mode": {
    "name": "ipython",
    "version": 3
   },
   "file_extension": ".py",
   "mimetype": "text/x-python",
   "name": "python",
   "nbconvert_exporter": "python",
   "pygments_lexer": "ipython3",
   "version": "3.9.7"
  }
 },
 "nbformat": 4,
 "nbformat_minor": 1
}
