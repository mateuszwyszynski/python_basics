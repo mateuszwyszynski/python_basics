{
 "cells": [
  {
   "cell_type": "code",
   "execution_count": null,
   "metadata": {
    "id": "AHDUflT7UaYU"
   },
   "outputs": [],
   "source": [
    "%%capture\n",
    "!pip install otter-grader\n",
    "\n",
    "files = \"https://github.com/mateuszwyszynski/python_basics/raw/main/week_7/tests.zip\"\n",
    "!wget -O ./tests.zip $files && unzip -o tests.zip\n",
    "\n",
    "import otter\n",
    "grader = otter.Notebook(colab = True)\n",
    "!wget \"https://github.com/mateuszwyszynski/python_basics/blob/main/data/dane_kraje.xlsx?raw=true\"\n",
    "!mv dane_kraje.xlsx?raw=true dane_kraje.xlsx"
   ]
  },
  {
   "cell_type": "markdown",
   "metadata": {
    "id": "4PLJJqhOor_y"
   },
   "source": [
    "# **Podstawy DataFrame oraz Pandas** "
   ]
  },
  {
   "cell_type": "markdown",
   "metadata": {
    "id": "K1hmt4gvUaYX"
   },
   "source": [
    "Na dzisiejszych zajęciach dowiesz się w jaki sposób można wczytać dane z excela do Pythona przy pomocy Colaba. Nauczysz się w jaki sposób można przygotować wczytane dane do przeprowadzenia analizy, przeprowadzisz analizę danych, a na koniec będziesz w stanie porównać otrzymane wyniki.\n",
    "\n",
    "Zanim jednak przejdziemy do pracy na danych musisz zapoznać się z narzędziem, którego będziemy używali. Biblioteka Pandas została stworzona do tego, aby zastąpić takie narzędzia jak Excel czy SQL i im podobne. Korzystając z tej biblioteki jesteśmy w stanie wczytać dane, dokonać ich weryfikacji, a następnie modyfikacji i następnie wykorzystać jej zasoby do analizy danych. W celu użycia biblioteki Pandas wystarczy jedna linijka importu i będziemy w stanie korzystać z jej zasobów.\n",
    "\n",
    "`import pandas as pd`\n",
    "\n",
    "Podstawowy typ danych, z którego korzysta biblioteka Pandas to `Series` możesz utożsamiać to z danymi zawartymi w kolumnie tak jak ma to miejsce w programach z rodziny arkuszy obliczeniowych takich jak Excel, Numbers, czy LibreOffice Calc. Ten typ danych definiuje się w sposób następujący:\n",
    "```\n",
    "kolumna = pd.Series([1,2,3,4,5,6,7,8,9,10])\n",
    "```\n",
    "Przejdźmy od razu to aspektu praktycznego. Zaimportujmy sobie bibliotekę Pandas i stwórzmy zmienną `kolumna` zgodnie z przykładem. "
   ]
  },
  {
   "cell_type": "code",
   "execution_count": null,
   "metadata": {
    "colab": {
     "base_uri": "https://localhost:8080/"
    },
    "id": "uMyI_y4ZUaYY",
    "outputId": "af65e6ad-bb59-45cd-dd25-1555b81cfc54"
   },
   "outputs": [],
   "source": [
    "import pandas as pd\n",
    "kolumna = pd.Series([1,2,3,4,5,6,7,8,9,10])\n",
    "print(kolumna)"
   ]
  },
  {
   "cell_type": "markdown",
   "metadata": {
    "id": "aSLcWBiWUaYZ"
   },
   "source": [
    "Jak możesz zauważyć, udało Ci się stworzyć zmienną `kolumna`, która jest 'kolumną' wartości, wewnątrz niej zmienne znajdują się jedna pod drugą. Po lewej stronie naszych wartości możesz dostrzec liczby od 0 do 9 reprezentują one kolejne wiersze naszej zmiennej. W Pythonie numeracja wierszy **zaczyna się od 0**. `dtype: int64` znaczy tylko tyle, że nasza kolumna ma wartości całkowite (ang. *integer*). Teraz w łatwy sposób zobaczysz jak można poprosić Pythona o wypisanie wartości w wybranym przez Ciebie wierszu. \n",
    "```\n",
    "wartosc_w_5_wierszu = kolumna[4]\n",
    "```"
   ]
  },
  {
   "cell_type": "code",
   "execution_count": null,
   "metadata": {
    "colab": {
     "base_uri": "https://localhost:8080/"
    },
    "id": "MUgcE86zUaYa",
    "outputId": "556f2d8f-f26a-442f-ec28-76465a7fdd9c"
   },
   "outputs": [],
   "source": [
    "wartosc_w_5_wierszu = kolumna[4]\n",
    "print(wartosc_w_5_wierszu)"
   ]
  },
  {
   "cell_type": "markdown",
   "metadata": {
    "id": "dvoKbBmQUaYa"
   },
   "source": [
    "## Zadanie1 [0.5 pkt]\n",
    "\n",
    "Napisz funkcję, która zwróci sumę 3, 5 i 7 wiersza zmiennej typu 'Series' (zadbaj o to, żeby taka zmienna miała przynajmniej 8 elementów - w końcu odwołujemy się do 7. wiersza w indeksowaniu 'pythonowym', czyli właśnie do 8. elementu). Poniżej zostaną zaproponowane dane do weryfikacji działania twojej funkcji.  "
   ]
  },
  {
   "cell_type": "code",
   "execution_count": null,
   "metadata": {
    "id": "6186248-UaYb",
    "tags": []
   },
   "outputs": [],
   "source": [
    "def suma_wierszy(zmienna_typu_series):\n",
    "    ..."
   ]
  },
  {
   "cell_type": "code",
   "execution_count": null,
   "metadata": {
    "colab": {
     "base_uri": "https://localhost:8080/"
    },
    "id": "3PrT0ypYUaYb",
    "outputId": "93c4c602-b18d-4e1a-a8e5-aaf24765ef9e"
   },
   "outputs": [],
   "source": [
    "#zmienne do przetestowania\n",
    "\n",
    "test1 = pd.Series([1,2,3,4,5,6,7,8,9,10])\n",
    "test2 = pd.Series([10,20,30,40,50,60,70,80])\n",
    "test3 = pd.Series([-1,-2,-3,-4,-5,-6,-7,-8,-9,-10])\n",
    "print(suma_wierszy(test1))\n",
    "print(suma_wierszy(test2))\n",
    "print(suma_wierszy(test3))"
   ]
  },
  {
   "cell_type": "code",
   "execution_count": null,
   "metadata": {
    "deletable": false,
    "editable": false
   },
   "outputs": [],
   "source": [
    "grader.check(\"Q1\")"
   ]
  },
  {
   "cell_type": "markdown",
   "metadata": {
    "id": "kbaBlq_aUaYd"
   },
   "source": [
    "Zmienne typu `Series` podlegają całej gamie podstawowych operacji arytmetycznych. Każda z takich operacji wykonywana jest na każdym elemencie zmiennej osobno. Możemy do danych dodać lub odjąć liczbę, możemy dane w naszej kolumnie pomnożyć lub podzielić przez liczbę czy nawet podnieść do odpowiedniej potęgi. Poniżej znajdują się przykłady wymienionych operacji."
   ]
  },
  {
   "cell_type": "code",
   "execution_count": null,
   "metadata": {
    "colab": {
     "base_uri": "https://localhost:8080/"
    },
    "id": "gkId7jIKWsPC",
    "outputId": "088bbb8b-2108-4321-8ea3-136389ba86a6"
   },
   "outputs": [],
   "source": [
    "print(kolumna)"
   ]
  },
  {
   "cell_type": "code",
   "execution_count": null,
   "metadata": {
    "colab": {
     "base_uri": "https://localhost:8080/"
    },
    "id": "ldikAQmvUaYe",
    "outputId": "0605213b-163e-4dbd-a140-42627c2db81b"
   },
   "outputs": [],
   "source": [
    "print(kolumna + 10)"
   ]
  },
  {
   "cell_type": "code",
   "execution_count": null,
   "metadata": {
    "colab": {
     "base_uri": "https://localhost:8080/"
    },
    "id": "KaACSXsYUaYe",
    "outputId": "a9a36df1-ec2e-4602-e826-c0def7a91252"
   },
   "outputs": [],
   "source": [
    "print(kolumna - 10)"
   ]
  },
  {
   "cell_type": "code",
   "execution_count": null,
   "metadata": {
    "colab": {
     "base_uri": "https://localhost:8080/"
    },
    "id": "-SVZwVD4UaYe",
    "outputId": "e5818b6b-fa0c-4379-8d57-468ab46e90f7"
   },
   "outputs": [],
   "source": [
    "print(kolumna * 10)"
   ]
  },
  {
   "cell_type": "code",
   "execution_count": null,
   "metadata": {
    "colab": {
     "base_uri": "https://localhost:8080/"
    },
    "id": "Tz1RpKSIUaYe",
    "outputId": "0b94cacc-d659-4153-f55f-668b698d82fb"
   },
   "outputs": [],
   "source": [
    "print(kolumna / 10)"
   ]
  },
  {
   "cell_type": "code",
   "execution_count": null,
   "metadata": {
    "colab": {
     "base_uri": "https://localhost:8080/"
    },
    "id": "AFEqaULyUaYf",
    "outputId": "ca3706b7-7b68-4655-c8aa-f03a197ecc27"
   },
   "outputs": [],
   "source": [
    "print(kolumna ** 2)"
   ]
  },
  {
   "cell_type": "markdown",
   "metadata": {
    "id": "W8x5Jw-OUaYf"
   },
   "source": [
    "## DataFrame\n",
    "W tym momencie przejdziemy dalej z typami zmiennych w bibliotece Pandas. Kolejnym typem zmiennych, prawdopodobnie najważniejszym jeśli chodzi o te zajęcia jest `DataFrame`, który należy utożsamiać po prostu z tabelką danych, analogicznie do tych, które znacie z Excela. W przybliżeniu możemy przyjąć, że `DataFrame` to wiele `Series` połączonych w jeden typ zmiennej. Wcześniejsze operacje są nadal aktualne, ale dochodzi nam wiele nowych operacji, które postaramy się Ci przedstawić w dalszej części tego notatnika.\n",
    "\n",
    "Stwórzmy sobie teraz przykładowy `DataFrame` i zacznijmy z nim przygodę. "
   ]
  },
  {
   "cell_type": "markdown",
   "metadata": {
    "id": "z94z7YVFUaYf"
   },
   "source": [
    "Na podstawie wcześniejszych operacji arytmetycznych stwórzmy sobie zmienne ( `kolumna1`, `kolumna2`, `kolumna3`, `kolumna4`, `kolumna5`), które odpowiednio będą reprezentowały zmienna `kolumna` do której odpowiednio dodamy/odejmiemy 10, pomnożymy/podzielimy przez 10 i ostatnia, która reprezentuje wartości z `kolumna` podniesione do potęgi 10"
   ]
  },
  {
   "cell_type": "code",
   "execution_count": null,
   "metadata": {
    "id": "JIHxPk6lUaYf"
   },
   "outputs": [],
   "source": [
    "kolumna1 = kolumna + 10\n",
    "kolumna2 = kolumna - 10\n",
    "kolumna3 = kolumna * 10\n",
    "kolumna4 = kolumna / 10\n",
    "kolumna5 = kolumna ** 10"
   ]
  },
  {
   "cell_type": "markdown",
   "metadata": {
    "id": "QNzdZ_xsUaYf"
   },
   "source": [
    "Kolejnym etapem naszej pracy jest stworzenie pustej tablicy (`DataFrame`) z nazwami kolumn tożsamymi z nazwami naszych zmiennych. W tym celu posłużymy się następującym fragmentem kodu:\n",
    "```\n",
    "pd.DataFrame(columns = ['nazwa1', 'nazwa2', ..., 'nazwan'])\n",
    "```\n",
    "Tak przygotowana zmienna ( zazwyczaj nazywana `df`) będzie pustym `DataFrame` z nazwanymi przez nas kolumnami."
   ]
  },
  {
   "cell_type": "code",
   "execution_count": null,
   "metadata": {
    "colab": {
     "base_uri": "https://localhost:8080/"
    },
    "id": "hsH4zNtHUaYf",
    "outputId": "2c9b324c-9853-4f18-f88c-5b1e6f775a1d"
   },
   "outputs": [],
   "source": [
    "df = pd.DataFrame(columns = ['kolumna', 'kolumna1', 'kolumna2', 'kolumna3', 'kolumna4', 'kolumna5'])\n",
    "print(df)"
   ]
  },
  {
   "cell_type": "markdown",
   "metadata": {
    "id": "-Hx8d1LzUaYg"
   },
   "source": [
    "Ostatnim krokiem w tworzeniu `DataFrame` od podstaw jest przypisanie kolumną wartości, które chcemy żeby się w nich zawarły. Robi się to w następujący sposób:\n",
    "```\n",
    "df['nazwa_kolumny'] = pd.Series([a,b,c,d,....,x,y,z])\n",
    "``` \n",
    "\n",
    "Ponieważ my już wcześniej przygotowaliśmy sobie zmienne typu `Series` możemy to zrobić w sposób dużo łatwiejszy."
   ]
  },
  {
   "cell_type": "code",
   "execution_count": null,
   "metadata": {
    "colab": {
     "base_uri": "https://localhost:8080/"
    },
    "id": "6xP3HRCdUaYg",
    "outputId": "65e1a485-e075-45d9-a079-f8c78bde9517"
   },
   "outputs": [],
   "source": [
    "df['kolumna'] = kolumna\n",
    "df['kolumna1'] = kolumna1\n",
    "df['kolumna2'] = kolumna2\n",
    "df['kolumna3'] = kolumna3\n",
    "df['kolumna4'] = kolumna4\n",
    "df['kolumna5'] = kolumna5\n",
    "print(df)"
   ]
  },
  {
   "cell_type": "markdown",
   "metadata": {
    "id": "G7rxe9HZUaYg"
   },
   "source": [
    "Teraz w razie potrzeby wywołując taki fragment kodu `df['kolumna']` na ekranie komputera wyświetli ci się zawartość tylko kolumny o nazwie `kolumna`, a nie cała tablica. Do zawartości konkretnej kolumny możemy się też odnieść w sposób następujący `df.kolumna` ten zapis jest tożsamy zapisowi `df['kolumna']`. Stosowanie składni `df.nazwa_kolumny` ma jednak ograniczenia do nazw kolumn, które są zapisane bez kropek, przecinków czy spacji. Ważne jest to, żeby tworzona przez nas nazwa kolumny była jednym, spójnym napisem.\n",
    "Sprawdźmy poniżej czy jest to prawdą, w tym celu możemy wykorzystać znane nam już `is`."
   ]
  },
  {
   "cell_type": "code",
   "execution_count": null,
   "metadata": {},
   "outputs": [],
   "source": [
    "print(df.kolumna is df['kolumna'])\n",
    "print(df.kolumna5 is df['kolumna5'])"
   ]
  },
  {
   "cell_type": "markdown",
   "metadata": {},
   "source": [
    "Podobnie jak w przypadku `Series` tak i w przypadku `DataFrame` operacji arytmetycznych wyglądają tak samo biorąc poprawkę, że teraz np. w przypadku dodawania dodamy `x` do każdej wartości w każdej z kolumn. Jeśli chcielibyśmy np. odjąć wartość 5 od zawartości wybranej kolumny to można to uczynić w sposób następujący:\n",
    "```\n",
    "df['nazwa_kolumny'] = df['nazwa_kolumny'] - 5\n",
    "#lub\n",
    "df.nazwa_kolumny -= 5 \n",
    "```\n",
    "Spróbuj teraz swoich sił w zadaniu poniżej."
   ]
  },
  {
   "cell_type": "code",
   "execution_count": null,
   "metadata": {},
   "outputs": [],
   "source": [
    "df2 = df # tworzymy kopie df w celu weryfikacji 2 metod \n",
    "df['kolumna'] =  df['kolumna'] - 5\n",
    "df2.kolumna -= 5\n",
    "print(df2.kolumna is df['kolumna']) # sprawdzam czy operacje dokonane w liniach 2 i 3 są tożsame"
   ]
  },
  {
   "cell_type": "markdown",
   "metadata": {
    "id": "JvpLGH_jUaYg"
   },
   "source": [
    "## Zadanie 2 [0.5 pkt]\n",
    "\n",
    "Napisz funkcję (`nowy_df(zmienna_typu_series, liczba)`), która zwróci zmienną typu `DataFrame` o 6 kolumnach odpowiednio (`kol`, `kol1`, `kol2`, `kol3`, `kol4`, `kol5`)  gdzie każda z kolumn poza `kol` (przypisujemy je wartość `zmienna_typu_series`) to odpowiednio wynik dodania, odjęcia, pomnożenia, podzielenia i podniesienia do potegi `zmienna_typu_series` i `liczb` będących argumentami funkcji. Poniżej zostaną zaproponowane dane do weryfikacji działania twojej funkcji.  "
   ]
  },
  {
   "cell_type": "code",
   "execution_count": null,
   "metadata": {
    "id": "3uTDZN2fUaYh",
    "tags": []
   },
   "outputs": [],
   "source": [
    "def nowy_df(zmienna_typu_series, liczba):\n",
    "    \n",
    "    kol1 = ...\n",
    "    kol2 = ...\n",
    "    kol3 = ...\n",
    "    kol4 = ...\n",
    "    kol5 = ...\n",
    "\n",
    "    df_zad2 = ...\n",
    "\n",
    "    return df_zad2"
   ]
  },
  {
   "cell_type": "code",
   "execution_count": null,
   "metadata": {
    "colab": {
     "base_uri": "https://localhost:8080/"
    },
    "id": "r1iyD2VbUaYh",
    "outputId": "3d3c0b7f-f1b4-47b8-a22f-6d8d9e670e90"
   },
   "outputs": [],
   "source": [
    "#zmienne do przetestowania\n",
    "\n",
    "test1 = pd.Series([1,2,3,4,5,6,7,8,9,10])\n",
    "test2 = pd.Series([10,20,30,40,50,60,70,80])\n",
    "test3 = pd.Series([-1,-2,-3,-4,-5,-6,-7,-8,-9,-10])\n",
    "print(nowy_df(test1, 1))\n",
    "print()\n",
    "print(nowy_df(test2, 2))\n",
    "print()\n",
    "print(nowy_df(test3, 3))"
   ]
  },
  {
   "cell_type": "code",
   "execution_count": null,
   "metadata": {
    "deletable": false,
    "editable": false
   },
   "outputs": [],
   "source": [
    "grader.check(\"Q2\")"
   ]
  },
  {
   "cell_type": "markdown",
   "metadata": {
    "id": "nuCjsn_YUaYi"
   },
   "source": [
    "## Zapisywanie i Wczytywanie\n",
    "\n",
    "Teraz jesteśmy już w stanie przejść do pierwszej czynności, która towarzyszy każdej pracy z danymi, a mianowicie z wczytaniem danych. Tą operację można przeprowadzić na wiele sposobów. Można wczytywać różne pliki i następnie zamieniać je `DataFrame`. Na tych zajęciach skupimy się jednak tylko na plikach o rozszerzeniu .xlsx odpowiadającym plikom zapisywanym w Excelu. \n",
    "\n",
    "Najpierw przetestujmy wczytywanie danych z naszego lokalnego dysku, ale zanim będzie to możliwe musimy tam coś posiadać. Tu z pomocą przychodzi nam operacja zapisywania `DataFrame` do pliku .xlsx. Można do zrobić w nastęþujący sposób:\n",
    "```\n",
    "df.to_excel('nazwa_pliku.xlsx')\n",
    "```\n",
    "\n",
    "Mamy już na naszym notatniku zmienną o nazwie `df`, spróbujmy ją teraz zapisać a następnie wczytać przy pomocy polecenie:\n",
    "```\n",
    "df_wczytane = pd.read_excel('nazwa_pliku.xlsx')\n",
    "```\n"
   ]
  },
  {
   "cell_type": "code",
   "execution_count": null,
   "metadata": {
    "id": "zfvmwvVWUaYi"
   },
   "outputs": [],
   "source": [
    "df.to_excel('moj_dataframe.xlsx')"
   ]
  },
  {
   "cell_type": "markdown",
   "metadata": {
    "id": "HkkEJ8e6UaYj"
   },
   "source": [
    "Po wywołaniu powyższej linijki kodu nasz `DataFrame` powinien się zapisać na twoim dysku google. Możesz to sprawdzić klikając w lewym panelu Colaba na znaczek `files` tak jak w przykładzie na zdjęciu. Plik o nazwie `moj_dataframe.xlsx` powinien być widoczny. Teraz pobierz ten plik na swój lokalny komputer klikając na 'trzy kropki' obok niego. Zmień nazwę pliku na `moj_dataframe_pc.xlsx` na komputerze i nowo utworzony plik przeciągnij/wgraj do Colaba. Jeśli Ci się to uda to powinieneś ujrzeć oba pliki na ekranie, tak jak na załączonym zdjęciu. Czasem, żeby to zauważyć może być potrzeba kliknąć prawym przycikiem myszy na puste pole i kliknięcie `Refresh`.\n",
    "\n",
    "![](https://drive.google.com/uc?export=view&id=1sP0BsyhwcH8e4mAhNVmS3Bs8D7qkqJPG)\n",
    "\n",
    " Teraz mając plik `moj_dataframe_pc.xlsx` wgrany na dysk możemy go wczytać do Colaba. Polecenie niezbędne do wczytania excelowego pliku .xlsx wygląda następująco:\n",
    " ```\n",
    " pd.read_excel('nazwa_pliku.xlsx')\n",
    " ```\n",
    "\n",
    " Więcej informacji na temat wczytywania (https://pandas.pydata.org/docs/reference/api/pandas.read_excel.html) i zapisywania(https://pandas.pydata.org/docs/reference/api/pandas.DataFrame.to_excel.html) znajdziesz w dołączonych linkach. "
   ]
  },
  {
   "cell_type": "code",
   "execution_count": null,
   "metadata": {
    "colab": {
     "base_uri": "https://localhost:8080/"
    },
    "id": "rzddUb74UaYj",
    "outputId": "efb8bd2c-6127-4e49-dfe8-a4cb914cc830"
   },
   "outputs": [],
   "source": [
    "df_wczytane = pd.read_excel('moj_dataframe.xlsx')\n",
    "print(df_wczytane)"
   ]
  },
  {
   "cell_type": "markdown",
   "metadata": {
    "id": "VG2RnpIqUaYj"
   },
   "source": [
    "Jak możesz zauważyć nasz nowo wczytany `DataFrame` różni się od zapisanego. Pojawiła się nowa kolumna o nazwie `Unnamed: 0 ` zawiera ona w sobie wartości od 0 do 9. Z pewnością jak się domyślasz jest to kolumna indexów. W związku z czym w przypadku wczytywania gotowego `DataFrame` program nie musi tworzyć nowej kolumny indexów. W trakcie wczytywania pliku .xlsx możemy dodać flagę `index_col=0`, dzięki czemu program wie, że w pierwszej kolumnie znajdują się indexy. Sprawdź to uruchamiając poniższy fragment kodu. "
   ]
  },
  {
   "cell_type": "code",
   "execution_count": null,
   "metadata": {
    "colab": {
     "base_uri": "https://localhost:8080/"
    },
    "id": "6V5bOZMRUaYj",
    "outputId": "656499ac-179b-4a1d-d9bb-7921633ae4a3"
   },
   "outputs": [],
   "source": [
    "df_wczytane_z_flaga = pd.read_excel('moj_dataframe.xlsx', index_col=0)\n",
    "print(df_wczytane_z_flaga)"
   ]
  },
  {
   "cell_type": "markdown",
   "metadata": {
    "id": "5GylFq4YUaYj"
   },
   "source": [
    "---\n",
    "---\n",
    "Od teraz zaczynamy wykonywać czynności, które w istotny sposób mogą Ci się przydać podczas wczytywania i używania własnych danych. My wczytamy teraz dane z excela przygotowane na potrzeby tych zajęć. W tym celu wywołaj poniższy fragment kodu."
   ]
  },
  {
   "cell_type": "code",
   "execution_count": null,
   "metadata": {
    "id": "R7KDYa7EUaYj"
   },
   "outputs": [],
   "source": [
    "df_zajecia = pd.read_excel(\"dane_kraje.xlsx\")"
   ]
  },
  {
   "cell_type": "markdown",
   "metadata": {
    "id": "nQxsGOA-UaYk"
   },
   "source": [
    "Skupimy się teraz na pracy z danymi. \n",
    "\n",
    "Zazwyczaj na początku chcemy obejrzeć nasze dane. Spróbujmy więc teraz wyświetlić to co wczytaliśmy. Najprostszy sposób to wywołanie komórki z samą nazwą naszego `DataFrame` bez polecenia `print`. Po uruchomieniu takiej komórki wyświetli się nam tabelka z danymi. Zobaczymy nazwy kolumn, kilka przykładowych wierszy (kilka z początku i kilka z końca), a w lewym dolnym rogu zobaczymy wymiar naszej tablicy. W tym przypadku ma ona 202 wiersze oraz 8 kolumn. "
   ]
  },
  {
   "cell_type": "code",
   "execution_count": null,
   "metadata": {
    "colab": {
     "base_uri": "https://localhost:8080/",
     "height": 424
    },
    "id": "tldI0G1mUaYk",
    "outputId": "7c7239aa-1446-47d6-fc2e-7493b5f99f97"
   },
   "outputs": [],
   "source": [
    "df_zajecia"
   ]
  },
  {
   "cell_type": "markdown",
   "metadata": {
    "id": "Mxy_2Q9gUaYk"
   },
   "source": [
    "Przydatnymi narzędziami przy wyświetlaniu danych są funkcje `.head(X)` i `.tail(X)`, które to w zależności od podanego argumentu, który odpowiada za liczbę wyświetlanych wierszy wypisują na ekranie odpowiednio pierwsze/ostatnie X wierszy z naszego `DataFrame`. "
   ]
  },
  {
   "cell_type": "code",
   "execution_count": null,
   "metadata": {
    "colab": {
     "base_uri": "https://localhost:8080/",
     "height": 363
    },
    "id": "-4YX_kBsUaYk",
    "outputId": "c53354f9-dfc1-40d1-ac73-97b8ee4b7934"
   },
   "outputs": [],
   "source": [
    "df_zajecia.head(10)"
   ]
  },
  {
   "cell_type": "code",
   "execution_count": null,
   "metadata": {
    "colab": {
     "base_uri": "https://localhost:8080/",
     "height": 143
    },
    "id": "8Xct136BUaYk",
    "outputId": "97e896bd-fbf9-4b29-c2af-063246433d93"
   },
   "outputs": [],
   "source": [
    "df_zajecia.tail(3)"
   ]
  },
  {
   "cell_type": "markdown",
   "metadata": {
    "id": "v--_QFqhUaYl"
   },
   "source": [
    "Innym ważnym aspektem pracy na wczytywanych danych jest możliwość poznania nazw każdej z kolumn. Jest to niezbędne do prawidłowego wywoływania poszczególnych wartości z naszej tablicy. Tu z pomocą przychodzi nam zmienna wywoływana przy pomocy `.columns`, która to wyświetla nazwy kolumn zaczynając od lewej strony naszej tablicy, aż do jej końca. "
   ]
  },
  {
   "cell_type": "code",
   "execution_count": null,
   "metadata": {
    "colab": {
     "base_uri": "https://localhost:8080/"
    },
    "id": "BthN7kgFUaYl",
    "outputId": "82237a2f-210d-46da-de6b-a343c623db7a"
   },
   "outputs": [],
   "source": [
    "df_zajecia.columns"
   ]
  },
  {
   "cell_type": "markdown",
   "metadata": {
    "id": "5w5cMnYkUaYl"
   },
   "source": [
    "Następnie wartościową informacją jest rozmiar(wymiar) naszej tablicy. Warto wiedzieć ile wierszy i kolumn posiada nasz `DataFrame`. Możemy się tego dowiedzieć przy pomocy atrybutu `.shape`, która zwraca nam `(liczba_wierszy, liczba_kolumn)`. "
   ]
  },
  {
   "cell_type": "code",
   "execution_count": null,
   "metadata": {
    "colab": {
     "base_uri": "https://localhost:8080/"
    },
    "id": "UCKj43COUaYl",
    "outputId": "cfa4bf2c-eacd-4066-ae5f-23f58c7cde6e"
   },
   "outputs": [],
   "source": [
    "df_zajecia.shape"
   ]
  },
  {
   "cell_type": "markdown",
   "metadata": {
    "id": "tgj6kmAOUaYl"
   },
   "source": [
    "W łatwy sposób jesteśmy w stanie rozdzielić te dwie informacje. "
   ]
  },
  {
   "cell_type": "code",
   "execution_count": null,
   "metadata": {
    "colab": {
     "base_uri": "https://localhost:8080/"
    },
    "id": "vORNm0xJUaYl",
    "outputId": "7710b7a3-0c39-4e5f-b45c-b8a3e60f3fd7"
   },
   "outputs": [],
   "source": [
    "liczba_wierszy = df_zajecia.shape[0] \n",
    "liczba_kolumn = df_zajecia.shape[1]\n",
    "\n",
    "print('liczba wierszy: ', liczba_wierszy,', liczba kolumn: ', liczba_kolumn)"
   ]
  },
  {
   "cell_type": "markdown",
   "metadata": {
    "id": "hib-N9gkkt2d"
   },
   "source": [
    "# Zadanie 3 [0.5 punkt]\n",
    "\n",
    "Napisz funkcję, która jako argument przyjmuje cały dataframe, a zwraca liczbę 'komórek', które mamy w dataframie. Przykładowo, poniższy dataframe ma 8 komórek."
   ]
  },
  {
   "cell_type": "code",
   "execution_count": null,
   "metadata": {
    "colab": {
     "base_uri": "https://localhost:8080/",
     "height": 112
    },
    "id": "vnGHI4o4lXRf",
    "outputId": "2c2a9dd6-2ff6-4195-e8dd-4d6f248e0e58",
    "tags": []
   },
   "outputs": [],
   "source": [
    "df_zajecia.iloc[:2, :4]"
   ]
  },
  {
   "cell_type": "code",
   "execution_count": null,
   "metadata": {
    "id": "Gx6vuaoDl9ST",
    "tags": []
   },
   "outputs": [],
   "source": [
    "def liczba_komorek(dataframe):\n",
    "    ..."
   ]
  },
  {
   "cell_type": "code",
   "execution_count": null,
   "metadata": {
    "deletable": false,
    "editable": false
   },
   "outputs": [],
   "source": [
    "grader.check(\"Q3\")"
   ]
  },
  {
   "cell_type": "markdown",
   "metadata": {
    "id": "0MIsyoklUaYm"
   },
   "source": [
    "---\n",
    "Zanim jeszcze rozpoczniemy pracę nad naszymi danymi warto wiedzieć z czym przyjdzie nam się zmagać. Warto w tym celu użyć funkcji `.dtypes`, która poda jakie typy zmiennych znajdują się w każdej z kolumn."
   ]
  },
  {
   "cell_type": "code",
   "execution_count": null,
   "metadata": {
    "colab": {
     "base_uri": "https://localhost:8080/"
    },
    "id": "IBZ2PtGfUaYm",
    "outputId": "119cd964-48eb-4f31-dc45-46411c529559"
   },
   "outputs": [],
   "source": [
    "df_zajecia.dtypes"
   ]
  },
  {
   "cell_type": "markdown",
   "metadata": {
    "id": "F2LCPpqSv-vs"
   },
   "source": [
    "Widzimy, że typ niektórych zmiennych to `object`, a niektórych to `float64`. W pierwszym przypadku oznacza to, że wartości są tam przechowywane najprawdopodobniej w formacie napisu (`str` lub podobne, nie wchodzimy tutaj w szczegóły). Drugi przypadek natomiast oznacza, że zmienne w takiej kolumnie są przechowywane jako liczby rzeczywiste. Informacje możesz znaleźć również w tabelce poniżej.\n",
    "\n",
    "![](https://drive.google.com/uc?export=view&id=1Vx495G47Q3khoBA2XIZV-Z-jeUIi9OOl)\n",
    "\n",
    "Może się zdażyć, że kolumna, która powinna zawierać liczby zostanie wczytana w typie `object`. Problem może się brać np. z tego, że wartości w tych kolumnach zostały wczytane jako napisy już w Excelu.\n",
    "\n",
    "Taka sytuacja jest niepożada, ponieważ na takich kolumnach możemy mieć z problem z wykonywaniem operacji arytmetycznych, dlatego pokażemy teraz, jak zamienić te kolumny na typ, jaki uważamy za stosowny, w tym przypadku będzie to `float64`, który reprezentuje liczby rzeczywiste."
   ]
  },
  {
   "cell_type": "code",
   "execution_count": null,
   "metadata": {
    "id": "T4G7jol9y-bi"
   },
   "outputs": [],
   "source": [
    "df_zajecia['Intelligence quontient'] = df_zajecia['Intelligence quontient'].astype('float64') # przyklad zamiany typu zmiennej na float (liczby rzeczywiste)"
   ]
  },
  {
   "cell_type": "markdown",
   "metadata": {
    "id": "qFi7pidWUaYm"
   },
   "source": [
    "---\n",
    "Zajmijmy się teraz pracą nad naszą tablicą. Czasami zdarza się tak, że chcemy nadać robocze nazwy naszym kolumną np. po to żeby łatwiej się nam na nich pracowało. W tym celu z pomocą przychodzi nam funkcja `.rename(columns={'stara_nazwa': 'nowa_nazwa', 'stara_nazwa2': 'nowa_nazwa2'})`, która to w łatwy sposób pozwala nam na zmianę obecnych nazw kolumna na nowe."
   ]
  },
  {
   "cell_type": "code",
   "execution_count": null,
   "metadata": {
    "colab": {
     "base_uri": "https://localhost:8080/"
    },
    "id": "Lu7Yh5-yUaYm",
    "outputId": "45a07fd8-0239-460c-8a14-f8e7fb33f44b"
   },
   "outputs": [],
   "source": [
    "df_zajecia.rename(columns={'Country': 'Kraj', 'Intelligence quontient': 'Intell_quo'})\n",
    "print(df_zajecia.columns)"
   ]
  },
  {
   "cell_type": "markdown",
   "metadata": {
    "id": "bAYzpn84UaYm"
   },
   "source": [
    "Kolejną przydatną funkcją może okazać się `.drop(['nazwa', 'nazwa1'], axis=1, inplace=True)`, która to umożliwi usunięcie wybranych kolumn z naszej tabeli. Flaga `axis=1` potrzebna jest do tego, żeby funkcja wiedziała, że zajmuje się kolumnami, natomiast `inplace=True` podmienia nam zawartość starej tablicy na nową bez wybranych kolumn."
   ]
  },
  {
   "cell_type": "code",
   "execution_count": null,
   "metadata": {
    "colab": {
     "base_uri": "https://localhost:8080/"
    },
    "id": "3TA6SWACUaYm",
    "outputId": "f299ab57-3e08-45e3-b9b0-27a751537bc6"
   },
   "outputs": [],
   "source": [
    "df_zajecia_drop = df_zajecia.drop(['Country', 'Average temperature'], axis=1)\n",
    "print('Nazwy kolumn przed usunieciem wybranych kolumn:\\n', df_zajecia.columns)\n",
    "print('i po:\\n', df_zajecia_drop.columns)"
   ]
  },
  {
   "cell_type": "markdown",
   "metadata": {
    "id": "Uqvd5CpBUaYm"
   },
   "source": [
    "Wiesz już jak można usunąć kolumny, które wydają Ci się być niepotrzebne. Czasami bywa tak, że w danych nad którymi obecnie pracujesz pojawiają się `NaN, NA, #N/A`, które należy utożsamiać z `Not a Number` lub `Not Available`. Oznacza to, że w naszych danych dla danego kraju z jakiegoś powodu nie mamy wartości danego wskaźnika (np. nie został on zmierzony albo widzimy, że przy przepisywaniu został zmierzony źle - ktoś mógł chociażby w złym miejscu wstawić przecinek). Może to powodować niepoprawne działanie twojego kodu jeśli nie jesteś przygotowany na uwzględnienie tego w swoich danych.\n",
    "\n",
    "Biblioteka Pandas jest gotowa na znajdowanie takich obiektów oraz na różnego typu działania z nimi związanymi. Najpierw postarajmy się znaleźć wszystkie wystąpienia `NaN` w naszym `DataFrame`. Można to zrobić przy pomocy funkcji `.isna()`, którą należy rozbudować o `.any(axis=1)`, żeby znaleźć wszystkie wystąpienia w tablicy. "
   ]
  },
  {
   "cell_type": "code",
   "execution_count": null,
   "metadata": {
    "colab": {
     "base_uri": "https://localhost:8080/",
     "height": 770
    },
    "id": "5CuEAtH8UaYn",
    "outputId": "a79f1bce-1df4-41f8-b5b8-1205456530cf"
   },
   "outputs": [],
   "source": [
    "df_zajecia[df_zajecia.isna().any(axis=1)]"
   ]
  },
  {
   "cell_type": "markdown",
   "metadata": {
    "id": "wJQ7KQGeUaYn"
   },
   "source": [
    "Jak możesz zauważyć całkiem sporo wystąpień `NaN` jest obecnych w naszej tablicy. Najłatwiejszym sposobem będzie usunięcie wszystkich wierszów z taką wartością, w tym celu użyjemy `.dropna()`. Alternatywnym rozwiązaniem jest zamiana wszystkich `NaN` na np. 0, co można wykonać przy pomocy funkcji `.fillna(0)`. Sprawdźmy teraz jak to działa:"
   ]
  },
  {
   "cell_type": "code",
   "execution_count": null,
   "metadata": {
    "colab": {
     "base_uri": "https://localhost:8080/"
    },
    "id": "GwjMxgnMUaYn",
    "outputId": "831b9361-cbc4-4f99-8514-800097c9a2da"
   },
   "outputs": [],
   "source": [
    "df_zajecia_kopia = df_zajecia.dropna()\n",
    "df_zajecia_kopia.shape"
   ]
  },
  {
   "cell_type": "markdown",
   "metadata": {
    "id": "uOdVXx43UaYn"
   },
   "source": [
    "Jak widzisz nie ma już w naszej tablicy żadnych `NaN`, wszystkie wiersze zostały usunięte dlatego rozmiar tablicy się zmniejszył o liczbę usuniętych wierszy."
   ]
  },
  {
   "cell_type": "code",
   "execution_count": null,
   "metadata": {
    "colab": {
     "base_uri": "https://localhost:8080/"
    },
    "id": "1fF6Rgs2UaYn",
    "outputId": "109248bd-1ba1-45a7-a6c6-886636f9d5a5"
   },
   "outputs": [],
   "source": [
    "df_zajecia_kopia_2 = df_zajecia.fillna(0)\n",
    "df_zajecia_kopia_2.shape"
   ]
  },
  {
   "cell_type": "markdown",
   "metadata": {
    "id": "wPqnksSpUaYo"
   },
   "source": [
    "W przypadku podmiany `NaN` na 0 rozmiar tablicy nie ulega zmianie. "
   ]
  },
  {
   "cell_type": "markdown",
   "metadata": {
    "id": "Y03x7yKnUaYo"
   },
   "source": [
    "## Zamiana typów zmiennych"
   ]
  },
  {
   "cell_type": "markdown",
   "metadata": {
    "id": "QAz2az3cUaYo"
   },
   "source": [
    "## Zamiana zmiennej tekstowej na zmienną binarną"
   ]
  },
  {
   "cell_type": "markdown",
   "metadata": {
    "id": "KBfzZRDq3L6d"
   },
   "source": [
    "W naszych plikach możemy również mieć zmienne binarne - to takie zmienne, które przyjmują tylko 2 wartości. Przykładem takiej zmiennej w naszej tabelce jest kolumna `Developing?`. Przy pomocy funkcji `.unqiue()` możemy sprawdzić, jakie wartości przyjmuje taka kolumna. W tym przypadku będą to napisy `Developing`, jeśli kraj jest uznawany jako rozwijający się oraz `Developed` w przypadku krajów, które uznajemy za rozwinięte.\n"
   ]
  },
  {
   "cell_type": "code",
   "execution_count": null,
   "metadata": {
    "colab": {
     "base_uri": "https://localhost:8080/"
    },
    "id": "Y9JB8wYx3iQM",
    "outputId": "751f5c6e-6d9d-4600-d1ff-14718a742159"
   },
   "outputs": [],
   "source": [
    "df_zajecia['Developing?'].unique()"
   ]
  },
  {
   "cell_type": "markdown",
   "metadata": {
    "id": "Y1M-Ca4w4HZM"
   },
   "source": [
    "Wartościami w naszej kolumnie są napisy - warto jednak zwrócić uwagę, że komputery operują na liczbach, dlatego chcielibyśmy zamienić te napisy na liczby. Najczęściej wykonywaną operacją jest zamiana odpowiednich napisów na 0 i 1. W naszym przypadku, państwo, które było `Developing` otrzyma liczbę 0, natomiast państwo `Developed` liczbę 1. Jako, że ta kolumna wcześniej przechowywała napisy, musimy również ręcznie zamienić jej typ na liczbowy - w tym wypadku będzie to `int`, ponieważ interesują nas tylko liczby całkowite (jakimi są 0 i 1)."
   ]
  },
  {
   "cell_type": "code",
   "execution_count": null,
   "metadata": {
    "colab": {
     "base_uri": "https://localhost:8080/"
    },
    "id": "AVT7IE59804j",
    "outputId": "8af039af-2289-4cb2-ddbe-4b77f239b8c4"
   },
   "outputs": [],
   "source": [
    "df_zajecia['Developing?'][df_zajecia['Developing?'] == 'Developing'] = 0\n",
    "df_zajecia['Developing?'][df_zajecia['Developing?'] == 'Developed'] = 1\n",
    "df_zajecia['Developing?'] = df_zajecia['Developing?'].astype('int') # zmiana typu na calkowitoliczbowy"
   ]
  },
  {
   "cell_type": "markdown",
   "metadata": {},
   "source": [
    "Warto tu zauważyć, co tak naprawdę zrobiliśmy. W naszym `DataFrame` wzieliśmy pod uwagę kolumnę o nazwie `Developing?` następnie dla każdego wiersza w tej kolumnie wykonujemy operację logiczną, która polega na sprawdzeniu czy zawartość komórki w kolumnie `Developing?` odpowiada napisowi `Developing`. Zapis `[df_zajecia['Developing?'] == 'Developing']` pozwala na sprawdzenie wiersz po wierszu w obrębie kolumny czy odczytana wartość z `DataFrame` jest identyczna z tą podana po `==`. Działa to zarówno dla napisów jak i dla zmiennych typu `int` czy `float`. "
   ]
  },
  {
   "cell_type": "markdown",
   "metadata": {
    "id": "39myTmbq9fk4"
   },
   "source": [
    "Teraz możemy sprawdzić, że jedyne wartości w omawianej kolumnie to 0 i 1."
   ]
  },
  {
   "cell_type": "code",
   "execution_count": null,
   "metadata": {
    "colab": {
     "base_uri": "https://localhost:8080/"
    },
    "id": "HmNI-MTT9nxJ",
    "outputId": "86ee21b6-028f-493d-e8a8-2ea5d252e62a"
   },
   "outputs": [],
   "source": [
    "df_zajecia['Developing?'].unique()"
   ]
  },
  {
   "cell_type": "markdown",
   "metadata": {
    "id": "ZZdQKPWoUaYo"
   },
   "source": [
    "---\n",
    "Przy próbie analizy naszych danym nieodzownym narzędziem wydaje się zastosowanie funkcji `.describe()`, która to zwraca nam: ilość pozycji w kolumnie (count), średnią wartość w kolumnie (mean), odchylenie standardowe w kolumnie (std), wartość minimalną w kolumnie (min), 25/50/75 percentyl w kolumnie (25/50/75 %) oraz wartość maksymalną w kolumnie (max). Sprawdźmy to na naszej tablicy, którą stworzyliśmy na początku notatnika (df)."
   ]
  },
  {
   "cell_type": "code",
   "execution_count": null,
   "metadata": {
    "colab": {
     "base_uri": "https://localhost:8080/",
     "height": 300
    },
    "id": "eSHG-AHIUaYo",
    "outputId": "bd9cff97-d921-4f3c-ba31-f704c3d8133d"
   },
   "outputs": [],
   "source": [
    "df.describe()"
   ]
  },
  {
   "cell_type": "markdown",
   "metadata": {
    "id": "9oJFJxoLUaYo"
   },
   "source": [
    "Zastosujmy teraz tą funkcję do tablicy, którą wczytaliśmy na potrzeby tych zajęć(df_zajecia)."
   ]
  },
  {
   "cell_type": "code",
   "execution_count": null,
   "metadata": {
    "colab": {
     "base_uri": "https://localhost:8080/",
     "height": 300
    },
    "id": "XaZ28VexUaYo",
    "outputId": "d0ad5714-4e7c-4bb0-9ccb-c9679c5ff9c4"
   },
   "outputs": [],
   "source": [
    "df_zajecia.describe()"
   ]
  },
  {
   "cell_type": "markdown",
   "metadata": {
    "id": "GUlaulZzUaYp"
   },
   "source": [
    "Jak możesz zauważyć statystyki zostały wypisane tylko dla tych kolumn w których znajdują się tylko 'liczby' (nie ma tu kolumny `Country`). Oczywiście można każdy z tych parametrów wyliczyć w sposób indywidualny dla każdej z kolumn. Poniżej można zobaczyć jak można to zrobić. "
   ]
  },
  {
   "cell_type": "code",
   "execution_count": null,
   "metadata": {
    "colab": {
     "base_uri": "https://localhost:8080/"
    },
    "id": "m7I_5cMpUaYp",
    "outputId": "63be4128-b3bb-4792-bd1c-49fb48206cc4"
   },
   "outputs": [],
   "source": [
    "max_kolumna = df_zajecia['Intelligence quontient'].max()\n",
    "min_kolumna = df_zajecia['Intelligence quontient'].min()\n",
    "std_kolumna = df_zajecia['Intelligence quontient'].std()\n",
    "mean_kolumna = df_zajecia['Intelligence quontient'].mean()\n",
    "count_kolumna = df_zajecia['Intelligence quontient'].count()\n",
    "\n",
    "print(\"Max w kolumnie \", max_kolumna, ' Min w kolumnie ', min_kolumna, ' STD z kolumny ', std_kolumna, ' Srednia z kolumny ', mean_kolumna, 'Ile liczb w kolumnie ', count_kolumna)"
   ]
  },
  {
   "cell_type": "markdown",
   "metadata": {
    "id": "NICjbqWPUaYp"
   },
   "source": [
    "Te same funkcje można też wykorzystać do wyznaczenia statystyk całych tablic z rozróżnieniem na poszczególne kolumny. Spójrz do fragmentu kodu poniżej. "
   ]
  },
  {
   "cell_type": "code",
   "execution_count": null,
   "metadata": {
    "colab": {
     "base_uri": "https://localhost:8080/"
    },
    "id": "19suEMEOUaYp",
    "outputId": "e377e592-c310-4173-ddf6-910acc9cc028"
   },
   "outputs": [],
   "source": [
    "max_tab = df.max()\n",
    "min_tab = df.min()\n",
    "std_tab = df.std()\n",
    "mean_tab = df.mean()\n",
    "count_tab = df.count()\n",
    "\n",
    "print(\"Max w tablicy \", max_tab, '\\nMin w tablicy ', min_tab, '\\nSTD z tablicy ',\n",
    "      std_tab, '\\nSrednia z tablicy ', mean_tab, '\\nIle liczb w tablicy ', count_tab)"
   ]
  },
  {
   "cell_type": "markdown",
   "metadata": {
    "id": "gls5AOJfH5hS"
   },
   "source": [
    "---\n",
    "Przypomnijmy sobie, jak wyglądają nasze dane."
   ]
  },
  {
   "cell_type": "code",
   "execution_count": null,
   "metadata": {
    "colab": {
     "base_uri": "https://localhost:8080/",
     "height": 424
    },
    "id": "OqO0CjKvH5FK",
    "outputId": "8927bdba-f9c1-4c01-b783-c148d170f23e"
   },
   "outputs": [],
   "source": [
    "df_zajecia"
   ]
  },
  {
   "cell_type": "markdown",
   "metadata": {
    "id": "cNzC0eb_IBTd"
   },
   "source": [
    "Widzimy, że różne zmienne mają różne rzędy wielkości. Przy dalszym wnioskowaniu może to skutkować niepożądanymi zachowaniami (np. jedna zmienna może zdominować wszystkie pozostałe). Dlatego częstą praktyką w takim przypadku jest normalizacja zmiennych. Taką czynność można wykonać na wiele sposobów, w naszym przypadku użyjemy prostego skalowania - każdą kolumnę przekształcimy w taki sposób, aby największa wartość wynosiła 1, a najmniejsza 0. W ten sposób wszystkie wartości znajdą się w przedziale $[0,1]$. Normalizację wykonujemy osobno dla każdej kolumny. Zauważ, że nie ma sensu normalizować zmiennej binarnej `Developing?` - w niej już występują tylko 0 i 1.\n",
    "\n",
    "Wzorek, za pomocą którego możemy znormalizować daną kolumnę wygląda następująco:\n",
    "$z_i = \\frac{x_i - min(x)}{max(x)-min(x)}$, gdzie $min(x)$ oraz $max(x)$ to odpowiednio najmniejsze i największe wartości w danej kolumnie, $x_i$ to $i$-ta obserwacja przed znormalizowaniem, a $z_i$ to znormalizowana $i$-ta obserwacja. Została do tego przygotowana funckja, którą możecie zobaczyć poniżej. Dodatkowo stworzymy to w nowym dataframie, na którym wcześniej pozbywamy się wartości NA/NaN (jak to było to omówione wyżej)."
   ]
  },
  {
   "cell_type": "code",
   "execution_count": null,
   "metadata": {
    "id": "IJngho67NWP2"
   },
   "outputs": [],
   "source": [
    "def normalize(df_col):\n",
    "    return (df_col-df_col.min())/(df_col.max()-df_col.min())"
   ]
  },
  {
   "cell_type": "code",
   "execution_count": null,
   "metadata": {
    "id": "F4-P_rdJH_0F"
   },
   "outputs": [],
   "source": [
    "df_zajecia_norm = df_zajecia.dropna()\n",
    "df_zajecia_norm['Intelligence quontient'] = normalize(df_zajecia_norm['Intelligence quontient'])\n",
    "df_zajecia_norm['Expected years of schooling'] = normalize(df_zajecia_norm['Expected years of schooling'])\n",
    "df_zajecia_norm['Average temperature'] = normalize(df_zajecia_norm['Average temperature'])\n",
    "df_zajecia_norm['GDP (PPP) per capita'] = normalize(df_zajecia_norm['GDP (PPP) per capita'])\n",
    "df_zajecia_norm['Fertility rate per woman'] = normalize(df_zajecia_norm['Fertility rate per woman'])\n",
    "df_zajecia_norm['PPPwzg'] = normalize(df_zajecia_norm['PPPwzg'])"
   ]
  },
  {
   "cell_type": "code",
   "execution_count": null,
   "metadata": {
    "colab": {
     "base_uri": "https://localhost:8080/",
     "height": 424
    },
    "id": "khM4VKD1XQJN",
    "outputId": "da5acd9f-5074-48d8-a023-0e60dabaa720"
   },
   "outputs": [],
   "source": [
    "df_zajecia_norm # znormalizowane"
   ]
  },
  {
   "cell_type": "markdown",
   "metadata": {
    "id": "2JvDSa73OhF_"
   },
   "source": [
    "Jeśli spojrzymy na statystyki opisujące nasze dane to zobaczymy, że w tym przypadku w każdej kolumnie minimalna wartość to 0, a maksymalna to 1."
   ]
  },
  {
   "cell_type": "code",
   "execution_count": null,
   "metadata": {
    "colab": {
     "base_uri": "https://localhost:8080/",
     "height": 300
    },
    "id": "ucGo6R6XM-PT",
    "outputId": "0ff1727d-b51e-4d37-9406-26f145132f3c"
   },
   "outputs": [],
   "source": [
    "df_zajecia_norm.describe()"
   ]
  },
  {
   "cell_type": "markdown",
   "metadata": {
    "id": "fwcpFA43Yk_-"
   },
   "source": [
    "Teraz pokażemy, w jaki sposób można uszeregować państwa - policzyć pewne wskaźniki, wg. których można porównać ze sobą państwa. Jednym z takich wskaźników może być średnia ważona: $\\bar{x} = \\frac{w_1x_1 + w_2x_2 + \\dots + w_nx_n}{w_1+w_2+\\dots w_n}$, gdzie $w_1, w_2, \\dots, w_n$ to nieujemne wagi, natomiast $x_1, x_2, \\dots, x_n$ to wartości w kolejnych kolumnach (których jest $n$, w naszym przykładzie $n=7$, gdyż pierwsza kolumna to nazwy krajów). Taką średnią liczymy oddzielnie dla każdego kraju.\n"
   ]
  },
  {
   "cell_type": "code",
   "execution_count": null,
   "metadata": {
    "id": "j_wKPGGt9TM2"
   },
   "outputs": [],
   "source": [
    "liczba_kolumn = df_zajecia_norm.shape[1] # zapiszmy liczbe interesujacych nas kolumn\n",
    "df_zajecia_norm_do_liczenia = df_zajecia_norm.drop('Country', axis=1) # zapiszmy tu kolumny, na ktorych bedziemy liczyc srednia (czyli bez nazw krajow)"
   ]
  },
  {
   "cell_type": "code",
   "execution_count": null,
   "metadata": {
    "id": "4w82Ua_ucLVz"
   },
   "outputs": [],
   "source": [
    "def srednia_wazona(dataframe_do_liczenia, wagi):\n",
    "    licznik = (dataframe_do_liczenia*wagi).sum(axis=1)\n",
    "    mianownik = sum(wagi)\n",
    "    return licznik/mianownik"
   ]
  },
  {
   "cell_type": "markdown",
   "metadata": {
    "id": "0nBrWGJbb2VJ"
   },
   "source": [
    "Wagi arbitralnie ustalam: $w_1 = 1, w_2 = 1.5, w_3 = 0.5, w_4 = 3, w_5 = 2.5, w_6 = 0.1, w_7 = 0.75$. Wtedy taką średnią liczymy w następujący sposób:"
   ]
  },
  {
   "cell_type": "code",
   "execution_count": null,
   "metadata": {
    "id": "GHjJXEoeOdID"
   },
   "outputs": [],
   "source": [
    "moje_wagi = [1, 1.5, 0.5, 3, 2.5, 0.1, 0.75] # wagi mozemy zapisac wewnatrz nawiasow kwadratowych - tworzymy w ten sposob liste, o której dowiecie się więcej w dalszej czesci kursu"
   ]
  },
  {
   "cell_type": "markdown",
   "metadata": {
    "id": "ta5KSX42jzlU"
   },
   "source": [
    "W ten sposób dostaliśmy nową kolumnę `srednia_wazona`, co możemy zobaczyć poniżej."
   ]
  },
  {
   "cell_type": "code",
   "execution_count": null,
   "metadata": {
    "colab": {
     "base_uri": "https://localhost:8080/",
     "height": 595
    },
    "id": "ZEC7pXWAaXzb",
    "outputId": "3e4dbcd3-f06b-4571-9248-bea347fd2b74"
   },
   "outputs": [],
   "source": [
    "df_zajecia_norm['srednia_wazona'] = srednia_wazona(df_zajecia_norm_do_liczenia, moje_wagi)\n",
    "df_zajecia_norm"
   ]
  },
  {
   "cell_type": "markdown",
   "metadata": {
    "id": "YIgsPnBQkfVm"
   },
   "source": [
    "Aby zobaczyć uszeregowane państwa od najwyższej wartości tej średniej użyjemy funkcji `.sort_values()`, która jako argument przyjmuje nazwę kolumny, względem której chcemy posortować nasz dataframe, z dodatkową flagą `ascending=False`, dzięki której dostaniemy wyniki uszeregowane malejąco."
   ]
  },
  {
   "cell_type": "code",
   "execution_count": null,
   "metadata": {
    "colab": {
     "base_uri": "https://localhost:8080/",
     "height": 502
    },
    "id": "WMFgZ2o7kexZ",
    "outputId": "76d3dc9e-5256-423e-f372-fa92745ea5ee"
   },
   "outputs": [],
   "source": [
    "df_zajecia_norm.sort_values('srednia_wazona', ascending=False)"
   ]
  },
  {
   "cell_type": "markdown",
   "metadata": {
    "id": "JTxmgsXslbHV"
   },
   "source": [
    "Widzimy, że pierwszą trójkę tworzą `Qatar`, `Singapore` oraz `Brunei`. Zobaczmy co się stanie, gdy wybierzemy inne wagi do liczenia średniej.\n"
   ]
  },
  {
   "cell_type": "code",
   "execution_count": null,
   "metadata": {
    "colab": {
     "base_uri": "https://localhost:8080/",
     "height": 612
    },
    "id": "tWZoZiN_luPH",
    "outputId": "9a58ecaa-0abd-470d-d0aa-09998dbe6394"
   },
   "outputs": [],
   "source": [
    "moje_nowe_wagi = [2, 0.5, 1.5, 2, 0.1, 3, 1.5]\n",
    "df_zajecia_norm['srednia_wazona_nowa'] = srednia_wazona(df_zajecia_norm_do_liczenia, moje_nowe_wagi)\n",
    "df_zajecia_norm.sort_values('srednia_wazona_nowa', ascending=False)"
   ]
  },
  {
   "cell_type": "markdown",
   "metadata": {
    "id": "dy1snCWImS-J"
   },
   "source": [
    "Jak widzimy, wybór wag do liczenia średniej ma istotny wpływ na końcowy rezultat. Tym razem pierwszą trójkę tworzą `Singapore`, `Australia` oraz `Israel`. Oczywiście ważny jest wybór zmiennych - u nas ta średnia bierze pod uwagę zarówno PKB, dzietność kobiet jak i średnią temperaturę, nie należy do tych wyników przywiązywać większej uwagi."
   ]
  },
  {
   "cell_type": "markdown",
   "metadata": {
    "id": "CuYmpFK6CNr0"
   },
   "source": [
    "# Zadanie 4 [1.5 punkty]\n",
    "Napisz funkcje, ktora przyjmuje jako argumenty caly dataframe (zakladamy, że ma kolumnę `Country`) oraz nazwę kolumny. Funkcja ta powinna zwrócić nazwę państwa, dla którego wartość w podanej kolumnie jest najmniejsza. Przykładowo dla `panstwo_najnizej(df_zajecia_norm, 'Average temperature')` funkcja powinna zwrócić `Canada`, ponieważ w naszym zbiorze najmniejsza średnia temperatura jest w tym państwie. \n",
    "\n",
    "Wskazówka: przydatny może być argument `ignore_index` ustawiony na `True` w funkcji `.sort_values`.\n",
    "Zastosowanie flagi `ignore_index=True` zwróci wyniki, którym zostaną przypisane nowe wartości ideksów. Poprzednie wartości zostaną nadpisane. "
   ]
  },
  {
   "cell_type": "code",
   "execution_count": null,
   "metadata": {
    "id": "Ievlrk5qIMGa",
    "tags": []
   },
   "outputs": [],
   "source": [
    "def panstwo_najnizej(dataframe, nazwa_kolumny):\n",
    "    moj_df = ...\n",
    "    return moj_df['Country'][0]"
   ]
  },
  {
   "cell_type": "code",
   "execution_count": null,
   "metadata": {},
   "outputs": [],
   "source": [
    "# te komorke uruchom i sie nia nie przejmuj, zostala stworzona do autogradera\n",
    "df_test = pd.DataFrame(columns = ['Country', 'kolumna1', 'kolumna2'])\n",
    "df_test['Country'] = ['Canada', 'Ukraine', 'Germany', 'Poland']\n",
    "df_test['kolumna1'] = [0.2, 3, 0.4, 5]\n",
    "df_test['kolumna2'] = [31, 2, 0.7, 5]"
   ]
  },
  {
   "cell_type": "code",
   "execution_count": null,
   "metadata": {
    "deletable": false,
    "editable": false
   },
   "outputs": [],
   "source": [
    "grader.check(\"Q4\")"
   ]
  },
  {
   "cell_type": "markdown",
   "metadata": {
    "id": "ngkWH8L3iqkI"
   },
   "source": [
    "Zaprezentowaliśmy dziś, w jaki sposób można wczytać i wykonać podstawowe operacje i wnioskowanie na zbiorze danych. Możesz wykorzystać te metody do własnych danych. W razie problemów lub wątpliwości nie wahaj się pytać :)"
   ]
  },
  {
   "cell_type": "markdown",
   "metadata": {
    "deletable": false,
    "editable": false
   },
   "source": [
    "---\n",
    "\n",
    "To double-check your work, the cell below will rerun all of the autograder tests."
   ]
  },
  {
   "cell_type": "code",
   "execution_count": null,
   "metadata": {
    "deletable": false,
    "editable": false
   },
   "outputs": [],
   "source": [
    "grader.check_all()"
   ]
  }
 ],
 "metadata": {
  "colab": {
   "collapsed_sections": [],
   "name": "Week_7_v2",
   "provenance": []
  },
  "interpreter": {
   "hash": "916dbcbb3f70747c44a77c7bcd40155683ae19c65e1c03b4aa3499c5328201f1"
  },
  "kernelspec": {
   "display_name": "Python 3.9.7 64-bit",
   "language": "python",
   "name": "python3"
  },
  "language_info": {
   "codemirror_mode": {
    "name": "ipython",
    "version": 3
   },
   "file_extension": ".py",
   "mimetype": "text/x-python",
   "name": "python",
   "nbconvert_exporter": "python",
   "pygments_lexer": "ipython3",
   "version": "3.9.7"
  }
 },
 "nbformat": 4,
 "nbformat_minor": 0
}
