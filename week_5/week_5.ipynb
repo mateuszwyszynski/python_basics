{
 "cells": [
  {
   "cell_type": "code",
   "execution_count": null,
   "metadata": {},
   "outputs": [],
   "source": [
    "%%capture\n",
    "!pip install otter-grader\n",
    "\n",
    "files = \"https://github.com/mateuszwyszynski/python_basics/raw/main/week_5/tests.zip\"\n",
    "!wget -O ./tests.zip $files && unzip -o tests.zip\n",
    "\n",
    "import otter\n",
    "grader = otter.Notebook(colab = True)"
   ]
  },
  {
   "cell_type": "markdown",
   "metadata": {
    "id": "4PLJJqhOor_y"
   },
   "source": [
    "# **Pętle i iteratory** "
   ]
  },
  {
   "cell_type": "markdown",
   "metadata": {},
   "source": [
    "# **Czym są pętle**\n",
    "\n",
    "\n",
    "Pętle umożliwiają wielokrotne powtarzanie tego samego fragmentu programu. Do tej pory uczyliście się pisać programy, które wykonywały się jeden raz lub jeśli nie spełniły zadanych warunków logiczny to w ogóle nie były uruchamiane. Po każdorazowym wykonaniu polecenia zapisanego w twoim kodzie program się wyłączał i musiał być ponownie uruchomiony, albo dana operacja była wykonywana tylko dla jednego zestawu danych wejściowych. W tym notatniku postaramy się przybliżyć wam w jaki sposób możemy zaangażować program do wielokrotnego powtórzenia tej samej operacji. Umiejętne korzystanie z pętli może w znaczący sposób poprawić sposób działania twoich programów dzięki czemu będziesz miał czas na inne rzeczy ;)."
   ]
  },
  {
   "cell_type": "markdown",
   "metadata": {
    "id": "jYPO7HtxiYLA"
   },
   "source": [
    "# **Pętla For**\n",
    "\n",
    "Podstawową pętlą jaką stosuje się w większości przypadków pracy z danymi jest pętla ```for```. Pętla ```for``` służy do dokonywania iteracji*. Poniżej możesz zobaczyć schemat użycia pętli for:\n",
    "\n",
    "```python\n",
    "for zmienna in zakres:\n",
    "   operacja wykonywana na elemencie z zakresu lub też nie, ale wykonywana zakres-razy\n",
    "```\n",
    "\n",
    "`zmienna` - to aktualna wartość z podanego `zakresu`, która ulega zmianie w czasie wykonywania pętli.\n",
    "\n",
    "*Przykład*\n",
    "\n",
    "Po uruchomieniu poniższego fragmentu kodu:  \n",
    "\n",
    "```\n",
    "for i in [0, 1, 2, 3]:\n",
    "   print(i)\n",
    "```\n",
    "na ekranie zobaczysz\n",
    "\n",
    "```\n",
    "0\n",
    "1\n",
    "2\n",
    "3\n",
    "```\n",
    "`i` - przyjęło odpowiednio wartości 0,1,2,3. Po zakończeniu pętli zmienna `i` zachowuje swoją ostatnią wartość.\n",
    "\n",
    "Jeżeli wewnątrz pętli chcielibyśmy wykonać kilka instrukcji muszą one mieć ten sam poziom wcięcia. W pętli może znajdować się inne pętla lub operacja warunkowa. Ważne jest to, aby pamiętać o umieszczeniu zagnieżdżonej operacji z dobrze dobranym wycięciem. W celu zakończenia pętli konieczne jest powrócenie z dalszą częścią kodu do wcięcia równemu początkowi pętli.\n",
    "\n",
    "```iteracja - Iteracja (łac. iteratio – powtarzanie) – czynność powtarzania tej samej operacji w pętli z góry określoną liczbę razy lub aż do spełnienia określonego warunku. Mianem iteracji określa się także operacje wykonywane wewnątrz takiej pętli. ```"
   ]
  },
  {
   "cell_type": "markdown",
   "metadata": {
    "id": "i8RGtfZUqbSa"
   },
   "source": [
    "# **Teoria, a praktyka**\n",
    "\n",
    "Teraz pokażemy Ci w kilka podstawowych sposobów używania pętli ```for```. Pamiętaj, że dla zakresów liczbowych na których ma się wykonywać nasza pętla obowiązuje zasada, że są one zawsze domknięte z lewej strony i otwarte z prawej. Przejdźmy teraz do przykładów:"
   ]
  },
  {
   "cell_type": "markdown",
   "metadata": {},
   "source": [
    "# **Range na kilka sposobów**\n",
    "\n",
    "Jednym z głównych składników instrukcji pętli ```for``` jest funkcja ```range```. Po uruchomieniu zwraca sekwencję liczb zgodną z tym w jaki sposób została uruchomiona. Domyślnie sekwencja liczb generowana jest od 0 i zwiększana (domyślnie) o 1, aż do liczby przed tą którą zadaliśmy.\n",
    "\n",
    "```python\n",
    "range(start, stop, step)\n",
    "```\n",
    "gdzie:\n",
    "\n",
    "```start``` - Liczba całkowita określająca początek naszej sekwencji (parametr opcjonalny, domyślnie 0);\n",
    "\n",
    "```stop```  - Liczba całkowita określająca koniec naszej sekwencji. Ostatnią liczbą sekwencji jest ```stop - 1``` ( parametr wymagany);\n",
    "\n",
    "```step```  - Liczba całkowita określająca wartość inkrementacji (parametr opcjonalny, domyślnie 1)\n",
    "\n",
    "Możesz wywołać tą funkcję na kilka sposobów:"
   ]
  },
  {
   "cell_type": "markdown",
   "metadata": {},
   "source": [
    "Najprostsze możliwe zastosowanie pętli ``for`` przy użyciu funkcji `range`.\n",
    "Uruchom poniższy fragment kodu."
   ]
  },
  {
   "cell_type": "code",
   "execution_count": null,
   "metadata": {},
   "outputs": [],
   "source": [
    "print(\"pętla 1\")\n",
    "for i in range(10):           # zakres od 0 do podanej liczby. argument 'stop' dla tego przypadku wynosi 10.\n",
    "  print(i, end = ' , ')"
   ]
  },
  {
   "cell_type": "markdown",
   "metadata": {},
   "source": [
    "Zastosowanie pętli ``for`` przy użyciu funkcji `range(start,stop)` wartość `step` wynosi domyślnie 1."
   ]
  },
  {
   "cell_type": "code",
   "execution_count": null,
   "metadata": {},
   "outputs": [],
   "source": [
    "print('\\n',\"pętla 2\")\n",
    "for i in range(0, 10):        # zakres od 'start' do 'stop'\n",
    "  print(i, end = ' , ')"
   ]
  },
  {
   "cell_type": "markdown",
   "metadata": {},
   "source": [
    "Zastosowanie pętli ``for`` przy użyciu funkcji `range(start,stop, step)`. "
   ]
  },
  {
   "cell_type": "code",
   "execution_count": null,
   "metadata": {},
   "outputs": [],
   "source": [
    "print('\\n',\"pętla 3\")\n",
    "for i in range(0,100,10):     # zakres od 'start' do 'stop' z krokiem 'step'\n",
    "  print(i, end = ' , ')"
   ]
  },
  {
   "cell_type": "markdown",
   "metadata": {},
   "source": [
    "Zastosowanie pętli ``for`` przy użyciu funkcji `range(start,stop, step)` z ujemną wartością `step`."
   ]
  },
  {
   "cell_type": "code",
   "execution_count": null,
   "metadata": {},
   "outputs": [],
   "source": [
    "print('\\n',\"pętla 4\")\n",
    "for i in range(100,-100,-10):    # zakres od podnaej liczby do podanej liczby2 z krokiem\n",
    "  print(i, end = ' , ') "
   ]
  },
  {
   "cell_type": "markdown",
   "metadata": {},
   "source": [
    "# **Pętla for bez użyciu range()**\n",
    "\n",
    "Z pewnością zadajesz sobie pytanie, czy możliwe jest używanie pętli `for` bez użyciu funkcji `range()`. Tak jest to możliwe. Python w ogromie swoich możliwości umożliwia nam na wykorzystanie w pętli `for` nie tylko liczb całkowitych, ale również: pojedynczych słów, znaków (np. alfabetu), nazw plików w danym katalogu, elementów list(o tym będzie w kolejnych notatkach) oraz wielu innych rzeczy, które w tym momencie mogą wydać się się abstrakcją ;). Sprawdźmy to!"
   ]
  },
  {
   "cell_type": "markdown",
   "metadata": {},
   "source": [
    "Zobacz jak łatwo można w Pythonie \"przeliterować\" każdy napis. Kluczowa w tym jest poprawna konstrukcja naszej pętli. Zobacz, że nasz iterator ( w tym przypadku `x`), może przyjmować wartości inne niż liczby. Będziemy przypisywali mu `stringi`."
   ]
  },
  {
   "cell_type": "code",
   "execution_count": null,
   "metadata": {},
   "outputs": [],
   "source": [
    "string_1 = 'pięćdziesięciogroszówka'\n",
    "print('\\n',\"pętla 5\")\n",
    "for x in string_1:            # w Pytohnie można iterować po elementach(literach) napisu\n",
    "  print(x, end = ' , ')"
   ]
  },
  {
   "cell_type": "markdown",
   "metadata": {},
   "source": [
    "W kolejnym przykładzie stworzyliśmy pewien obiekt, który nazwaliśmy `lista`. Dzięki temu, że jest on typem zmiennej 'list' możemy przy pomocy pętli `for` \"dostać\" się do każdego elementu `lista`. Więcej na temat list oraz ich własności dowiesz się na kolejnych zajęciach. "
   ]
  },
  {
   "cell_type": "code",
   "execution_count": null,
   "metadata": {},
   "outputs": [],
   "source": [
    "lista = ['poniedziałek', 'wtorek', 'środa', 'czwartek', 'piatek', 'sobota', 'niedziela']\n",
    "print('\\n',\"pętla 6\")\n",
    "for x in lista:            # w Pytohnie można iterować po elementach wektora\n",
    "  print(x, end = ' , ')"
   ]
  },
  {
   "cell_type": "markdown",
   "metadata": {},
   "source": [
    "Przejdźmy teraz do innego przykładu pętli."
   ]
  },
  {
   "cell_type": "markdown",
   "metadata": {
    "id": "VlV9OsjGtwVq"
   },
   "source": [
    "# **Pętla While**\n",
    "\n",
    "W przeciwieństwie do pętli `for` pętla `while` wykonuje zawarte w niej instrukcje dopóki podany warunek logiczny(który musimy na wstępie zdefiniować) jest spełniony. Nie podajemy tu z góry narzuconej liczby powtórzeń. Przy użyciu odpowiednich warunków logicznych może być ona traktowana jako alternatywa dla pętli `for`. Jedną z zalet pętli `while` jest możliwość korzystania z korków nie będących liczbami całkowitymi. Zapoznajmy się teraz z konstrukcją tej pętli:\n",
    "\n",
    "```python\n",
    "while warunek logiczny:\n",
    "  operacja\n",
    "```\n",
    "\n",
    "Zobacz, że konstrukcja pętli `while` jest niemalże identyczna jak w przypadku instrukcji warunkowej `if`, z którą mieliśmy już do czynienia.\n",
    "\n",
    "Poniżej możesz znaleźć przykład dodatkowych informacji na temat pętli:\n",
    "Loop statements may have an else clause; it is executed when the loop terminates through exhaustion of the iterable (with for) or when the condition becomes false (with while), but not when the loop is terminated by a break statement. When used with a loop, the else clause has more in common with the else clause of a try statement than it does with that of if statements: a try statement’s else clause runs when no exception occurs, and a loop’s else clause runs when no break occurs. For more on the try statement and exceptions, see Handling Exceptions.\n",
    "\n",
    "Jeśli chcesz dowiedzieć się więcej na temat pętli oraz sposobu ich zastosowania skorzystaj z poniższego hiperłącza kierującego bezpośrednio do dokumentacji Pythona. Warto zaznajamiać się z tego typu dokumentami w celu poszerzania swojej wiedzy ;)\n",
    "https://docs.python.org/3/tutorial/controlflow.html"
   ]
  },
  {
   "cell_type": "markdown",
   "metadata": {
    "id": "WZwLgwXHBwD5"
   },
   "source": [
    "# **Teoria, a praktyka pętla `while`**\n",
    "\n",
    "Sprawdźmy teraz w jaki sposób możemy korzystać z pętli `while`. Poniżej znajduje się program, który prosi Cię o podanie dowolnej liczby. Następnie sprawdza czy podana liczba jest mniejsza od 10 i jeśli tak to inkrementuje jej wartość o 1. Po każdej inkrementacji sprawdzany jest warunek ```liczba < 10``` i jeśli nie jest on spełniony to program kończy swoją pracę. Zweryfikuj czy poniższy program działa poprawnie. "
   ]
  },
  {
   "cell_type": "code",
   "execution_count": null,
   "metadata": {
    "id": "NpqBfVRAFxM7"
   },
   "outputs": [],
   "source": [
    "liczba = float(input(\"Podaj liczbę: \"))\n",
    "\n",
    "while liczba < 10:\n",
    "  print(f\"Ponieważ {int(liczba)} jest mniejsze od 10. \\n to dodaję 1 do {int(liczba)} i ponownie sprawdzam warunek logiczny\")\n",
    "  liczba = liczba +1\n",
    "else: print(f\"\\n Ponieważ {int(liczba)} nie jest mniejsze od 10 to kończę działanie pętli\")"
   ]
  },
  {
   "cell_type": "markdown",
   "metadata": {},
   "source": [
    "Co się stanie w momencie kiedy zmienimy warunek logiczny na ```liczba > 10```? uruchom program 2 razy, za pierwszym razem podaj liczbę nie większą od 10. Za drugim razem podaj dowolną liczbę większą od 10, zobacz co się stanie."
   ]
  },
  {
   "cell_type": "code",
   "execution_count": null,
   "metadata": {},
   "outputs": [],
   "source": [
    "liczba = float(input(\"Podaj liczbę: \"))\n",
    "\n",
    "while liczba > 10:\n",
    "  print(f\"Ponieważ {int(liczba)} jest mniejsze od 10. \\n to dodaję 1 do {int(liczba)} i ponownie sprawdzam warunek logiczny\")\n",
    "  liczba = liczba +1\n",
    "else: print(f\"\\n Ponieważ {int(liczba)} nie jest większe od 10 to kończę działanie pętli\")"
   ]
  },
  {
   "cell_type": "markdown",
   "metadata": {},
   "source": [
    "Nieumiejętne korzystanie z pętli `while` może doprowadzić do 'infinite loop'. Taka \"nieskończona\" pętla będzie się wykonywała dopóki nie przerwiemy \"siłowo\" pracy programu. Pamiętaj, korzystając z pętli `while` konieczna jest weryfikacja warunków logicznych, aby zapobiec 'infinite loop'."
   ]
  },
  {
   "cell_type": "markdown",
   "metadata": {},
   "source": [
    "Zastanów się gdzie w życiu codziennym możesz napotkać się na działanie pętli, a zwłaszcza pętli `while`. Każdy z nas ma obecnie smartfon, który z pewnością jest chroniony kodem dostępu. Przy każdej próbie odblokowania telefonu jesteś proszony o podanie prawidłowego kodu. W razie pomyłki masz kilka szans na ponowne wprowadzenie kodu. Nie musisz za każdym razem na nowo blokować i odblokowywać telefonu. Spróbujmy napisać teraz program symulujący odblokowywanie telefonu z wykorzystaniem pętli `while`. "
   ]
  },
  {
   "cell_type": "code",
   "execution_count": null,
   "metadata": {},
   "outputs": [],
   "source": [
    "# WERSJA PROSTA\n",
    "kod = input(\"Podaj 4 cyforwy kod: \")\n",
    "poprawny_kod = '1234'\n",
    "\n",
    "while kod != poprawny_kod:\n",
    "    kod = input(\"Podano błędny kod! \\n Podaj 4 cyforwy kod: \")\n",
    "else: print(\"Podany kod jest prawidłowy\")"
   ]
  },
  {
   "cell_type": "markdown",
   "metadata": {},
   "source": [
    "W rzeczywistości jest tak, jeśli kilkukrotnie podamy zły kod to telefon przez jakiś czas przestaje przyjmować kolejne próby. Oznacza to, że w jakiś sposób pętla `while` musi liczyć \"przebiegi\". Zastanówmy się teraz jak możemy ulepszyć nasz program i dodać mu taką funkcjonalność. Załóżmy, że jeśli podamy kod 5 razy źle to program się wyłącza. "
   ]
  },
  {
   "cell_type": "code",
   "execution_count": null,
   "metadata": {},
   "outputs": [],
   "source": [
    "# WERSJA ULEPSZONA\n",
    "kod = input(\"Podaj 4 cyforwy kod: \")\n",
    "poprawny_kod = '1234'\n",
    "\n",
    "licznik = 0 # definujemy licznik, który będzie zliczał ilość wprowadzenia błędnego kodu\n",
    "\n",
    "while kod != poprawny_kod:\n",
    "    licznik += 1 # inkrementujemy wartość licznika o 1 w każdym przebiegu pętli\n",
    "    if licznik == 5: #stosujemy warunek logiczny sprawdzający licznik\n",
    "        print(\"5-krotnie wprowadzono zły kod, program się wyłączy\")\n",
    "        break # przerywamy pracę programu\n",
    "    kod = input(\"Podano błędny kod! \\n Podaj 4 cyforwy kod: \")\n",
    "else: print(\"Podany kod jest prawidłowy\")"
   ]
  },
  {
   "cell_type": "markdown",
   "metadata": {},
   "source": [
    "Przyjrzyj się uważnie **WERSJA ULEPSZONA**, w tym kodzie użyliśmy `break`. Nieustanne wprowadzenie błędnego kodu zakończyło się po 5 próbach. Program wyświetlił `5-krotnie wprowadzono zły kod, program się wyłączy` i się wyłączył. Było to możliwe dzięki zastosowaniu warunku logicznego kontrolującego możliwą ilość wprowadzenia kodu oraz `break`, który to zakończył działanie pętli `while`. "
   ]
  },
  {
   "cell_type": "markdown",
   "metadata": {},
   "source": [
    "# **break i continue**\n",
    "\n",
    "Zarówno `break` i `continue` określane są jako \"loop control statement\". Każde z tych wyrażeń cechuje się inną właściwością `break` powoduje zakończenie pętli i przejście do dalszej części programu, tak jak miało to miejsce w przykładzie z odblokowywaniem telefonu. Natomiast `continue` powoduje przerwanie działania pętli na *aktualnym* elemencie/wartości iteratora i powrotu do początku bloku z kolejnym elementem/wartością iteratora. Oba te wyrażenia mogą być stosowane zarówno w pętli `while` jak i `for`.  "
   ]
  },
  {
   "cell_type": "markdown",
   "metadata": {
    "id": "LLc9-viRCpYn"
   },
   "source": [
    "Zobaczmy jak w praktyce możemy wykorzystać omówione wyrażenia kontrolne pętli. Na początek przeanalizujmy program służący do znajdowania liczb pierwszych, które od wieków ciekawią matematyków.\n",
    "\n",
    "Program działa w sposób następujący, dla podanego zakresu liczb `for n in range(2, 10)` sprawdzamy w kolejnej pętli(zagnieżdżonej) o zakresie `for x in range(2, n)` czy iterator(`n`) z pętli głównej dzieli się bez reszty (`%`) przez kolejne liczby z zakresu od `2` do `n-1`. Jeśli reszta z dzielenia wynosi 0 to zagnieżdżona pętla jest przerywana i `n` zwiększane jest o 1 i dalej szukamy liczby pierwszej. Liczbę pierwszą znajdujemy tylko wtedy gdy na całym zakresie pętli zagnieżdżonej nie znajdziemy takiego dzielnika, który dzieli `n` bez reszty.   "
   ]
  },
  {
   "cell_type": "code",
   "execution_count": null,
   "metadata": {
    "id": "H2aMjThjJwLi"
   },
   "outputs": [],
   "source": [
    "for n in range(2, 10):\n",
    "  for x in range(2, n):\n",
    "    if n % x == 0:\n",
    "      print(n, '=', x, '*', n//x)\n",
    "      break\n",
    "  else:                              #Należy do for nie do if !!!!!\n",
    "    print(n, 'jest liczbą pierwszą')\n"
   ]
  },
  {
   "cell_type": "markdown",
   "metadata": {},
   "source": [
    "Zobaczmy teraz jak może by zbadać czy podane liczby są parzyste czy nieparzyste.\n",
    "\n",
    "Tak jak poprzednio program działa w sposób następujący, dla podanego zakresu liczb `for n in range(2, 10)` wewnątrz warunku logicznego sprawdzamy czy reszta z dzielenia przez 2 naszego iteratora `num` daje resztę 0 ( jest to wtedy liczba parzysta). Jeśli program znajdzie listę parzystą to pętla jest przerywana przy użyciu `continue` i kolejna wartość `num` jest badana. "
   ]
  },
  {
   "cell_type": "code",
   "execution_count": null,
   "metadata": {},
   "outputs": [],
   "source": [
    "for num in range(2, 10):\n",
    "  if num % 2 == 0:\n",
    "    print(\"Znalazłem liczbę parzystą\", num)\n",
    "    continue\n",
    "  print(\"Znalazłem liczbę nieparzystą\", num)"
   ]
  },
  {
   "cell_type": "markdown",
   "metadata": {},
   "source": [
    "Przejdźmy teraz do zadań!"
   ]
  },
  {
   "cell_type": "markdown",
   "metadata": {
    "id": "J8-DylA1_yIj"
   },
   "source": [
    "### **Zadanie 1 (1 pkt)**\n",
    "Napisz program(funkcję) znajdujący największą liczbę w zbiorze liczb dodatnich. \n",
    "\n",
    "Zwróć uwagę na poprawne zapisanie warunków oraz odpowiedni wybór pętli."
   ]
  },
  {
   "cell_type": "markdown",
   "metadata": {},
   "source": [
    "_Type your answer here, replacing this text._"
   ]
  },
  {
   "cell_type": "code",
   "execution_count": null,
   "metadata": {
    "id": "PpesvXfsAzXx",
    "tags": []
   },
   "outputs": [],
   "source": [
    "def maks_w_zbiorze(zbior):\n",
    "  najwieksza_do_tej_pory = ...\n",
    "  ...\n",
    "    ...\n",
    "      najwieksza_do_tej_pory = ...\n",
    "\n",
    "  return najwieksza_do_tej_pory"
   ]
  },
  {
   "cell_type": "code",
   "execution_count": null,
   "metadata": {
    "tags": []
   },
   "outputs": [],
   "source": [
    "zbior_liczb_1 = [32, 15, 26, 78, 15, 96, 99, 1, 17, 63, 24, 19, 65, 68, 2] \n",
    "\n",
    "zbior_liczb_2 = [41, 95, 95, 68, 9, 73, 56, 98, 71, 99, 25, 19, 44, 63] \n",
    "\n",
    "zbior_liczb_3 = [45, 150, 226, 718, 125, 963, 919, 201, 117, 653, 243, 189, 655, 618, 22, 59, 15, 132] \n",
    "\n",
    "\n",
    "print(f\"Ostatecznie, największa liczba w zbiorze to {maks_w_zbiorze(zbior_liczb_1)}\")"
   ]
  },
  {
   "cell_type": "code",
   "execution_count": null,
   "metadata": {
    "deletable": false,
    "editable": false
   },
   "outputs": [],
   "source": [
    "grader.check(\"Q1\")"
   ]
  },
  {
   "cell_type": "markdown",
   "metadata": {
    "id": "hR39XBO_Cczk"
   },
   "source": [
    "# **UWAGA**\n",
    "\n",
    "Zastanów się czy zastosowane przez Ciebie rozwiązanie będzie działało w chwili, gdy twój program będzie działał na dowolnym zbiorze liczb ujemnych?\n",
    "\n",
    "W takich sytuacjach pomocne, może okazać się skorzystanie z ```is``` oraz ```is not```. Przeanalizuj poniższy fragment kodu, zastanów się jakie operacje odbywają się w każdej z linii.\n",
    "\n",
    "```python\n",
    "if najmniejsza is None: # W Pythonie istnieje operator \"is\", który ma zastosowanie w operacja logicznych\n",
    "  najmniejsza = wartosc # \"is\" jest mocniejszy od \"==\"\n",
    "elif wartosc < najmniejsza:\n",
    "  najmniejsza = wartosc\n",
    "\n",
    "```\n",
    "`None` nie oznacza, że `najmniejsza` w tym przypdku równa się 0, ale że nie posiada ona żadnej wartości (NULL z ang.)\n",
    "\n",
    "Stosowanie operatora ```is``` oraz ```is not``` jest silniejsze niż stosowanie ```==``` i odpowiednio ```!=``` w operacjach logicznych.\n",
    "\n",
    "Przetestuj poniższy fragment kodu, przetestuj czemu musi być równa zmienna ```najmniejsza```, żeby pierwszy warunek logiczny był spełniony. \n",
    "Jak uważasz, po co używa się takiego zabiegu?\n"
   ]
  },
  {
   "cell_type": "code",
   "execution_count": null,
   "metadata": {
    "id": "-t8icQJo2b3h"
   },
   "outputs": [],
   "source": [
    "najmniejsza = 9\n",
    "\n",
    "if najmniejsza is None:\n",
    "  print(\"Jest None\")\n",
    "else: print(\"Nie jest None\")"
   ]
  },
  {
   "cell_type": "markdown",
   "metadata": {
    "id": "WEdhITgg3CUq"
   },
   "source": [
    "### **Zadanie 2 (1 pkt)**\n",
    "Napisz program(funkcję) znajdujący najmniejszą liczbę w zbiorze liczb ( uwzględnij liczby dodatnie jak i ujemne). \n",
    "\n",
    "Zwróć uwagę na poprawne zapisanie warunków oraz odpowiedni wybór pętli.\n"
   ]
  },
  {
   "cell_type": "markdown",
   "metadata": {},
   "source": [
    "_Type your answer here, replacing this text._"
   ]
  },
  {
   "cell_type": "code",
   "execution_count": null,
   "metadata": {
    "id": "OlCfYHYJDVZ6",
    "tags": []
   },
   "outputs": [],
   "source": [
    "def min_w_zbiorze(zbior):\n",
    "\n",
    "  najmniejsza_wartosc = ...\n",
    "\n",
    "  ...\n",
    "    ...\n",
    "      najmniejsza_wartosc = ...\n",
    "    ...\n",
    "      najmniejsza_wartosc = ...\n",
    "\n",
    "  return najmniejsza_wartosc"
   ]
  },
  {
   "cell_type": "code",
   "execution_count": null,
   "metadata": {
    "tags": []
   },
   "outputs": [],
   "source": [
    "zbior_liczb_1 = [32, 15, 26, 78, 15, 96, 99, 1, 17, 63, 24, 19, 65, 68, 2] \n",
    "\n",
    "zbior_liczb_2 = [41, 95, 95, 68, 9, 73, 56, 98, 71, 99, 25, 19, 44, 63] \n",
    "\n",
    "zbior_liczb_3 = [-45, 150, 226, 718, 125, 963, 919, 201, 117, 653, 243, 189, 655, 618, 22, -59, 15, 132] \n",
    "\n",
    "zbior_liczb_4 = [-32, -15, -26, -78, -15, -96, -99, -1, -17, -63, -24, -19] \n",
    "\n",
    "print(f\"Ostatecznie, najmniejsza liczba w zbiorze to {min_w_zbiorze(zbior_liczb_4)}\")"
   ]
  },
  {
   "cell_type": "code",
   "execution_count": null,
   "metadata": {
    "deletable": false,
    "editable": false
   },
   "outputs": [],
   "source": [
    "grader.check(\"Q2\")"
   ]
  },
  {
   "cell_type": "markdown",
   "metadata": {
    "id": "t6J578skxIVJ"
   },
   "source": [
    "### **Zadanie 3 (0,5 pkt)**\n",
    "\n",
    "\n",
    "Napisz program, który oblicza silnię podanej liczby x!.\n",
    "\n",
    "Jeśli nie wiesz czym jest silnia spójrz tu https://pl.wikipedia.org/wiki/Silnia .\n",
    "\n",
    "Przydatne może okazać się użycie następującej notacji:\n",
    "\n",
    "```Python\n",
    "a = b   # Przypisanie 'a' wartości 'b'\n",
    "a += 1  # Zwiększenie wartości 'a' o 1 lub o to co podstawimy za 1 np. b (dodatnie)\n",
    "a -= 1  # Zmniejszenie wartości 'a' o 1 lub o to co podstawimy za 1 np. b (odejmowanie)\n",
    "a *= b  # Zwielokrotnienie wartości 'a' 'b' razy (mnożenie)\n",
    "a /= b  # Podzielenie wartości 'a' przez 'b' (dzielenie)\n",
    "a %= b  # Przypisanie 'a' wartości dzielenia 'a' przez 'b' (modulo)\n",
    "a **= b # Przypisanie 'a' wartości 'a' do potęgi 'b'\n",
    "a //= b # Przypisanie 'a' wartości dzielenia bez reszty 'a' przez 'b'\n",
    "```"
   ]
  },
  {
   "cell_type": "code",
   "execution_count": null,
   "metadata": {
    "id": "dSm5BnZTxZIh",
    "tags": []
   },
   "outputs": [],
   "source": [
    "def silnia(x): \n",
    "    a=1\n",
    "    ...\n",
    "        ...\n",
    "    return a\n"
   ]
  },
  {
   "cell_type": "code",
   "execution_count": null,
   "metadata": {
    "deletable": false,
    "editable": false
   },
   "outputs": [],
   "source": [
    "grader.check(\"Q3\")"
   ]
  },
  {
   "cell_type": "markdown",
   "metadata": {},
   "source": [
    "### **Zadanie 4 (0,5 pkt)**\n",
    "\n",
    "\n",
    "Napisz program(`count_chars(string, znak)`), który policzy ile jest zadanych znaków w podanym słowie(stringu).\n",
    "\n",
    "Przykładowo:\n",
    "\n",
    "`count_chars('ala', 'a')` daje wynik 2\n",
    "\n",
    "`count_chars('ala', 'l')` daje wynik 1\n",
    "\n",
    "Zamiast pisać `counter = counter + 1` wystarczy napisać `counter += 1`. \n"
   ]
  },
  {
   "cell_type": "code",
   "execution_count": null,
   "metadata": {
    "tags": []
   },
   "outputs": [],
   "source": [
    "def count_chars(string, znak):\n",
    "    counter = ...\n",
    "    ...\n",
    "        if znak = ...\n",
    "            ...\n",
    "    return counter"
   ]
  },
  {
   "cell_type": "code",
   "execution_count": null,
   "metadata": {
    "deletable": false,
    "editable": false
   },
   "outputs": [],
   "source": [
    "grader.check(\"Q4\")"
   ]
  },
  {
   "cell_type": "markdown",
   "metadata": {
    "id": "0ykwDXjMxtcc"
   },
   "source": [
    "### **Zadanie dla chętnych**\n",
    "\n",
    "\n",
    "Liczby Catalana (https://en.wikipedia.org/wiki/Catalan_number) to ciąg, który można wyrazić wzorem rekurencyjnym:\n",
    "![zaddom2.png](data:image/png;base64,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)\n",
    "\n",
    "Napisz funkcję, która będzie zwracała ile jest liczb parzystych wśród liczb Catalana mniejszych od zadanej liczby limit. Liczba limit będzie parametrem Twojej funkcji.\n",
    "\n",
    "Uwaga na kolejność instrukcji w pętli - może mieć znaczenie!"
   ]
  },
  {
   "cell_type": "code",
   "execution_count": null,
   "metadata": {
    "id": "Wtz26hDBSisp",
    "tags": []
   },
   "outputs": [],
   "source": [
    "def catalan(limit):\n",
    "  even = ...\n",
    "  C = ...\n",
    "  for i in range(0, limit): \n",
    "    C = ...\n",
    "    ...\n",
    "      ...\n",
    "        ...\n",
    "  return even"
   ]
  },
  {
   "cell_type": "code",
   "execution_count": null,
   "metadata": {
    "deletable": false,
    "editable": false
   },
   "outputs": [],
   "source": [
    "grader.check(\"Q5\")"
   ]
  },
  {
   "cell_type": "markdown",
   "metadata": {
    "deletable": false,
    "editable": false
   },
   "source": [
    "---\n",
    "\n",
    "To double-check your work, the cell below will rerun all of the autograder tests."
   ]
  },
  {
   "cell_type": "code",
   "execution_count": null,
   "metadata": {
    "deletable": false,
    "editable": false
   },
   "outputs": [],
   "source": [
    "grader.check_all()"
   ]
  }
 ],
 "metadata": {
  "colab": {
   "collapsed_sections": [],
   "name": "week_5.ipynb",
   "provenance": [],
   "toc_visible": true
  },
  "kernelspec": {
   "display_name": "Python 3",
   "language": "python",
   "name": "python3"
  },
  "language_info": {
   "codemirror_mode": {
    "name": "ipython",
    "version": 3
   },
   "file_extension": ".py",
   "mimetype": "text/x-python",
   "name": "python",
   "nbconvert_exporter": "python",
   "pygments_lexer": "ipython3",
   "version": "3.9.7"
  }
 },
 "nbformat": 4,
 "nbformat_minor": 1
}
