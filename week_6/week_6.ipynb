{
 "cells": [
  {
   "cell_type": "markdown",
   "id": "106cb377",
   "metadata": {},
   "source": [
    "Na początek uruchom tę komórkę, żeby przygotować autogradera:"
   ]
  },
  {
   "cell_type": "code",
   "execution_count": null,
   "id": "585825f3",
   "metadata": {},
   "outputs": [],
   "source": [
    "%%capture\n",
    "!pip install otter-grader\n",
    "\n",
    "files = \"https://github.com/mateuszwyszynski/python_basics/raw/main/week_6/tests.zip\"\n",
    "!wget -O ./tests.zip $files && unzip -o tests.zip\n",
    "\n",
    "import otter\n",
    "grader = otter.Notebook(colab = True)"
   ]
  },
  {
   "cell_type": "markdown",
   "id": "49c64d47",
   "metadata": {},
   "source": [
    "# **Strings &ndash; łańcuchy znaków**\n",
    "---\n",
    "---\n",
    "## Wprowadzenie\n",
    "\n",
    "Lańcuch znaków (ang. *string*) wprowadzamy do Pythona przy użyciu apostrofów lub cudzysłowu. Możemy to zrobić wykorzystując:\n",
    "\n",
    "1. apostrofy"
   ]
  },
  {
   "cell_type": "code",
   "execution_count": null,
   "id": "1138f2c1",
   "metadata": {},
   "outputs": [],
   "source": [
    "print('String między pojedynczymi apostrofami')"
   ]
  },
  {
   "cell_type": "markdown",
   "id": "1b6c102a",
   "metadata": {},
   "source": [
    "---\n",
    "2. cudzysłów"
   ]
  },
  {
   "cell_type": "code",
   "execution_count": null,
   "id": "83e7b7a8",
   "metadata": {},
   "outputs": [],
   "source": [
    "print(\"String w cudzysłowie\")"
   ]
  },
  {
   "cell_type": "markdown",
   "id": "d420a1ff",
   "metadata": {},
   "source": [
    "---\n",
    "3. oraz przy użyciu trzech cudzysłowów. Taki sposób pozwala tworzyć wielolinijkowe ciągi znaków:"
   ]
  },
  {
   "cell_type": "code",
   "execution_count": null,
   "id": "d28ebd25",
   "metadata": {},
   "outputs": [],
   "source": [
    "print(\"\"\"W taki sposób możemy tworzyć\n",
    "wielolinijkowe ciągi znaków\n",
    ".\"\"\")\n",
    "\n",
    "string = \"\"\" Mogliśmy też we wszystkich przypadkach\n",
    "        zdefiniować uprzednio łańcuchy\n",
    "    i dopiero później je wywołać.\n",
    "PS zwróć uwagę, że wcięcia też są częścią tych łańcuchów \"\"\"\n",
    "\n",
    "print(string)"
   ]
  },
  {
   "cell_type": "markdown",
   "id": "3548dd13",
   "metadata": {},
   "source": [
    "---\n",
    "Czy Python dostrzega jakieś różnice między tymi trzema sposobami definiowania łańcuchów znaków? "
   ]
  },
  {
   "cell_type": "code",
   "execution_count": null,
   "id": "6ce72d29",
   "metadata": {},
   "outputs": [],
   "source": [
    "string_1 = 'kotek'\n",
    "string_2 = \"kotek\"\n",
    "\n",
    "string_1 == string_2"
   ]
  },
  {
   "cell_type": "markdown",
   "id": "183ebaae",
   "metadata": {},
   "source": [
    "--- \n",
    "Widzimy, że między apostrofowym a cudzysłowowym definiowaniem różnica nie występuje, dla Pythona oba stringi są równoważne. Co w przypadku stringów z potrójnym cudzysłowem? \n",
    "\n",
    "### Zadanie 1. [0 pkt.]\n",
    "\n",
    "$\\color{red}{\\text{Uwaga! Zadanie bez gradera.}}$\n",
    "\n",
    "Zweryfikuj to samodzielnie. Nazwij odpowiednią zmienną *string_3* i sprawdź, czy zmienna *string_3* jest tożsama ze zmiennymi *string_1* i *string_2*."
   ]
  },
  {
   "cell_type": "code",
   "execution_count": null,
   "id": "f0c65dc8",
   "metadata": {},
   "outputs": [],
   "source": [
    "# Miejsce na twój kod\n",
    "\n"
   ]
  },
  {
   "cell_type": "markdown",
   "id": "9f8833d2",
   "metadata": {},
   "source": [
    "---\n",
    "Ważne jest, żeby pamiętać, że dla Pythona mała i duża litera to dwa rożne znaki:"
   ]
  },
  {
   "cell_type": "code",
   "execution_count": null,
   "id": "899186a9",
   "metadata": {},
   "outputs": [],
   "source": [
    "'Kotek' == 'kotek'"
   ]
  },
  {
   "cell_type": "markdown",
   "id": "19b12a27",
   "metadata": {},
   "source": [
    "---\n",
    "Bywa, że definiując łańcuch znaków potrzebujemy umieścić w jego wnętrzu apostrofy lub cudzysłów. Jeżeli wewnątrz łańcucha chcemy umieścić apostrofy, to do stworzenia łańcucha musimy wykorzystać cudzysłowy, a jeżeli potrzebujemy użyć wewnątrz cudzysłowu, to łańcuch powinien zostać zdefiniowany poprzez apostrofy."
   ]
  },
  {
   "cell_type": "code",
   "execution_count": null,
   "id": "c126e2ee",
   "metadata": {},
   "outputs": [],
   "source": [
    "print('Najwięcej oscarów w historii (11) otrzymały dotychczas trzy filmy: \"Ben-Hur\", \"Titanic\" oraz \"Władca Pierścieni: Powrót króla\"')\n",
    "print(\"\\nJednak tylko 'Władca Pierścieni: Powrót króla' otrzymał 100% nagród, zdobywając statuetki we wszystkich nominacjach.\")"
   ]
  },
  {
   "cell_type": "code",
   "execution_count": null,
   "id": "ec64cb82",
   "metadata": {},
   "outputs": [],
   "source": [
    "print(\"\\nCudzysłów w \"cudzysłowie wystąpić nie może\")"
   ]
  },
  {
   "cell_type": "markdown",
   "id": "9dbcd01f",
   "metadata": {},
   "source": [
    "---\n",
    "Zwróć uwagę, że w pierwszym zdaniu mamy cudzysłowy wewnątrz apostrofów, natomiast w drugim apostrofy wewnątrz cudzysłowu. Jak to działa w przypadku potrójnego cudzysłowu? \n",
    "\n",
    "### Zadanie 2. [0 pkt.]\n",
    "\n",
    "$\\color{red}{\\text{Uwaga! Zadanie bez gradera.}}$\n",
    "\n",
    "Czy możemy wewnątrz potrójnego cudzysłowu używać apostrofów bądź cudzysłowów? Zweryfikuj to samodzielnie."
   ]
  },
  {
   "cell_type": "code",
   "execution_count": null,
   "id": "7eec45e0",
   "metadata": {},
   "outputs": [],
   "source": [
    "# Miejsce na twój kod\n",
    "\n"
   ]
  },
  {
   "cell_type": "markdown",
   "id": "9603df29",
   "metadata": {},
   "source": [
    "---\n",
    "**Uwaga!**\n",
    "\n",
    "Mimo, że w poprzednich oscarowych zdaniach cudzysłów `\"` pełni dla nas identyczną funkcję jak apstrof `'`, to dla Pythona są to oczywiście dwa różne symbole."
   ]
  },
  {
   "cell_type": "code",
   "execution_count": null,
   "id": "a8ddc2f3",
   "metadata": {},
   "outputs": [],
   "source": [
    "'\"' == \"'\""
   ]
  },
  {
   "cell_type": "markdown",
   "id": "cfaaa689",
   "metadata": {},
   "source": [
    "---\n",
    "W drugim oscarowym zdaniu pojawił się symbol `\\n`, który przeniósł nas do nowej linii. Istnieje także znak `\\t`, czyli znak tabulacji. Tak działa w praktyce:"
   ]
  },
  {
   "cell_type": "code",
   "execution_count": null,
   "id": "d9ad1123",
   "metadata": {},
   "outputs": [],
   "source": [
    "string_t = \"\"\" Mogliśmy też we wszystkich przypadkach\n",
    "\\t\\tzdefiniować uprzednio łańcuchy\n",
    "\\ti dopiero później je wywołać.\n",
    "PS zwróć uwagę, że wcięcia też są częścią tych łańcuchów \"\"\"\n",
    "\n",
    "print(string_t)"
   ]
  },
  {
   "cell_type": "markdown",
   "id": "38e7f117",
   "metadata": {},
   "source": [
    "---\n",
    "Stworzyliśmy w ten sposób zmienną typu *string* zdefiniowaną uprzednio, jednak tym razem przy użyciu znaku `\\t`.\n",
    "    \n",
    "Ukośnik `\\` nazywany jest symbolem ucieczki. Może zostać przez nas wykorzystany w celu umieszczenia samego ukośnika wewnątrz łańcucha."
   ]
  },
  {
   "cell_type": "code",
   "execution_count": null,
   "id": "c0e99f7b",
   "metadata": {},
   "outputs": [],
   "source": [
    "print(\"Stosując symbol ucieczki możemy używać ukośnika wewnątrz łancucha '\\\\'.\\nSymbolu \\\\n używamy w celu przejścia do nowej linii, \\nnatomiast \\\\t do tabulacji.\")"
   ]
  },
  {
   "cell_type": "markdown",
   "id": "78fa6fec",
   "metadata": {},
   "source": [
    "---\n",
    "---\n",
    "## Operacje na stringach\n",
    "\n",
    "1. Sekwencje znaków możemy dodawać. Operacje polegającą na łączeniu wyrażeń nazywamy konkatenacją."
   ]
  },
  {
   "cell_type": "code",
   "execution_count": null,
   "id": "7ff61463",
   "metadata": {},
   "outputs": [],
   "source": [
    "x = 'Ryszard'\n",
    "y = 'Lazarski'\n",
    "x + y"
   ]
  },
  {
   "cell_type": "markdown",
   "id": "5aac7544",
   "metadata": {},
   "source": [
    "---\n",
    "2. Skoro możemy dodawać, to możemy robić to wielokrotnie skrócając operację do mnożenia."
   ]
  },
  {
   "cell_type": "code",
   "execution_count": null,
   "id": "891f4c96",
   "metadata": {},
   "outputs": [],
   "source": [
    "y * 50"
   ]
  },
  {
   "cell_type": "markdown",
   "id": "84146210",
   "metadata": {},
   "source": [
    "---\n",
    "3. Co w sytuacji, gdy mamy do czynienia z obiektami innego typu? Aby przekonwertować zmienną do typu string, wystarczy użyć funkcji **str()**, umieszczając jako parametr obiekt innego typu."
   ]
  },
  {
   "cell_type": "code",
   "execution_count": null,
   "id": "1e4085d0",
   "metadata": {},
   "outputs": [],
   "source": [
    "e = 2.72\n",
    "\n",
    "print(\"Liczba Eulera (e) w przybliżeniu do drugiego miejsca po przecinku wynosi:\" + str(e))\n",
    "print(\"Liczba Eulera (e) w przybliżeniu do drugiego miejsca po przecinku wynosi: \" + str(e))"
   ]
  },
  {
   "cell_type": "markdown",
   "id": "cbc7bf30",
   "metadata": {},
   "source": [
    "---\n",
    "Różnica między oboma zdaniami jest taka, że po wyświetleniu pierwszego łańcucha przypomniało mi się, że jeżeli spacji w łańcuchu nie umieścimy, to nie pojawi się znikąd. Jeżeli typ zmiennej nie zostałby przez nas zredefiniowany, otrzymalibyśmy stosowny komunikat o błędzie:"
   ]
  },
  {
   "cell_type": "code",
   "execution_count": null,
   "id": "564ac6ab",
   "metadata": {},
   "outputs": [],
   "source": [
    "string = \"Liczba Eulera (e) w przybliżeniu do drugiego miejsca po przecinku wynosi:\" \n",
    "\n",
    "print(string + e)"
   ]
  },
  {
   "cell_type": "markdown",
   "id": "471280e0",
   "metadata": {},
   "source": [
    "---\n",
    "Chcąc cofnąć konwersję, możemy użyć funkcji **float()**."
   ]
  },
  {
   "cell_type": "code",
   "execution_count": null,
   "id": "7a13c9e8",
   "metadata": {},
   "outputs": [],
   "source": [
    "e = str(2.72)\n",
    "e"
   ]
  },
  {
   "cell_type": "code",
   "execution_count": null,
   "id": "ff4e3c00",
   "metadata": {},
   "outputs": [],
   "source": [
    "e = float(e)\n",
    "e"
   ]
  },
  {
   "cell_type": "markdown",
   "id": "c743f302",
   "metadata": {},
   "source": [
    "---\n",
    "**Uwaga!** Python dopuszcza konwersję stringów, które oprócz cyfr składają się także ze spacji, na liczby."
   ]
  },
  {
   "cell_type": "code",
   "execution_count": null,
   "id": "2e6504c6",
   "metadata": {},
   "outputs": [],
   "source": [
    "int('  123 ')"
   ]
  },
  {
   "cell_type": "code",
   "execution_count": null,
   "id": "4a4c4afe",
   "metadata": {},
   "outputs": [],
   "source": [
    "float(' 1.234           ')"
   ]
  },
  {
   "cell_type": "markdown",
   "id": "d7ee2faf",
   "metadata": {},
   "source": [
    "---\n",
    "Jednak oprócz spacji na początku i na końcu, spacje nie mogą występować między cyframi:"
   ]
  },
  {
   "cell_type": "code",
   "execution_count": null,
   "id": "c417ffad",
   "metadata": {},
   "outputs": [],
   "source": [
    "float(' 1.23 4')"
   ]
  },
  {
   "cell_type": "markdown",
   "id": "07487e8b",
   "metadata": {},
   "source": [
    "---\n",
    "Z kolei, jeśli mamy do czynienia z ułamkiem dziesiętnym, Python nie potrzebuje zera poprzedzającego kropki:"
   ]
  },
  {
   "cell_type": "code",
   "execution_count": null,
   "id": "4826f19e",
   "metadata": {},
   "outputs": [],
   "source": [
    "float('.234')"
   ]
  },
  {
   "cell_type": "markdown",
   "id": "704431cb",
   "metadata": {},
   "source": [
    "---\n",
    "Należy jednak pamiętac, że stosuje notację amerykańską, stąd nie możemy używać przecinka, chcąc zapisać część dziesiętną:"
   ]
  },
  {
   "cell_type": "code",
   "execution_count": null,
   "id": "9b4df489",
   "metadata": {},
   "outputs": [],
   "source": [
    "float(',234')"
   ]
  },
  {
   "cell_type": "markdown",
   "id": "779b39e3",
   "metadata": {},
   "source": [
    "---\n",
    "---\n",
    "## Funkcja **print()** i koncentracja stringów\n",
    "\n",
    "Jak już dowiedzieliśmy się w poprzednich tygodniach, funkcja `print()` jest w stanie łączyć argumenty przy użyciu odpowiedniego separatora. Lącząc nie trzeba przekształcać danej zmiennej do typu string! Python sam o to zadba. Poniżej krótkie przypomnienie:"
   ]
  },
  {
   "cell_type": "code",
   "execution_count": null,
   "id": "9e2fded4",
   "metadata": {},
   "outputs": [],
   "source": [
    "print(string, e)"
   ]
  },
  {
   "cell_type": "markdown",
   "id": "61642fa4",
   "metadata": {},
   "source": [
    "---\n",
    "W tym przypadku o separatorze pamiętać nie musieliśmy."
   ]
  },
  {
   "cell_type": "code",
   "execution_count": null,
   "id": "70004f93",
   "metadata": {},
   "outputs": [],
   "source": [
    "print(string, e, sep ='')\n",
    "print(string, e, sep ='\\n')\n",
    "print(string, e, sep ='\\t')"
   ]
  },
  {
   "cell_type": "markdown",
   "id": "5eba6ac4",
   "metadata": {},
   "source": [
    "---\n",
    "Oczywiście mogliśmy dodać do funkcji kilka argumentów. Jednak w sytuacjach, gdy liczb lub innych obiektów jest dużo, dużo trudniej jest w ten sposób konstruować napisy, dlatego wymyślono też inne metody. Poniżej przedstawiny w jaki sposób przy użyciu funkcji `.format()` możemy koncentrować stringi z obiektami innego typu, natomiast w sekcji **Dodatek** można znaleźć informacje jak wykorzystać w tym celu inne metody.\n",
    "\n",
    "Przykład na użycie metody `.format()`:"
   ]
  },
  {
   "cell_type": "code",
   "execution_count": null,
   "id": "0277b520",
   "metadata": {},
   "outputs": [],
   "source": [
    "tekst = \"Liczba turystów, którzy odwiedzili Tatrzański Park Narodowy w latach 2017-2021 (w tysiącach):\"\n",
    "rok_2021 = 4600\n",
    "rok_2020 = 3302\n",
    "rok_2019 = 3758\n",
    "rok_2018 = 3783\n",
    "rok_2017 = 3594"
   ]
  },
  {
   "cell_type": "markdown",
   "id": "4b0eae36",
   "metadata": {},
   "source": [
    "a) Pierwszy sposób:"
   ]
  },
  {
   "cell_type": "code",
   "execution_count": null,
   "id": "073ec8d7",
   "metadata": {},
   "outputs": [],
   "source": [
    "print(tekst, \"2021: {}\".format(rok_2021), \"2020: {}\".format(rok_2020), \n",
    "      \"2019: {}\".format(rok_2019), \"2018: {}\".format(rok_2018), \n",
    "      \"2017: {}\".format(rok_2017), sep = '\\n')"
   ]
  },
  {
   "cell_type": "markdown",
   "id": "10cf7a48",
   "metadata": {},
   "source": [
    "b) Drugi sposób:"
   ]
  },
  {
   "cell_type": "code",
   "execution_count": null,
   "id": "8457fe1d",
   "metadata": {},
   "outputs": [],
   "source": [
    "print(tekst + \"\\n\" + \"2021: {}\\n2020: {}\\n2019: {}\\n2018: {}\\n2017: {}\".format(rok_2021, rok_2020, rok_2019, rok_2018, rok_2017))"
   ]
  },
  {
   "cell_type": "markdown",
   "id": "a223feb0",
   "metadata": {},
   "source": [
    "c) Trzeci:"
   ]
  },
  {
   "cell_type": "code",
   "execution_count": null,
   "id": "7b2340cf",
   "metadata": {},
   "outputs": [],
   "source": [
    "print(tekst, \"2021: {}\\n2020: {}\\n2019: {}\\n2018: {}\\n2017: {}\".format(rok_2021, rok_2020, rok_2019, rok_2018, rok_2017), sep = '\\n')"
   ]
  },
  {
   "cell_type": "markdown",
   "id": "551a04e5",
   "metadata": {},
   "source": [
    "---\n",
    "Oczywiście sposobów jest więcej. Powyższa metoda polega na dodawaniu nawiasów klamrowych `{}` w miejscach, w których chcemy wydrukować wartości danych zmiennych. Następnie w metodzie `.format()` kolejno te zmienne wypisujemy. Oprócz tej funkcji istnieją także metody wykorzystujące *f--strings* oraz wykorzystujące operator `%`. Więcej informacji na ten temat można znaleźć w sekcji **Dodatek** na końcu notebooka."
   ]
  },
  {
   "cell_type": "markdown",
   "id": "a404efcf",
   "metadata": {},
   "source": [
    "---\n",
    "Przećwiczmy powyższą metodę.\n",
    "\n",
    "### Zadanie 3. [0 pkt.]\n",
    "\n",
    "Zdefiniuj zmienną *information_about_patron*, w której przechowywane będą informacje na temat patrona naszej uczelni z wikipedii https://pl.wikipedia.org/wiki/Ryszard_%C5%81azarski. Definiowanie powinno zostać przeprowadzone przy użyciu metody `.format()`, wykorzystując f-string lub operator `%` (z sekcji **Dodatek**) i powinien być postaci:\n",
    "\n",
    "Imie:\n",
    "\n",
    "Nazwisko:\n",
    "\n",
    "Miejsce urodzenia:\n",
    "\n",
    "Wiek:\n",
    "\n",
    "Zawod:\n",
    "\n",
    "Przypisz poniższym zmiennym odpowiednie informacje i stwórz przy ich użyciu zmienną *information_about_patron*.\n",
    "\n",
    "**Uwaga!** Nie używaj polskich znaków!"
   ]
  },
  {
   "cell_type": "code",
   "execution_count": null,
   "id": "da78559b",
   "metadata": {
    "tags": []
   },
   "outputs": [],
   "source": [
    "name = ...\n",
    "surname = ...\n",
    "place_of_birth = ...\n",
    "age = ...\n",
    "occupation = ...\n",
    "\n",
    "information_about_patron = ..."
   ]
  },
  {
   "cell_type": "code",
   "execution_count": null,
   "id": "03cac8c5",
   "metadata": {
    "tags": []
   },
   "outputs": [],
   "source": [
    "# Tutaj możesz przetestować rozwiązanie\n",
    "\n",
    "print(information_about_patron)"
   ]
  },
  {
   "cell_type": "code",
   "execution_count": null,
   "id": "22559c0a",
   "metadata": {
    "deletable": false,
    "editable": false
   },
   "outputs": [],
   "source": [
    "grader.check(\"Q3\")"
   ]
  },
  {
   "cell_type": "markdown",
   "id": "47e6100f",
   "metadata": {},
   "source": [
    "---\n",
    "---\n",
    "## Indeksowanie i wycinki stringów\n",
    "\n",
    "Jak już wspomnieliśmy, string to łańcuch, sekwencja znaków. Skoro tak, to można się spodziewać, że jesteśmy w stanie wywołać znak z konkretnego miejsca takiego łańcucha."
   ]
  },
  {
   "cell_type": "code",
   "execution_count": null,
   "id": "d8cb5e76",
   "metadata": {},
   "outputs": [],
   "source": [
    "movie = \"interstellar\"\n",
    "letter = movie[1]"
   ]
  },
  {
   "cell_type": "markdown",
   "id": "4be38a7a",
   "metadata": {},
   "source": [
    "---\n",
    "W powyższej komórce najpierw zapisaliśmy łańcuch w zmiennej *movie*, a następnie literę o indeksie 1 w zmiennej *letter*. Wywołajmy ją."
   ]
  },
  {
   "cell_type": "code",
   "execution_count": null,
   "id": "21b55eba",
   "metadata": {},
   "outputs": [],
   "source": [
    "letter"
   ]
  },
  {
   "cell_type": "markdown",
   "id": "1371f28d",
   "metadata": {},
   "source": [
    "---\n",
    "Jak widać, być może niezgodnie z przypuszczeniami, znakiem o indeskie 1 jest litera *n*, a nie *i*. Tę regułę należy zapamiętać &ndash; w Pythonie indeksowanie zaczyna się od 0, a nie 1!"
   ]
  },
  {
   "cell_type": "code",
   "execution_count": null,
   "id": "c4bd4a27",
   "metadata": {},
   "outputs": [],
   "source": [
    "first_letter = movie[0]\n",
    "first_letter"
   ]
  },
  {
   "cell_type": "markdown",
   "id": "613c1e1a",
   "metadata": {},
   "source": [
    "W celu podkreślena, indeksowanie łańcuchów wygląda następująco:\n",
    "\n",
    "| indeksy | 0 | 1 | 2 | 3 | 4 | 5 | 6 | 7 | 8 | 9 | 10 | 11 |\n",
    "| --- | --- | --- | --- | --- | --- | --- | --- | --- | --- | --- | --- | --- |\n",
    "| litery | i | n | t | e | r | s | t | e | l | l | a | r |"
   ]
  },
  {
   "cell_type": "markdown",
   "id": "5f41090a",
   "metadata": {},
   "source": [
    "---\n",
    "Jeżeli chcielibyśmy wyciąć część łańcucha, możemy w indeksie używać dwukropków. Znak z miejsca poprzedzającego dwukropek będzie uwzględniony, znak po dwukropku już nie. Przykłady użycia:"
   ]
  },
  {
   "cell_type": "code",
   "execution_count": null,
   "id": "f08c58ec",
   "metadata": {},
   "outputs": [],
   "source": [
    "print(\"Lańcuch od trzeciego znaku: \", movie[2:])\n",
    "print(\"Lańcuch do trzeciego znaku wyłącznie: \", movie[:2])\n",
    "print(\"Lańcuch między 4 a 8 znakiem: \", movie[3:7])\n",
    "print(\"Słowo z wyłączniem znaku ostatniego \", movie[:-1])\n",
    "print(\"Znaki ze słowa z miejsc o parzystych indeksach \", movie[::2])"
   ]
  },
  {
   "cell_type": "markdown",
   "id": "0dfc92df",
   "metadata": {},
   "source": [
    "---\n",
    "Jak widzimy w przedostatniej linijce, indeksy mają swoje ujemne odpowiedniki. Aby wyznaczyć ostatni znak łańcucha, wystarczy w indeksie wpisać -1, a jeżeli chcielibyśmy zorientować się, jaki znak występuje na przedostatnim miejscu, użylibyśmy -2. Nie musimy na palcach liczyć znaków ani uprzednio wyznaczać długości łańcucha. Jak widać jesteśmy też w stanie okreslić krok, aby np. wyciągnąć tylko znaki, które znajdują się na parzystych miejscach. Konwencja jest następująca: **str[start:end[:step]]**. Umieszczenie **step** w drugim prostokątnym nawiasie oznacza, że jest to argument opcjonalny.\n",
    "\n",
    "**Uwaga!** Stringów nie da się nadpisywać, wykorzystując w tym celu indeksy. Gdybyśmy chcieli podstawić za pierwszą literę łancucha *movie* jakąś inną, Python by nam na to nie pozwolił:"
   ]
  },
  {
   "cell_type": "code",
   "execution_count": null,
   "id": "48cd7cbd",
   "metadata": {},
   "outputs": [],
   "source": [
    "movie[0] = 'p'"
   ]
  },
  {
   "cell_type": "markdown",
   "id": "a22d25e3",
   "metadata": {},
   "source": [
    "---\n",
    "Aby przekształcić w ten sposób łańcuch, musimy do nowej litery dodać łańcuch *movie* bez pierwszej:"
   ]
  },
  {
   "cell_type": "code",
   "execution_count": null,
   "id": "9022d61d",
   "metadata": {},
   "outputs": [],
   "source": [
    "'p' + movie[1:]"
   ]
  },
  {
   "cell_type": "markdown",
   "id": "08117286",
   "metadata": {},
   "source": [
    "---\n",
    "---\n",
    "## Iterowanie po stringach\n",
    "\n",
    "Ze względu na fakt, że stringi są łańcuchami, możemy iterować po znakach w nich występujących. Poniżej znajduje się kod, który wykorzystuje pętle **while** w celu przeliterowania naszego słowa. W kolejnej komórce, wykorzystując pętle **for**, wykorzystaliśmy możliwość iterowania bezpośrednio po znakach."
   ]
  },
  {
   "cell_type": "code",
   "execution_count": null,
   "id": "ac96d111",
   "metadata": {},
   "outputs": [],
   "source": [
    "index = 0\n",
    "while index < len(movie):\n",
    "    print(movie[index])\n",
    "    index += 1"
   ]
  },
  {
   "cell_type": "code",
   "execution_count": null,
   "id": "4de409cc",
   "metadata": {},
   "outputs": [],
   "source": [
    "for letter in movie:\n",
    "    print(letter)"
   ]
  },
  {
   "cell_type": "markdown",
   "id": "f0853d9f",
   "metadata": {},
   "source": [
    "### Zadanie 4. [0 pkt.]\n",
    "\n",
    "Napisz funkcję o nazwie **length**, która będzie zwracać długość wprowadzanego łańcucha znaków. Wykorzystaj w tym celu pętle. Na przykład: **length('kotek') = 5**."
   ]
  },
  {
   "cell_type": "code",
   "execution_count": null,
   "id": "33c54e1e",
   "metadata": {
    "tags": []
   },
   "outputs": [],
   "source": [
    "def length(string):\n",
    "    ..."
   ]
  },
  {
   "cell_type": "code",
   "execution_count": null,
   "id": "3047ff32",
   "metadata": {
    "tags": []
   },
   "outputs": [],
   "source": [
    "# Tutaj możesz przetestować swoje rozwiązanie\n",
    "\n",
    "print(length(movie))\n",
    "print(length('Hello world!'))"
   ]
  },
  {
   "cell_type": "code",
   "execution_count": null,
   "id": "a3ec3459",
   "metadata": {
    "deletable": false,
    "editable": false
   },
   "outputs": [],
   "source": [
    "grader.check(\"Q4\")"
   ]
  },
  {
   "cell_type": "markdown",
   "id": "07069553",
   "metadata": {},
   "source": [
    "---\n",
    "Spróbujmy teraz przeliterować słowo od tyłu. Poniżej przedstawimy w jaki sposób przeliterować słowo od tyłu przy użyciu **for**, a następnie poprosimy Ciebie o napisanie kodu wykonującego identyczną operację, wykorzystując jednak pętlę **while**."
   ]
  },
  {
   "cell_type": "code",
   "execution_count": null,
   "id": "42e4b042",
   "metadata": {},
   "outputs": [],
   "source": [
    "word_length = len(movie)\n",
    "for index in range(word_length):\n",
    "    print(movie[- index - 1])"
   ]
  },
  {
   "cell_type": "markdown",
   "id": "035c28fa",
   "metadata": {},
   "source": [
    "### Zadanie 5. [0 pkt.]\n",
    "\n",
    "$\\color{red}{\\text{Uwaga! Zadanie bez gradera.}}$\n",
    "\n",
    "Napisz program, który będzie literował słowo od tyłu. Użyj tym razem pętli *while*."
   ]
  },
  {
   "cell_type": "code",
   "execution_count": null,
   "id": "035ee3f6",
   "metadata": {},
   "outputs": [],
   "source": [
    "# Miejsce na twój kod\n",
    "\n"
   ]
  },
  {
   "cell_type": "markdown",
   "id": "c4ce9a2f",
   "metadata": {},
   "source": [
    "---\n",
    "Gdybyśmy postanowili zapisać słowo od tyłu, moglibyśmy zrobić to następująco:"
   ]
  },
  {
   "cell_type": "code",
   "execution_count": null,
   "id": "4da7b12d",
   "metadata": {},
   "outputs": [],
   "source": [
    "word_length = len(movie)\n",
    "word_backwards = ''\n",
    "for index in range(word_length):\n",
    "    word_backwards += movie[- index - 1]\n",
    "print(word_backwards)"
   ]
  },
  {
   "cell_type": "markdown",
   "id": "c93dcb69",
   "metadata": {},
   "source": [
    "### Zadanie 6. [0 pkt.]\n",
    "\n",
    "Napisz funkcję o nazwie **word_backwards**, która będzie zwracać słowo od tyłu. Dla przykładu: **word_backwards('kotek') = 'ketok'**. Wykorzystaj w tym celu pętlę *while*."
   ]
  },
  {
   "cell_type": "code",
   "execution_count": null,
   "id": "fc60ca80",
   "metadata": {
    "tags": []
   },
   "outputs": [],
   "source": [
    "def word_backwards(string):\n",
    "    ..."
   ]
  },
  {
   "cell_type": "code",
   "execution_count": null,
   "id": "b54bb8c3",
   "metadata": {
    "tags": []
   },
   "outputs": [],
   "source": [
    "# Tutaj możesz przetestować swoje rozwiązanie\n",
    "\n",
    "print(word_backwards(movie))\n",
    "print(word_backwards('Hello world!'))"
   ]
  },
  {
   "cell_type": "code",
   "execution_count": null,
   "id": "dd8694d7",
   "metadata": {
    "deletable": false,
    "editable": false
   },
   "outputs": [],
   "source": [
    "grader.check(\"Q6\")"
   ]
  },
  {
   "cell_type": "markdown",
   "id": "dbff9d97",
   "metadata": {},
   "source": [
    "---\n",
    "Możemy jednak postąpić nieco inaczej, wykorzystując indeksowanie z krokiem:"
   ]
  },
  {
   "cell_type": "code",
   "execution_count": null,
   "id": "d19315b2",
   "metadata": {},
   "outputs": [],
   "source": [
    "movie[::-1]"
   ]
  },
  {
   "cell_type": "markdown",
   "id": "4e4bebb7",
   "metadata": {},
   "source": [
    "---\n",
    "Gdybyśmy byli zainteresowani nie tyle długością łańcucha, co liczbą wystąpień konkretnego elementu, to moglibyśmy napisać funkcję, która zliczać nam będzie liczbę wystąpień elementu **s** w łańcuchu **string**."
   ]
  },
  {
   "cell_type": "code",
   "execution_count": null,
   "id": "727eb916",
   "metadata": {},
   "outputs": [],
   "source": [
    "def occurences(string, s):\n",
    "    count = 0\n",
    "    for letter in string:\n",
    "        if s == letter:\n",
    "            count += 1\n",
    "    return count"
   ]
  },
  {
   "cell_type": "markdown",
   "id": "a16b670c",
   "metadata": {},
   "source": [
    "---\n",
    "Zweryfikujmy jej działanie:"
   ]
  },
  {
   "cell_type": "code",
   "execution_count": null,
   "id": "8732642b",
   "metadata": {},
   "outputs": [],
   "source": [
    "occurences('interstellar', 'l')"
   ]
  },
  {
   "cell_type": "markdown",
   "id": "485ea025",
   "metadata": {},
   "source": [
    "---\n",
    "---\n",
    "## Operacje logiczne na stringach\n",
    "\n",
    "Gdybyśmy chcieli tylko sprawdzić, czy dany znak w łańcuchu występuje albo nie występuje, moglibyśmy użyć operatora **in** oraz **not in**.\n",
    "\n",
    "Czy znak `l` występuje w słowie `interstellar`?"
   ]
  },
  {
   "cell_type": "code",
   "execution_count": null,
   "id": "f96ebd61",
   "metadata": {},
   "outputs": [],
   "source": [
    "movie = 'interstellar'\n",
    "print('l' in movie)"
   ]
  },
  {
   "cell_type": "markdown",
   "id": "278879cc",
   "metadata": {},
   "source": [
    "---\n",
    "Czy znak `i` nie występuje w tym słowie?"
   ]
  },
  {
   "cell_type": "code",
   "execution_count": null,
   "id": "6a294fcf",
   "metadata": {},
   "outputs": [],
   "source": [
    "print('i' not in movie)"
   ]
  },
  {
   "cell_type": "markdown",
   "id": "939d380c",
   "metadata": {},
   "source": [
    "---\n",
    "Czy znak `x` nie występuje w tym słowie?"
   ]
  },
  {
   "cell_type": "code",
   "execution_count": null,
   "id": "e3893f36",
   "metadata": {},
   "outputs": [],
   "source": [
    "print('x' not in movie)"
   ]
  },
  {
   "cell_type": "markdown",
   "id": "df1f476b",
   "metadata": {},
   "source": [
    "---\n",
    "W ciekawy sposób możemy wykorzystywać znaki nierówności, podpytując Pythona, który z łańcuchów jest pierwszy alfabetycznie. W taki sposób możemy zapytać się, czy litera `a` występuje w alfabecie przed `b`:"
   ]
  },
  {
   "cell_type": "code",
   "execution_count": null,
   "id": "ba98dc1b",
   "metadata": {},
   "outputs": [],
   "source": [
    "'a' < 'b'"
   ]
  },
  {
   "cell_type": "markdown",
   "id": "9a688270",
   "metadata": {},
   "source": [
    "---\n",
    "Należy jednak podkreślić, że konwencja jest taka, że duże litery występują w alfabecie przed swoimi mniejszymi odpowiednikami, dlatego to `B` występuje przed `a`:"
   ]
  },
  {
   "cell_type": "code",
   "execution_count": null,
   "id": "e1e1f651",
   "metadata": {},
   "outputs": [],
   "source": [
    "'a' < 'B'"
   ]
  },
  {
   "cell_type": "markdown",
   "id": "6f4ace84",
   "metadata": {},
   "source": [
    "---\n",
    "---\n",
    "## Wbudowane funkcje i metody dla stringów\n",
    "\n",
    "Oczywiście, aby wyznaczyć długość łańcucha, nie musieliśmy sami definiować funkcji wykonującej tę operację. Python posiada dużo wbudowanych funkcji, których wykorzystywanie zalecamy, ponieważ są napisane w zoptymalizowany sposób, obciążając naszą pamięć w możliwie najmniejszym stopniu. Chcąc poznać długość stringa, możemy po prostu użyć funkcji **len()**, która bardzo prosta w użyciu:"
   ]
  },
  {
   "cell_type": "code",
   "execution_count": null,
   "id": "3eab83d0",
   "metadata": {},
   "outputs": [],
   "source": [
    "movie = 'the french dispatch'\n",
    "len(movie)"
   ]
  },
  {
   "cell_type": "markdown",
   "id": "9dbb83fb",
   "metadata": {},
   "source": [
    "---\n",
    "Gdybyśmy jednak chcieli wyznaczyć ostatni znak wykorzystując długość łańcucha, nie moglibyśmy tego zrobić tak:"
   ]
  },
  {
   "cell_type": "code",
   "execution_count": null,
   "id": "a006396b",
   "metadata": {},
   "outputs": [],
   "source": [
    "movie[len(movie)]"
   ]
  },
  {
   "cell_type": "markdown",
   "id": "c2e6fcd6",
   "metadata": {},
   "source": [
    "---\n",
    "Pytanie brzmi, dlaczego? Spróbuj naprawić poniżej powyższy kod, tak aby przy użyciu funkcji **len()** jednak znak znajdujący się na ostatnim miejscu wyznaczyć."
   ]
  },
  {
   "cell_type": "code",
   "execution_count": null,
   "id": "746648c3",
   "metadata": {},
   "outputs": [],
   "source": [
    "#Miejsce na twój kod\n",
    "\n"
   ]
  },
  {
   "cell_type": "markdown",
   "id": "771b69e6",
   "metadata": {},
   "source": [
    "---\n",
    "Tak jak w przypadku funkcji *length* tak i w przypadku *occurences*, nie trzeba było żadnej funkcji definiować, wystarczyło wykorzystać metodę *.count()*."
   ]
  },
  {
   "cell_type": "code",
   "execution_count": null,
   "id": "aaeacaa0",
   "metadata": {},
   "outputs": [],
   "source": [
    "movie = 'niewinni czarodzieje'\n",
    "movie.count('n')"
   ]
  },
  {
   "cell_type": "markdown",
   "id": "c629c787",
   "metadata": {},
   "source": [
    "---\n",
    "Więcej informacji na temat metod można znaleźć w Dodatku. **Uwaga!** Część z nich może się przydać do rozwiązania zadań punktowanych."
   ]
  },
  {
   "cell_type": "markdown",
   "id": "959d116a",
   "metadata": {},
   "source": [
    "---\n",
    "---\n",
    "# Zadania domowe\n",
    "\n",
    "Teoria za nami, przejdziemy teraz do zadań punktowanych. W sekcji `Dodatek` mamy rozszerzone wersje poniższych zadań. Jeżeli rozwiążesz rozszerzone, to możesz je także wkleić jako rozwiązania poniższych, wszystko będzie działać jak powinno. Grader w przypadku rozszerzonych wersji oczywiście sprawdza kilka przypadków więcej, weryfikując, czy rzeczywiście dodatkowe warunki zostały uwzględnione."
   ]
  },
  {
   "cell_type": "markdown",
   "id": "639c6d9e",
   "metadata": {},
   "source": [
    "### **Zadanie 7. [0.5 pkt]**\n",
    "\n",
    "Arkusz kalkulacyjny Excel ma opcję zapisania pliku w postaci csv (comma-separated values). Gdybyśmy dysponowali tabelą, w której przechowywalibyśmy informacje na temat imienia, nazwiska oraz wieku danej osoby, na przykład taką:\n",
    "\n",
    "| Imię | Nazwisko | Wiek |\n",
    "| --- | --- | --- |\n",
    "| Jan | Kowalski | 24 |\n",
    "| Maria | Nowak | 30 |\n",
    "| Stefan | Banach | 130 |\n",
    "\n",
    "i zapisalibyśmy taki plik przy użyciu rozszerzenia .csv, to otrzymalibyśmy w rezultacie plik o następującej strukturze:\n",
    "\n",
    "Imię, Nazwsiko, Wiek\n",
    "\n",
    "Jan,Kowalski,24\n",
    "\n",
    "Maria,Nowak,30\n",
    "\n",
    "Stefan,Banach,130\n",
    "\n",
    "Pliki w postaci formatu .csv są bardzo wygodne do przechowyania danych, ponieważ nie zajmują tak dużo miejsca jak np. xslx i są dużo uniwersalniejsze.\n",
    "\n",
    "W zadaniu rozważamy łańcuchy znaków w postaci imię,nazwisko,wiek. Napisz funkcję o nazwie *age_from_string*, która zwracać będzie wiek w typie int z łańcuchów takiej postaci, np. **age_from_string('Stefan,Banach,130') = 130**.\n",
    "\n",
    "**Uwaga!** Przydatne mogą okazać się następujące metody: **.split()** wytłumaczone w Dodatek: Metody na końcu notebooka. Powodzenia!"
   ]
  },
  {
   "cell_type": "code",
   "execution_count": null,
   "id": "e3915c4a",
   "metadata": {
    "tags": []
   },
   "outputs": [],
   "source": [
    "def age_from_string(string):\n",
    "    ..."
   ]
  },
  {
   "cell_type": "code",
   "execution_count": null,
   "id": "e145923b",
   "metadata": {
    "tags": []
   },
   "outputs": [],
   "source": [
    "# Tutaj możesz testować swoje rozwiązanie\n",
    "\n",
    "print(age_from_string('Stefan,Banach,130'))\n",
    "print('\\n')\n",
    "print(age_from_string('Maria,Nowak,24'))\n",
    "print('\\n')"
   ]
  },
  {
   "cell_type": "code",
   "execution_count": null,
   "id": "5fa0412c",
   "metadata": {
    "deletable": false,
    "editable": false
   },
   "outputs": [],
   "source": [
    "grader.check(\"Q7\")"
   ]
  },
  {
   "cell_type": "markdown",
   "id": "16a57898",
   "metadata": {},
   "source": [
    "### **Zadanie 8. [1.5 pkt]**\n",
    "\n",
    "Napisz funkcję o nazwie **pesel_interpretation**, która będzie analizowała numemry PESEL. Prace nad numerami PESEL (Powszechny Elektroniczny System Ewidencji Ludności) rozpoczęły się w roku 1972. Są to 11-cyfrowe identyfikatory numeryczne jednoznacznie identyfikujące określoną osobę fizyczną (więcej informacji pod linkiem: https://pl.wikipedia.org/wiki/PESEL). Jest kilka zasad ich tworzenia, my jednak ograniczymy się do części. Przede wszystkim ograniczymy się do numerów PESEL osób, które urodziły się w stuleciu 1900-1999. Najistotniejszą z zasad, którą należy uwzględnić, jest wyznaczenie następującej liczby kontrolnej:\n",
    "\n",
    "$$\n",
    "c_1\\cdot1 + c_2\\cdot3 + c_3\\cdot7 + c_4\\cdot9 + c_5\\cdot1 + c_6\\cdot3 + c_7\\cdot7 + c_8\\cdot9 + c_9\\cdot1+c_{10}\\cdot3+c_{11}\\cdot1,\n",
    "$$\n",
    "\n",
    "gdzie:\n",
    "\n",
    "| $2$ | $6$ | $0$ | $3$ | $0$ | $8$ | $3$ | $6$ | $4$ | $7$ | $9$ |\n",
    "| --- | --- | --- | --- | --- | --- | --- | --- | --- | --- | --- |\n",
    "| $c_1$ | $c_2$ | $c_3$ | $c_4$ | $c_5$ | $c_6$ | $c_7$ | $c_8$ | $c_9$ | $c_{10}$ | $c_{11}$ |\n",
    "\n",
    "i zweryfikowanie, czy ostatnia cyfra tej liczby jest zerem. Możemy to zrobić sprawdzając, czy liczba dzieli się przez 10 bez reszty lub zmieniając typ wyniku na zmienną string i wyznaczając ostatnią cyfrę. W rozważanym dalej przypadku PESELu `26030836479` liczba kontrolna jest równa: 180, więc dzieli się przez 10. Na datę sklada się 6 cyfr. Pesel zaczynający się na `260308...` koduje nam 8 marca 1926, a więc pierwsze dwie cyfry są rokiem, kolejne miesiącem i ostatnie dniem. Argumentem tej funkcji powinien być PESEL zapisany jako typ string. Funkcja ma zwracać następujące komunikaty dla danych parametrów:\n",
    "\n",
    "1. Jeżeli warunek kontrolny nie będzie spełniony funkcja zwróci `PESEL niepoprawny`,\n",
    "2. Jeżeli wprowadzony zostanie prawidłowo, funkcja zwróci stringa z informacjami: Rok urodzenia, Miesiąc, Dzień, Płeć. Na przykład dla numeru `26030836479` powinniśmy otrzymać:\n",
    "\n",
    "     Rok urodzenia: 1926\n",
    "     \n",
    "     Miesiac: 3\n",
    "     \n",
    "     Dzien: 8\n",
    "     \n",
    "     \n",
    "Na stronie https://pesel.cstudios.pl/o-generatorze/generator-on-line możesz generować prawidłowo skonstruowane PESELe do testów. Powodzenia!"
   ]
  },
  {
   "cell_type": "code",
   "execution_count": null,
   "id": "4e9b6721",
   "metadata": {
    "tags": []
   },
   "outputs": [],
   "source": [
    "def pesel_interpretation(pesel):\n",
    "    ..."
   ]
  },
  {
   "cell_type": "code",
   "execution_count": null,
   "id": "86e36c6b",
   "metadata": {
    "tags": []
   },
   "outputs": [],
   "source": [
    "# Tutaj możesz testować swoje rozwiązanie\n",
    "\n",
    "print(pesel_interpretation('26030836479'))\n",
    "print('\\n')\n",
    "print(pesel_interpretation('26033836475'))"
   ]
  },
  {
   "cell_type": "code",
   "execution_count": null,
   "id": "5f4a5141",
   "metadata": {
    "deletable": false,
    "editable": false
   },
   "outputs": [],
   "source": [
    "grader.check(\"Q8\")"
   ]
  },
  {
   "cell_type": "markdown",
   "id": "f9841ea8",
   "metadata": {},
   "source": [
    "---\n",
    "---\n",
    "# Dodatek\n",
    "\n",
    "## Koncentracja stringów innymi metodami\n",
    "\n",
    "1. **f-strings**"
   ]
  },
  {
   "cell_type": "code",
   "execution_count": null,
   "id": "8b154e93",
   "metadata": {},
   "outputs": [],
   "source": [
    "tekst = \"Liczba turystów, którzy odwiedzili Tatrzański Park Narodowy w latach 2017-2021 (w tysiącach):\"\n",
    "rok_2021 = 4600\n",
    "rok_2020 = 3302\n",
    "rok_2019 = 3758\n",
    "rok_2018 = 3783\n",
    "rok_2017 = 3594"
   ]
  },
  {
   "cell_type": "code",
   "execution_count": null,
   "id": "6af26b84",
   "metadata": {},
   "outputs": [],
   "source": [
    "print(tekst, f\"2021: {rok_2021}\", f\"2020: {rok_2020}\", f\"2019: {rok_2019}\", \n",
    "      f\"2018: {rok_2018}\", f\"2017: {rok_2017}\", sep = '\\n')"
   ]
  },
  {
   "cell_type": "markdown",
   "id": "73838e04",
   "metadata": {},
   "source": [
    "---\n",
    "f-strings pomagają polepszyć przejrzystość kodu. Użycie litery **f** w poprzedniej komórce było informacją dla Pythona, że mamy do czynienia z tym rodzajem łańcucha. W takim obiekcie w nawiasach klamrowych `{}` dodajemy nazwy zmiennych, których wartości chcemy wydrukować.\n",
    "\n",
    "3. Przy użyciu operatora `%`:"
   ]
  },
  {
   "cell_type": "code",
   "execution_count": null,
   "id": "c72f6d99",
   "metadata": {},
   "outputs": [],
   "source": [
    "print(tekst + \"\\n\" + \"2021: %d\\n2020: %d\\n2019: %d\\n2018: %d\\n2017: %d\" % (rok_2021, rok_2020, rok_2019, rok_2018, rok_2017))"
   ]
  },
  {
   "cell_type": "markdown",
   "id": "c51e2999",
   "metadata": {},
   "source": [
    "---\n",
    "Operator działa następująco: za `%d` możemy podstawić liczbę całkowitą. Za `%g` liczbę zmiennoprzecinkową, natomiast za `%s` zmienną typu string. Przykłady:"
   ]
  },
  {
   "cell_type": "code",
   "execution_count": null,
   "id": "12e56377",
   "metadata": {},
   "outputs": [],
   "source": [
    "'W łańcuchu możemy zamieścić %s, możemy też zamieścić liczbę całkowitą %d i liczbę zmiennoprzecinkową %g.' % ('słowo', -5, 1.89)"
   ]
  },
  {
   "cell_type": "markdown",
   "id": "476fcb0f",
   "metadata": {},
   "source": [
    "---\n",
    "---\n",
    "## Metody obiektów będących stringami"
   ]
  },
  {
   "cell_type": "markdown",
   "id": "c1aa223a",
   "metadata": {},
   "source": [
    "Metodami nazywami funkcje, które pozwalają nam na wykonywaniu operacji na zmiennych konkretnego typu, wykorzystując składnię: zmienna`.metoda([opcjonalne_argumenty])`. Jeżeli chcemy zweryfikować jakie metody są dostępne w odniesieniu do konkretnej zmiennej, możemy użyć w tym celu funkcji `dir`, wpisując jako argument typ zmiennej `str` albo wykorzystując jako argument obiekt konkretnego typu, która zwróci nam listę z dostępnymi metodami:"
   ]
  },
  {
   "cell_type": "code",
   "execution_count": null,
   "id": "47ce3867",
   "metadata": {},
   "outputs": [],
   "source": [
    "print(dir(str))"
   ]
  },
  {
   "cell_type": "code",
   "execution_count": null,
   "id": "f4577148",
   "metadata": {},
   "outputs": [],
   "source": [
    "print(dir(movie))"
   ]
  },
  {
   "cell_type": "markdown",
   "id": "b7183033",
   "metadata": {},
   "source": [
    "---\n",
    "Jak widać, metod jest wiele. Poniżej przedstawiamy tabelę z naszym zdaniem najczęściej wykorzystywanymi, a następnie przykłady ich użycia. Pod linkiem https://docs.python.org/3/library/stdtypes.html#string-methods można znaleźć bardziej szczegółowe opisy wszystkich dostępnych metod. Parametry w nawiasach prostokątnych są opcjonalne.\n",
    "\n",
    "|  | Metoda | Opis |\n",
    "| --- | --- | --- |\n",
    "| 1. | **.capitalize()** | Zwraca kopię łańcucha zapisaną z pierwszej dużej litery i z resztą liter sprowadzoną do ich małych odpowiedników. |\n",
    "| 2. | **.count(sub[, start[, end]])** | Pozwala wyznaczyć liczbę wystąpień określonego łańcucha w danym łańcuchu. Możemy ograniczyć się do podłańcucha przeszukiwanego łańcucha. |\n",
    "| 3. | **.endswith(suffix[, start[, end]])** | Zwraca `True` jeśli dany łańcuch występuje na końcu przeszukiwanego łańcucha. |\n",
    "| 4. | **.find(sub[, start[ ,end]])** | Zwraca indeks od którego zaczyna się pierwszy odnaleziony podłańcuch w łańcuchu. |\n",
    "| 5. | **.isnumeric()** | Zwraca `True`, jeśli wszystkie znaki w łańcuchu są cyframi. |\n",
    "| 6. | **.lower()** | Zwraca kopię łancucha sprowadzając wszystkie litery do małych. |\n",
    "| 7. | **.replace(old, new[, count])** | Zwraca kopię przekształconego łańcucha, w którym za łańcuch `old` podstawiony jest `new`. |\n",
    "| 8. | **.split(sep=None, maxsplit=- 1)** | Zwraca listę z elementami łańcucha podzielonymi względem parametru `sep`. Elementy z listy wywołujemy tak samo jak z ze zmiennej typu string. |\n",
    "| 9. | **.startswith(prefix[, start[, end]])** | Zwraca `True` jeśli dany łańcuch występuje na początku przeszukiwanego łańcucha. |\n",
    "| 10. | **.upper()** | Zwraca kopię łancucha sprowadzając wszystkie litery do wielkich. |\n",
    "\n",
    "**Uwaga!** Metody przekształcające w jakiś sposób łańcuch nie robią tego trwale, tworzą kopię naszego łańcucha, więc jeśli chcesz zapisac dane zmiany, to musisz nadpisać jakąś zmienną albo stworzyć nową."
   ]
  },
  {
   "cell_type": "markdown",
   "id": "e1329189",
   "metadata": {},
   "source": [
    "---\n",
    "### 1. capitalize()"
   ]
  },
  {
   "cell_type": "code",
   "execution_count": null,
   "id": "c1b6ebae",
   "metadata": {},
   "outputs": [],
   "source": [
    "# (Gdyby ktoś się zastanawiał &ndash; poniższe zdanie ma w istocie pełny logiczny sens, informuje o zamiarze małej wydry wydarcia innej wydrze małej wydry)\n",
    "sentence = 'wydrze wydrzę wydrze wydrze wydrze wydrzę'"
   ]
  },
  {
   "cell_type": "code",
   "execution_count": null,
   "id": "527554d1",
   "metadata": {},
   "outputs": [],
   "source": [
    "sentence.capitalize()"
   ]
  },
  {
   "cell_type": "code",
   "execution_count": null,
   "id": "079dda35",
   "metadata": {},
   "outputs": [],
   "source": [
    "'wydRzE wYdrzE wYdrze wydrzE Wydrze wydrZę'.capitalize()"
   ]
  },
  {
   "cell_type": "markdown",
   "id": "d91f9b20",
   "metadata": {},
   "source": [
    "---\n",
    "### 2. count(sub[, start[, end]])"
   ]
  },
  {
   "cell_type": "code",
   "execution_count": null,
   "id": "05657265",
   "metadata": {},
   "outputs": [],
   "source": [
    "# liczba liter 'w' w zdaniu\n",
    "sentence.count('w')"
   ]
  },
  {
   "cell_type": "code",
   "execution_count": null,
   "id": "c4dbc2f0",
   "metadata": {},
   "outputs": [],
   "source": [
    "# liczba liter 'w' w zdaniu między 5 i 10 znakiem\n",
    "sentence.count('w', 5, 10)"
   ]
  },
  {
   "cell_type": "markdown",
   "id": "5b88f7a2",
   "metadata": {},
   "source": [
    "---\n",
    "**3. endswith(suffix[, start[, end]])**"
   ]
  },
  {
   "cell_type": "code",
   "execution_count": null,
   "id": "3347df11",
   "metadata": {},
   "outputs": [],
   "source": [
    "sentence.endswith('wydrzę')"
   ]
  },
  {
   "cell_type": "code",
   "execution_count": null,
   "id": "9d169735",
   "metadata": {},
   "outputs": [],
   "source": [
    "sentence.endswith('wydrze')"
   ]
  },
  {
   "cell_type": "markdown",
   "id": "99083cea",
   "metadata": {},
   "source": [
    "---\n",
    "### 4. find(sub[, start[ ,end]])"
   ]
  },
  {
   "cell_type": "code",
   "execution_count": null,
   "id": "c96f7e79",
   "metadata": {},
   "outputs": [],
   "source": [
    "sentence.find('wydrze')"
   ]
  },
  {
   "cell_type": "code",
   "execution_count": null,
   "id": "b9388f3a",
   "metadata": {},
   "outputs": [],
   "source": [
    "# Gdybyśmy chcieli znaleźć indeks drugiego wystąpienia słowa 'wydrze', moglibyśmy postąpić tak:\n",
    "first_occurence = sentence.find('wydrze')\n",
    "sentence.find('wydrze', first_occurence + 1)"
   ]
  },
  {
   "cell_type": "markdown",
   "id": "8d3cb262",
   "metadata": {},
   "source": [
    "---\n",
    "### 5. isnumeric()"
   ]
  },
  {
   "cell_type": "code",
   "execution_count": null,
   "id": "4e5c8082",
   "metadata": {},
   "outputs": [],
   "source": [
    "'0123'.isnumeric()"
   ]
  },
  {
   "cell_type": "code",
   "execution_count": null,
   "id": "52f453db",
   "metadata": {},
   "outputs": [],
   "source": [
    "'123'.isnumeric()"
   ]
  },
  {
   "cell_type": "markdown",
   "id": "2edfd29c",
   "metadata": {},
   "source": [
    "---\n",
    "### 6. lower()"
   ]
  },
  {
   "cell_type": "code",
   "execution_count": null,
   "id": "d58d3690",
   "metadata": {},
   "outputs": [],
   "source": [
    "'WYDRZE WYDRZę WYDRZE WYDRZE WYDRZE WYDRZę'.lower()"
   ]
  },
  {
   "cell_type": "markdown",
   "id": "f51704b6",
   "metadata": {},
   "source": [
    "---\n",
    "### 7. replace(old, new[, count])"
   ]
  },
  {
   "cell_type": "code",
   "execution_count": null,
   "id": "36480412",
   "metadata": {},
   "outputs": [],
   "source": [
    "sentence.replace('w', 'x')"
   ]
  },
  {
   "cell_type": "markdown",
   "id": "ba2d532f",
   "metadata": {},
   "source": [
    "---\n",
    "### 8. split(sep=None, maxsplit=- 1)"
   ]
  },
  {
   "cell_type": "code",
   "execution_count": null,
   "id": "c92f152d",
   "metadata": {},
   "outputs": [],
   "source": [
    "sentence.split(' ')"
   ]
  },
  {
   "cell_type": "code",
   "execution_count": null,
   "id": "94c38a34",
   "metadata": {},
   "outputs": [],
   "source": [
    "# Podzieliliśmy zdanie na słowa. Gdybyśmy chcieli odwołać się do konkretnego elementu:\n",
    "\n",
    "sentence_splitted = sentence.split(' ')\n",
    "sentence_splitted[-1]"
   ]
  },
  {
   "cell_type": "markdown",
   "id": "5b6a2801",
   "metadata": {},
   "source": [
    "---\n",
    "### 9. startswith(prefix[, start[, end]])"
   ]
  },
  {
   "cell_type": "code",
   "execution_count": null,
   "id": "089d14f5",
   "metadata": {},
   "outputs": [],
   "source": [
    "sentence.startswith('w')"
   ]
  },
  {
   "cell_type": "markdown",
   "id": "5d4303f1",
   "metadata": {},
   "source": [
    "---\n",
    "### 10. upper()"
   ]
  },
  {
   "cell_type": "code",
   "execution_count": null,
   "id": "57e0d65c",
   "metadata": {},
   "outputs": [],
   "source": [
    "sentence.upper()"
   ]
  },
  {
   "cell_type": "markdown",
   "id": "90f857a5",
   "metadata": {},
   "source": [
    "---\n",
    "**Uwaga!** Możemy wykorzystywać kilka metod na raz."
   ]
  },
  {
   "cell_type": "code",
   "execution_count": null,
   "id": "b7e7b065",
   "metadata": {},
   "outputs": [],
   "source": [
    "sentence.upper().replace('W','x').replace('E','e')"
   ]
  },
  {
   "cell_type": "markdown",
   "id": "c00defe1",
   "metadata": {},
   "source": [
    "---\n",
    "---\n",
    "## Rozszerzona wersja zadań domowych"
   ]
  },
  {
   "cell_type": "markdown",
   "id": "0b274eb3",
   "metadata": {},
   "source": [
    "### Zadanie 7. Rozszerzone\n",
    "\n",
    "Arkusz kalkulacyjny Excel ma opcję zapisania pliku w postaci csv (comma-separated values). Gdybyśmy dysponowali tabelą, w której przechowywalibyśmy informacje na temat imienia, nazwiska oraz wieku danej osoby, na przykład taką:\n",
    "\n",
    "| Imię | Nazwisko | Wiek |\n",
    "| --- | --- | --- |\n",
    "| Jan | Kowalski | 24 |\n",
    "| Maria | Nowak | 30 |\n",
    "| Stefan | Banach | 130 |\n",
    "\n",
    "i zapisalibyśmy taki plik przy użyciu rozszerzenia .csv, to otrzymalibyśmy w rezultacie plik o następującej strukturze:\n",
    "\n",
    "Imię, Nazwsiko, Wiek\n",
    "\n",
    "Jan,Kowalski,24\n",
    "\n",
    "Maria,Nowak,30\n",
    "\n",
    "Stefan,Banach,130\n",
    "\n",
    "Pliki w postaci formatu .csv są bardzo wygodne do przechowyania danych, ponieważ nie zajmują tak dużo miejsca jak np. xslx i są dużo uniwersalniejsze.\n",
    "\n",
    "W zadaniu rozważamy łańcuchy znaków w postaci imię,nazwisko,wiek. Napisz funkcję o nazwie *age_from_string_ext*, która zwracać będzie wiek w typie int, z łańcuchów takiej postaci, np. **age_from_string_ext('Stefan,Banach,130') = 130**. Zadbaj o to, żeby użytkownik wpisywał łańcuchy odpowiednieogo typu. Jeżeli użytkownik nie podstawi za parametr *string* zmiennej typu str, to funkcja powinna zwrócić zmienną typu string: `Parametr powinien byc typu str`. Z kolei, jeśli okaże się, że łańcuch jednak nie będzie imieniem, nazwiskiem i wiekiem oddzielonymi przecinkami, to powinna zwrócić stringa: `Lancuch powinien byc postaci \"Imie,Nazwisko,Wiek\"`. Oczywiście nie chodzi tutaj o weryfikowanie, czy pierwsza sekwencja znaków rzeczywiście jest imieniem, a druga nazwiskiem, wystarczy, że w łańcuchu będziemy mieć wyraźny podział przecinkami na 3 stringi i że ostatni string będzie liczbą. Dopuść możliwość występowania w łańcuchu spacji, np. dla łańcucha `'Jan, Kowalski, 24'` funkcja także powinna zwracać `24`. \n",
    "\n",
    "**Uwaga!** Przydatne mogą okazać się następujące metody: **.split()**, **.replace()** oraz **.isnumeric()**, wytłumaczone w Dodatek: Metody na końcu notebooka. Powodzenia!"
   ]
  },
  {
   "cell_type": "code",
   "execution_count": null,
   "id": "d46d13ee",
   "metadata": {
    "tags": []
   },
   "outputs": [],
   "source": [
    "def age_from_string_ext(string):\n",
    "    ..."
   ]
  },
  {
   "cell_type": "code",
   "execution_count": null,
   "id": "fea32d4c",
   "metadata": {
    "tags": []
   },
   "outputs": [],
   "source": [
    "# Tutaj możesz testować swoje rozwiązanie\n",
    "\n",
    "print(age_from_string_ext('Stefan,Banach,130'))\n",
    "print('\\n')\n",
    "print(age_from_string_ext('Maria, Nowak, 24'))\n",
    "print('\\n')\n",
    "print(age_from_string_ext('interstellar'))\n",
    "print('\\n')\n",
    "print(age_from_string_ext(100))"
   ]
  },
  {
   "cell_type": "code",
   "execution_count": null,
   "id": "e0cc03e0",
   "metadata": {
    "deletable": false,
    "editable": false
   },
   "outputs": [],
   "source": [
    "grader.check(\"Q9\")"
   ]
  },
  {
   "cell_type": "markdown",
   "id": "031e953d",
   "metadata": {},
   "source": [
    "### Zadanie 8. Rozszerzone\n",
    "\n",
    "Napisz funkcję o nazwie **pesel_interpretation_ext**, która będzie analizowała numemry PESEL. Prace nad numerami PESEL (Powszechny Elektroniczny System Ewidencji Ludności) rozpoczęły się w roku 1972. Są to 11-cyfrowe identyfikatory numeryczne jednoznacznie identyfikujące określoną osobę fizyczną (więcej informacji pod linkiem: https://pl.wikipedia.org/wiki/PESEL). Jest kilka zasad ich tworzenia, my jednak ograniczymy się do części. Przede wszystkim ograniczymy się do numerów PESEL osób, które urodziły się w stuleciu 1900-1999. Najistotniejszą z zasad, którą należy uwzględnić, jest wyznaczenie następującej liczby kontrolnej:\n",
    "\n",
    "$$\n",
    "c_1\\cdot1 + c_2\\cdot3 + c_3\\cdot7 + c_4\\cdot9 + c_5\\cdot1 + c_6\\cdot3 + c_7\\cdot7 + c_8\\cdot9 + c_9\\cdot1+c_{10}\\cdot3+c_{11}\\cdot1,\n",
    "$$\n",
    "\n",
    "gdzie:\n",
    "\n",
    "| $2$ | $6$ | $0$ | $3$ | $0$ | $8$ | $3$ | $6$ | $4$ | $7$ | $9$ |\n",
    "| --- | --- | --- | --- | --- | --- | --- | --- | --- | --- | --- |\n",
    "| $c_1$ | $c_2$ | $c_3$ | $c_4$ | $c_5$ | $c_6$ | $c_7$ | $c_8$ | $c_9$ | $c_{10}$ | $c_{11}$ |\n",
    "\n",
    "i zweryfikowanie, czy ostatnia cyfra tej liczby jest zerem. Możemy to zrobić sprawdzając, czy liczba dzieli się przez 10 bez reszty lub zmieniając typ wyniku na zmienną string i wyznaczając ostatnią cyfrę. W rozważanym dalej przypadku PESELu `26030836479` liczba kontrolna jest równa: 180, więc dzieli się przez 10. Jednak liczba kontrolna nie weryfikuje, czy początkowa data zapisana jest prawidłowo. Na datę sklada się 6 cyfr. Pesel zaczynający się na `260308...` koduje nam 8 marca 1926, a więc pierwsze dwie cyfry są rokiem, kolejne miesiącem i ostatnie dniem. Funkcja, którą nazwiemy **pesel_interpretation()** powinna działać tak, że jeżeli trzecia i czwarta cyfra wskazuje na miesiąc powyżej 12, powinniśmy otrzymać stringa `Miesiac niepoprawny`. Natomiast jeśli dzień będzie liczbą powyżej 31, to `Dzień niepooprawny`. Oczywiście problemów może być więcej, np. zakodowanie 31 kwietnia albo 29 lutego 1901 roku, kiedy rok nie był przestępny, jednak w takie szczegóły już wchodzić nie będziemy. W PESELu kodowana jest także płeć osoby w cyfrze $c_{10}$. Jeżeli cyfra jest parzysta, osoba jest kobietą, jeśli parzysta &ndash; mężczyzną. Funkcja ma zwracać następujące komunikaty dla danych parametrów:\n",
    "\n",
    "1. Jeżeli wprowadzony zostanie nieprawidłowy numer ze względu na typ, np. `26030836479` zamiast `'26030836479'` funkcja zwróci zmienną string: `Wprowadzany PESEL powinien byc typu str`,\n",
    "2. Jeżeli liczba cyfr będzie nieodpowiednia `'2603383647'` albo jeśli zamiast jakiejś cyfry będzie inny znak `'2603383647a'` funkcja zwróci zmienną string: `PESEL powinien skladac sie z 11 cyfr`,\n",
    "3. Jeżeli warunek kontrolny nie będzie spełniony funkcja zwróci `PESEL niepoprawny`,\n",
    "4. Jeźeli miesiąc nie będzie poprawny `Miesiac niepoprawny`,\n",
    "5. Jeżeli dzień nie będzie poprawny `Dzien niepoprawny`,\n",
    "6. Jeżeli wprowadzony zostanie prawidłowo, funkcja zwróci stringa z informacjami: Rok urodzenia, Miesiąc, Dzień, Płeć. Na przykład dla numeru `26030836479` powinniśmy otrzymać:\n",
    "\n",
    "     Rok urodzenia: 1926\n",
    "     \n",
    "     Miesiac: 3\n",
    "     \n",
    "     Dzien: 8\n",
    "     \n",
    "     Plec: Mezczyzna\n",
    "     \n",
    "Na stronie https://pesel.cstudios.pl/o-generatorze/generator-on-line możesz generować prawidłowo skonstruowane PESELe do testów.\n",
    "\n",
    "**Uwaga!** Przydatne mogą okazać się następujące metody: **.isnumeric()**, wytłumaczona w Dodatek: Metody na końcu notebooka. Powodzenia!"
   ]
  },
  {
   "cell_type": "code",
   "execution_count": null,
   "id": "b9d869ea",
   "metadata": {
    "tags": []
   },
   "outputs": [],
   "source": [
    "def pesel_interpretation_ext(pesel):\n",
    "    ..."
   ]
  },
  {
   "cell_type": "code",
   "execution_count": null,
   "id": "1c2788ed",
   "metadata": {
    "tags": []
   },
   "outputs": [],
   "source": [
    "# Tutaj możesz testować swoje rozwiązanie\n",
    "\n",
    "print(pesel_interpretation_ext('26030836479'))\n",
    "print('\\n')\n",
    "print(pesel_interpretation_ext(26030836479))\n",
    "print('\\n')\n",
    "print(pesel_interpretation_ext('26033836476'))\n",
    "print('\\n')\n",
    "print(pesel_interpretation_ext('26130836472'))\n",
    "print('\\n')\n",
    "print(pesel_interpretation_ext('2603383647'))\n",
    "print('\\n')\n",
    "print(pesel_interpretation_ext('2603383647a'))\n",
    "print('\\n')\n",
    "print(pesel_interpretation_ext('26033836475'))"
   ]
  },
  {
   "cell_type": "code",
   "execution_count": null,
   "id": "88905546",
   "metadata": {
    "deletable": false,
    "editable": false
   },
   "outputs": [],
   "source": [
    "grader.check(\"Q11\")"
   ]
  }
 ],
 "metadata": {
  "kernelspec": {
   "display_name": "Python 3 (ipykernel)",
   "language": "python",
   "name": "python3"
  },
  "language_info": {
   "codemirror_mode": {
    "name": "ipython",
    "version": 3
   },
   "file_extension": ".py",
   "mimetype": "text/x-python",
   "name": "python",
   "nbconvert_exporter": "python",
   "pygments_lexer": "ipython3",
   "version": "3.8.11"
  }
 },
 "nbformat": 4,
 "nbformat_minor": 5
}
